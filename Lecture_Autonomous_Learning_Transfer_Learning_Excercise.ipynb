{
  "nbformat": 4,
  "nbformat_minor": 0,
  "metadata": {
    "colab": {
      "provenance": [],
      "include_colab_link": true
    },
    "kernelspec": {
      "name": "python3",
      "display_name": "Python 3"
    },
    "language_info": {
      "name": "python"
    }
  },
  "cells": [
    {
      "cell_type": "markdown",
      "metadata": {
        "id": "view-in-github",
        "colab_type": "text"
      },
      "source": [
        "<a href=\"https://colab.research.google.com/github/Zain-mahfoud94/Python-Uni/blob/main/Lecture_Autonomous_Learning_Transfer_Learning_Excercise.ipynb\" target=\"_parent\"><img src=\"https://colab.research.google.com/assets/colab-badge.svg\" alt=\"Open In Colab\"/></a>"
      ]
    },
    {
      "cell_type": "markdown",
      "metadata": {
        "id": "mRAEUfcuO2Qs"
      },
      "source": [
        "# Excercise: Transfer Learning\n",
        "\n",
        "by Stephan Vogt\n",
        "\n",
        "### Lecture: Autonomous Learning, WS 2021/22\n",
        "\n",
        "The code below shows a toy example of transfer learning. Here, we use the famous MNIST data set [1]. The data set comprises 60.000 training and 10.000 test samples. Each input is given with 784 dimensions (or as an 28 x 28 grayscale image). Each sample is one of ten classes, which represent the digits 0, 1, ... 9. In our case, we furthermore split the dataset into a source and a target dataset.\n",
        "\n",
        "The code below makes extensive use of the pytorch library. If you need more input, I recommend: https://www.youtube.com/playlist?list=PLqnslRFeH2UrcDBWF5mfPGpqQDSta6VK4\n",
        "\n",
        "Your tasks in this exercise are given with the following questions. To all questions: please note your arguments.\n",
        "\n",
        "1. Execute the code below and trace the individual steps. Which type of transfer learning is applied? Inductive, transductive or unsupervised transfer learning?\n",
        "1. Can the applied method be referred to as \"multi-task learning\"?\n",
        "2. Are source and target domain the same?\n",
        "2. How about the source and target tasks? Are they different?\n",
        "3. Analyse the train function: Which strategy is applied to prevent overfitting?\n",
        "3. Write down the Test-Accuracy for the model with and without transfer learning. Repeat the training several times. How does the results vary? What is your conclusion?\n",
        "3. Change the plotting of the training progress by setting replacing the x-axis with the training time in seconds instead of the number of \"iteration / 20\". What is the difference between the transfer approach and the no-transfer approach on the target data?\n",
        "3. Manipulate the the hyper-parameter `num_features` (parameter of the class constructor in `MlpClassifier`). Which influence does it have on the model quality. What is your expectation? How do you explain your observation?\n",
        "4. (Bonus) The implemented method can be referred to as \"hard parameter sharing\". Adapt the model in order to implement a \"soft parameter sharing\" approach. Can you show a relation to the hierarchical Bayesian multi-task-learning, which was described in the lecture?\n",
        "\n",
        "\n",
        "[1] LeCun, Yann. \"The MNIST database of handwritten digits.\" http://yann. lecun. com/exdb/mnist/ (1998).\n",
        "\n",
        "Example image (i.e. input sample) of the MNIST data set, aranged as a 28 x 28 matrix with the label 4:\n"
      ]
    },
    {
      "cell_type": "markdown",
      "metadata": {
        "id": "L1Q3k0IEClTL"
      },
      "source": [
        "![image.png](data:image/png;base64,iVBORw0KGgoAAAANSUhEUgAAAX0AAAFyCAYAAAAZLwqEAAAgAElEQVR4nO3dd1xUd77/8ezd3bt79/7u7t7dvffupoImZo1pWLDEBoItiUaNYgEkgoCoiIA06RhRbFii0WiiMWvsNQpoEDEUpYgCCoKItJEiIm0KzMz790eu3CWJ+EUznCnvz+Px/ENgjt/5DvPiOMDxGXA43RgnJye4uLggPT0dKpUKSqUS5eXliIuLg4ODA8aPH4/Q0FC0trZCo9Hg1q1b2LFjBywtLZGamgoA0Gg0kMvliImJwaRJkzB79mzEx8ejqqoKbW1taGtrw82bN+Hs7IyhQ4fi1q1bkMvlyM3Nxfr16zF79mykpKQAAFQqFfLy8rBw4UJMnToVR48eRW1tLTQazSPvQ2NjI7Zt2wYLCwtkZ2dDoVAAAJRKJQ4ePAhfX19ERUVBq9U+8hgqlQo3b95EZmYmUlNTHykrKwu3bt2CWq3+yeOo1WpUV1dj2rRpmDdvHo4cOQKVSoWrV6/C29sbVlZWyMjIQFNT00/eXqPRQCaToa6uDgqFAm1tbcjIyIC3tzfGjx+P1NRUNDQ0dKy5pKQE9+/fh1KphEwmQ2xsLBwdHeHv7w+5XA6NRoPW1lbU1dWhrq4OSqUS9fX1SExMxHvvvYdly5YhMTHx8Z8oHL2dZ6ReAMewxsnJCSNGjMCCBQsQFRWFqKgoBAcHw8fHB3PnzkVMTAzS0tI6Pr6pqQlxcXF46623cOzYMTx48KDjfdnZ2YiNjYWDgwO8vLywfPlyREVFISYmBpGRkViwYAGWL1+Oe/fuoa2tDXV1dTh9+jRGjhyJ48ePQ6FQoKGhARs3bsSQIUPQt29fLF26FBEREVi5cmUnBw4cQFFREdRqNa5evYrVq1dj5syZKCsr64h7a2srli9fjuDgYJw5c6bH9lShUGDPnj3w8vKCi4sLwsPD4eXlBXd3d0RGRqKurg5qtRr19fW4fPkydu3ahevXrwP4PuTJycnYvn07oqKiEBkZCV9fXyxZsgRr1qxBfX19xxec+vp6bN68GR9//HHH4+bi4oKPP/4YSUlJHeupra1FcnIyoqOjsWLFCoSFhcHX1xfz5s3D4cOHUV1d3WN7w/n5h9HndGtWrFiBd999F1ZWVrCxsYGtrS2mTp0KT09PfPnllyguLv7RWXZ+fj6mT5+OzZs349q1ax1v12q1uH37Nvbs2QN3d3e89957sLW1xeTJk+Hi4oJPPvkE2dnZHcfTaDQoKCjAhAkT8Omnn6K0tBT19fWIjIzElClTMGrUKIwZM+YnBQYGIi0tDUqlEl9++SVCQkLw2WefdToLLi8vx5w5c7Bu3TpUVlb22J5qNBrU1dXhq6++gpOTE6ysrDB16lSsX78eN27c6Ih2RUUFDh8+DDc3N5w/f75j3QkJCVi2bBnGjx+PMWPGwNHREbt27UJpaWmnx6KmpgZBQUGYOnUqbG1t8f777yMkJASpqalQqVQdH1ddXY3Tp09j1qxZGDduHN599124urri6NGjPbovHN0Mo8/p1qhUKigUCsjlcsjlcigUCigUCiiVSrS3t//kyyr37t3D6dOnsWTJEuzevbvT+zQaDdrb26FUKjuO+/B4bW1tPzpeXV0ddu3ahbCwMBw8eBBarfZHa/opKpUK7e3tUKlU8PLygq+vL6qrq9He3g4AuHv3Lo4dOwY3NzccOXKky5d2dDFarbZjHx7uwQ/v/z9/zD+/XKRWqzvtwcPH4of34Z/36iGVSvWjl560Wi3UanWnj3vUMTmGN4w+R+fT1taG2tpa5OXloby8/KmOpVKpUFFRgcLCQlRVVXX79hqNBnl5ebh+/TpUKlVHxBQKBWQyGXJzc3H37t2nWiOHo8/D6HM4HI4JDaPP4XA4JjSMPofD4ZjQMPocDodjQsPoczgcjgmNXke/4X4DqiqrUFUpIyKiLsgqZZDJZJDL5V12Va+jH7I8FG/1tcDAvoOJiKgLg14fgqFDhiIhIaHLruo8+jKZDAkJCYiMjERERAR2796N7Oxsodu6z1uA/37mObzxi8FERNSFfr8ZiD69XsXJkye77KpOo6/VanHmzBkEBQVh7ty5cHFxwYIFC7Bx40Y0NTU98iJUD8dj3iKYPdMXNr/4kIiIumD1u0kY9JblY68bpbPoa7VatLW1wc/PD/Pnz0dZWRlaWlqwdu1azJ07F7m5uWhpaenyGIw+EZEYyaOvVCpRUFAAf39/hIaGdlwv5OTJkwgJCcH27dsf+2v0jD4RkRjJo9/a2ork5GQsX74csbGxHW9PTU3F2rVrERQUhJKSki6PwegTEYmRPPrNzc04ffo0wsLCsH379o63Z2VlYfPmzVi8eDGKioo63eb+/fsoLi5GdnY2srOzMWPSTJg986rkm0lEpO8MMvrnzp3D0qVLMXjwYAwePBjP/tdzeOGZlyXfTCIifSd59OVyOdLS0hAUFIS1a9d2vD05ORkxMTEIDw9HaWlpp9vU1dXhxo0bHf/V3NR3p+MlnukTET2W5NFva2tDeXk5/P394efnh8bGRrS1tWHfvn3w8fHBwYMHUVtb2+Ux+Jo+EZEYyaMPfP8/+qxcuRILFizA+fPnkZ2djYiICHh4eHT8Z9ddDaNPRCRGL6IPABkZGQgPD8fAgQMxcOBA2NvbY8+ePVCr1Y/9r9cYfSIiMXoT/YaGBuTn5+PUqVM4efIkUlNTcefOHaHbMvpERGL0JvpPM4w+EZEYRp+IyIQw+kREJoTRJyIyIYw+EZEJYfSJiEwIo09EZEIYfSIiE8LoExGZEEafiMiEMPpERCaE0SciMiGMPhGRCWH0iYhMCKNPRGRCGH0iIhPC6BMRmRBGn4jIhDD6REQmhNEnIjIhjD4RkQlh9ImITAijT0RkQhh9IiITwugTEZkQRp+IyIQw+kREJoTRJyIyIYw+EZEJYfSJiEwIo09EZEIYfSIiE8LoExGZEEafiMiEMPpERCaE0SciMiGMPhGRCWH0iYhMCKNPRGRCGH0iIhPC6BMRmRBGn4jIhDD6REQmhNEnIjIhjD4RkQlh9ImITIjeRP/u3bsoLCxEUVERioqKUFxcjKqqKqHbMvpERGL0JvqRkZEYPHgwRo0aBSsrK9jY2CAoKEjotow+EZEYvYm+n58fJk2ahP379+PkyZM4c+YMMjMzhW7L6BMRidGr6Lu6uqK+vh7t7e3dui2jT0QkRq+iP3fuXBQUFKCyshL379+HQqEQui2jT0QkRq+i//bbb2PSpEmYMmUKIiIikJycLHRbRp+ISIzeRP/bb7/Fjh07sH//fnzxxRcIDAxEWFgYiouLIZfLO33sjRs3cOjQIaxatQqrVq3CsIHD8eIzfSTfTCIifac30W9paUFzczO0Wi2am5uxZcsWzJ8/HydOnEBdXV2nj83JycHOnTvh6+sLX19f9H99IF585hXJN5OISN/pTfS1Wm2nP8fFxSE8PBwbNmxARUVFl7flyztERGIkj75Wq4VCoUBrayuUSiW0Wi2USiW2bduG+fPn49ixYz860//hMPpERGIkj75arUZdXR2OHz+O9evXY9OmTVi7di18fHwQFRWFkpKSH72m/8Nh9ImIxEge/fb2dtTU1GDr1q1wdnaGs7MzPvroI3z88cdITEwUOgajTz3iN7Nh+/8chU19cTrmDx0nzGHwexj9pgNGvun4WKN62Uu/H2SQJI/+w9FoND/yw9f5HzWMPvWEsc96YFy/IGGBS+3w3a1ewv6RNxCDTvqh37GQx+of7i35fpBh0pvoP80w+tQTxj67sHvR97FDaqm5sH03BmDQN/7odyLksfpHMvr0ZBh9IkGMPhkDRp9IEKNPxoDRJxLE6JMxYPSJBDH6ZAwYfSJBjD4ZA0afSBCjT8aA0ScSxOiTMWD0iQQx+mQMGH0iQYw+GQNGn0zbL2fA5td2QmzNF2HswCBh/gF2SL7dW9je64NMJ/q/nC687za/toPNb+xg8/sZ4v5jBmx+PeP7x1eE1PvRgxh9Mm1/dYPN6wFCRi3xx/Bd4pxOO+HTwhHCIq9OhMWpILx2PPSxLCJ8pN+7p/HfrsL7bvN6AMa+74OJO92ETYh1x/i3FmDcXz0e7y+uJhV+Rp9M2wuLYDM4QsiIFUEYmuAnbHbqPKy7YSMs8MoHphP95zyE991mcATGzl2Ody8uEndqESYM88T4F5Y81ri/LYTNr+yk35MewuiTaWP0pcHoS4bRJ9PG6EuD0ZcMo0+mjdGXBqMvGUafTBujLw1GXzKMPpk2Rl8ajL5kGH0ybYy+NBh9yTD6ZNoYfWkw+pJh9Mm0MfrSYPQlw+iTaWP0pcHoS4bRJ9PG6EuD0ZcMo09GZVh/T1jaBAgbu8gb0zcuFrImYRqOX7cWVzAMx2+9KezTxKGwnvQRhtm4PNaI/k6S7/UPjfnTR7B+zUdIoIsDTu0dK2zfibGIzh0nLPLiu5g2wp3R/wmMPhmVAR+E4g3P9cLGf+4Hp8tOQs4VvYM2WS9hVRW9unVp5UOn+uH9P06RfA+flPXzCzB6TLSQ7ZtmQCkzF1Ze8QqO3Hpb2FeZlpg9yoXR/wmMPhkVRl86jL5hYPTJqDD60mH0DQOjT0aF0ZcOo28YGH0yKoy+dBh9w8Dok1Fh9KXD6BsGRp+MCqMvHUbfMDD6ZFQYfekw+oaB0SejwuhLh9E3DIw+GRVGXzqMvmFg9ElvWf9+DoaMDsDgscHCgndOxbZEa2EnrgzDpZIBQq7e+Tuul5kLO3h6BBZ4uwmbN8cZY387XfJ9f1JDB3qg7/IYIeuOzYBCZibsRlk/ROePFxaRPAFT3pgF29/ZP95v58DmXwx337uL0Se9ZfVnRwywXwULl3XCdiaO6tbZdWmFGeSyl4TcLDfr1rFjd0+AlfVKYdaDgmHza8M94xw0ciFe2rJGSPS3dsL7Lpe9hGt33oT/1anCvBOn4v1XpN8TfcTok95i9A0Lo28YGH3SW4y+YWH0DQOjT3qL0TcsjL5hYPRJbzH6hoXRNwyMPuktRt+wMPqGgdEnvcXoGxZG3zAw+qS3GH3DwugbBkaf9Bajb1gYfcPA6JPeYvQNC6NvGBh90luMvmFh9A0Do089ZszvHWHd21PY++94IODTmQjZO0NY6rW3caeil7Db5eYoKTcTsv/ISEStnipswVwHjDFfJO5Zd9j8cobkj9NDVs/Ox6i+XsKc3OZjw/npQpKvvdOta+9kXB4Eh0gPYXP83DH+rzMl30N9pPPot7S0oLCwEBkZGbh06RJu3LgBtVoNANBoNGhtbcWNGzeQlZWFrKws5Ofno7m5GRqNhtE3MtbPumG0TbSwmU6+OJvbt1tn13WV4lfBbJN9H33RYwcsnw2bwRHizJdIvudPY5TFMrzzQYywmPVzhfddJevVratsppwa0b297x8Cm9/ZS76H+kjn0c/Pz4ezszNef/11vPzyy5gzZw5aWloAAEqlEtevX4e9vT0GDhyIAQMGYPr06cjJyYFCoWD0jQyjb1gYfeOk8+jLZDL84x//wM6dO+Hi4oKZM2eiubm54wvCpk2bEBAQgL1792Lfvn3w9/fHxo0bcfXqVUbfyDD6hoXRN046j75cLkdJSQkKCgqwYsWKTtGPi4vD3LlzsW/fPpSVlaGyshIHDx6Ei4sLTpw4wegbGUbfsDD6xqnHvpF79+5drF69ulP09+7di1GjRiE3NxcKhQJKpRJFRUUYN24cPvvss0ceq6mpCZWVlSgqKkJRURHmTHOA2TN/l3wzqWuMvmFh9I2TpNHfuXMnBgwYgDt37kCr1UKr1aKmpgYjRozA5s2bH3mspKQkBAUFwcbGBjY2NnjpWTO88MzLkm8mdY3RNyyMvnGSPPr9+/dHeXl5x8fV1dVh+PDhXUb/7t27yM7ORnx8POLj4/H+2Ml46ZlXJd9M6hqjb1gYfeMkafS/+OILDBkyBMXFxWhvb4darUZFRQWsra2xbds24WPzNX3DwOgbFkbfOEka/QMHDmD8+PFIS0tDY2MjmpqakJWVhQ8++AB79uwRPjajbxgYfcPC6BsnSaOfnJyMJUuWYMOGDbhx4waKioqwceNGeHt749y5c8LHZvQNA6NvWBh946Tz6FdWVmLnzp3w9/eHlZUV+vbtCx8fHxw+fBjJyck4cuQIPDw84O3tDR8fH7i5ueHgwYMoKytj9I0Mo29YGH3jpPPo37lzB+vXr4enpyfs7e0xa9YsuLi4YPfu3cjNzUV5eTnWrVsHHx8feHt7Y/Xq1SgpKYFKpWL0jcy0N+ZgoZ+rsLCYWcgq7IPrZWbCGqrMofrfqIhIyxyAbadshLjOnQubV7zF/Y+r5Hv+NKzHL8HoZeHC1n01S3jflTLzbl17J+XokO7tfS8v2PxmluR7qI94wTXqMcumW3XrrP3KHXM0VYlfiVEuewkKmVm3ziA375yFwTPXChn18kLJ97Anjfd3xrsXFwnbfO194X1XyMSvbiqXvYTvvnpT8v0wFow+9RhG37Aw+saJ0acew+gbFkbfODH61GMYfcPC6BsnRp96DKNvWBh948ToU49h9A0Lo2+cGH3qMYy+YWH0jROjTz2G0TcsjL5xYvSpxzD6hoXRN06MPvUYRt+wMPrGidGnHsPoGxZG3zgx+tTZv0yHzS9niPudHayfnSXEf74Nsu6YC8svM0dzN6Mvu/4aSq+8KWxVzBwMfW+FkFFm7tI/Pk/xuFr9YTZG/9le2PTwuXBOnyfsi/yxaJWZCakueRXF+W8KO7ZtqPR7aCQYferE9rdzMO4PHwkbM8IVw/Z4Cwk/Nw3NVb2EtVT1gqIbZ+1KmTmiAxwwZ9IyYZP6ucH6/80RMuZf7SR/fJ6U9b/NxJv2Iei7NFrYjjOTUV7WT1hFeW9UVvxNyI4jE/Gub5iwCdO8Jd9DY8HoUydj/80e4/7TWdgY2wUYmuAnJDJjRrcue9zWzcvvKmXm8HN37d4leJ9bIPme9wTrf5+Jfgui8ErkemH7kt7r1t7fr3oBZRV/FbL2H1PQ33mdsMHjQiTfQ2PB6FMnjL5xYvTpIUafOmH0jROjTw8x+tQJo2+cGH16iNGnThh948To00OMPnXC6BsnRp8eYvSpE0bfODH69BCjT50w+saJ0aeHGH3qhNE3Tow+PcToUye2f3CC7fMLhU36wB3zvnMWsvPqxG4Fv7WqNyoq/o6y8r7Clri5m0b0f2UHm/9wFPc/ThgX7I3xW/2EnUq37lb0qyp6IaP0FSGRn06B5aQIYcMG+0q/50aC0adOrM0XY7TVx8L8fN1QX9lbSGNV987cqypexY7C0dhUYC1strOXaUT/D06wGRgm7H2rAOw7NxiJxX2E3Snv1a3rHqWUDEDwtclCnDynYcy/2on71Qzp99xIMPrUiXVvT4weEy0s0M9VZ1fArKx4FVsLrLDuho2wmaYS/T86det+ThoThMNJA7p1ldOKiu5dCTO5ZCD8r04V4rhomvR7aKIYfeqE0TcQjD49IUafOmH0DQSjT0+I0adOGH0DwejTE2L0qRNG30Aw+vSEGH3qhNE3EIw+PSFGnzph9A0Eo09PiNGnThh9A8Ho0xNi9KkTRt9AMPr0hBh96oTRNxCMPj0hRp866e5lGPx9XdFYZS6kuUo8+A8vw7C9cDRib4wR5uDmiYnDQ8WZu2Hib6fqhfG/nQab30wXYvtfTt26n9Mm+OPYhQFILzUXVsnoGyVGnzr7t9kY80cnYVPfdYRPxmwh+67bdvuCa2UVfVFaLi4/fSByEoeIO9MfV46/ISTn+BvIOf5mN4gd96ETB4bBNtYDw9d7PpbzZ3NxJXGwsKsXLHG3pA/uV/YS1tLNL9IXSwYx+gaA0aenMnbEHLx7cZGQdVc/0PmllVXdPL5Kp8fu3vpzS/pj7LdeQpepXpQ6t9t70929787eKGXm+I7RNwiMPj0VRp/RZ/QNC6NPT4XRZ/QZfcPC6NNTYfQZfUbfsDD69FQYfUaf0TcsjD49FUaf0Wf0DQujT0+F0Wf0GX3DwujTU2H0GX1G37Aw+vRUGH1Gn9E3LIw+PRVGn9Fn9A0Lo09PhdFn9Bl9w6Lz6MtkMuzduxdRUVEIDQ3F559/DqVSCQC4c+cOjhw5gsjISERGRiI6Ohrr1q1DWloa7t27x+gbgLFm9pjg7Clk3hpnxGRNE/b5tQm4X/kyFDIzYd/HWZxSZq4Xx1bIzHC3/FUcybfG13m2j5VY+E63jv0k68+78wbOlgwSFpM+GWP3+wqxtZsv+eeuqdJ59IuLixEaGoo5c+Zg5MiRmDlzJpqbmwEAGRkZ8PPzg62tLezt7eHl5YWAgACcO3cO1dXVjL4BsP2dPca/sESI9UxvDEnwEzYn2RWy8j7dutJjdy/frJCJX0lSl8d+SB+O/VDcLctuXdb6o7h56BWzTkj/8Usl/9w1VTqPfkNDA1JSUpCZmYnw8PAfRT8iIgIxMTHIzc190r+C0ZcQo8/oM/qGRefRb29vR2NjI8rKyhAdHc3oGxlGn9Fn9A1Lj30j9+7du1i9evWPoh8YGIhZs2YhKCgIO3fuxKlTp1BTU4P29nbhYzP60mH0GX1G37BIGv3r168jNjYWjo6OcHBwgLOzM5YsWYL4+HjcvXv3kce6f/8+iouLkZWVhaysLEyfNBNmz7wq+WaaIkaf0Wf0DYuk0W9tbUVNTQ0UCgXa2tpw5coVBAQEwM3NDfHx8Y881tmzZ+Hl5YVBgwZh0KBB+NtfnsMLz7ws+WaaIkaf0Wf0DYuk0Ver1VCpVNBoNNBqtaitrUV8fDw+/PBD7Nu375HHunfvHgoKCpCWloa0tDRMe286XuKZviQYfUaf0Tcskka/ra0Nra2t0Gq1HR9z/PhxzJgxA/v37xc+Nl/Tlw6jz+gz+oZF59GXy+UoLS3Fd999B29vb0yYMAEZGRmorKxEaWkpsrOzcf36dRQUFCAhIQHh4eFYtmwZkpKSGH0DwOgz+oy+YdF59PPz8+Hi4gJLS0v89a9/xR/+8Ae89tprCAkJQUxMDJycnGBlZYXhw4fDxsYGDg4OuHjxIhoaGhh9A8DoM/qMvmHpkV/OSktLw5kzZ3DkyBEcOnQIJ06cQE5ODvLz85GamoqEhATExcXh3LlzSE9PR319PX9k01D8yg62/+4gZMxLjhg92knYhEkfwSvGDb6x7sKW7liAJbu6y12QLo/tjpjDs/GgrA9U/3vdnq517xIPcpkZ7lU+j5rK54Rt+ex9OCxaJGzSNA8MedtNyMi/OUr/uWuieME10ltWf3bEAPtVsHBZJ6yf93r0DTBM09YH4F5pX51czE0uM0NV5bMoq/irsMigmbC1jBBn5in55wwJPK8YfdJXjD6jTzp4XjH6pK8YfUafdPC8YvRJXzH6jD7p4HnF6JO+YvQZfdLB84rRJ33F6DP6pIPnFaNP+orRZ/RJB88rRp/0FaPP6JMOnleMPukrRp/RJx08rxh90leMPqNPOnheMfqkrxh9Rp908Lxi9ElfWf/7bLxj4YVhg7yFDR7hDcvRPvph4nJYzlolzGGZD+6V/F0n195pqHgZOy+ORXTCZGGOsz+C7QuLhNn85zzJP2fo8Rh9Il35H1fYDI4Q5j7bE/eKXhU6c+/uVTZlpa/i3Z0BwlfB7BWzDoMHe0i/h/SzY/SJdIXRJz3E6BPpCqNPeojRJ9IVRp/0EKNPpCuMPukhRp9IVxh90kOMPpGuMPqkhxh9Il1h9EkPMfpEusLokx5i9Il0hdEnPcToE+kKo096iNEnEmT729mw/Y+5wqZZzMMCN1dhH4fPRMPtPlDJzB+rpuJVXLg5RNjpqyMwPsgLrzuHCHvnVRfJ95x+fow+kaCxzy7EuH5BwgJ97JBaai7s6h1zyAWusNkm64W0oqEYkuAnbOghH1i/PEfyPSTpMfpEghh9MgaMPpEgRp+MAaNPJIjRJ2PA6BMJYvTJGDD6RIIYfTIGjD6RIEafjAGjTySI0SdjwOgTCWL0yRgw+kSCGH0yBow+kSBGn4wBo08k6sVFsOkfLCzIfyYy7pgLyyszh0I0+gVDMfRIgLBhu5fBuhejT4w+kbCh7/jCwnmNsOBtTrhf9ZKwB1VmQlfYVMrMkZ40HKNnRImbHI4x/+kg+R6S9Bh9IkGW1n54w3O9sJDP53Xr8sdy2Uvi0T87HFbWK8WNiMSY/3CUfA9Jeow+kSBGn4wBo08kiNEnY8DoEwli9MkYMPpEghh9MgaMPpEgRp+MAaNPJIjRJ2PA6BMJYvTJGDD6RIIYfTIGjD6Ztl/ZwfZfZwmxmuyFURHhwlYdmN2t4DdU9EZeUX9cuznwsQ4eGQdryxBx/YNg8+/20u83SY7RJ5M29g8fYfzznkKWfGyH1VfGCztdOET4zF0pM8fVmwMxcn8gLPaGPZZl4DLY/GamuH+dCZt/mS75fpP0dBr91tZW5OTkICoqCgEBAVi2bBmioqJw6tQpVFdXo62tDRUVFdi8eTMCAwMREBCADRs2oLS0FG1tbYw+6dzYPzpj/IteQnzXfohNBVbCzpUM7Fb0swss8fqXEXhx16rH+rtPkOR7R4ZJp9F/8OABUlNT4efnh6CgIAQGBsLHxwfu7u747rvvUFxcjBMnTmDBggXw9PTEkiVL4OrqiqNHj6K8vJzRJ51j9MnU6DT6zc3NqKioQF5eHlpaWtDW1obLly9j0KBB2LlzJ/bv34+lS5di3bp1uH79Om7evIkNGzbA19cXiYmJjD7pHKNPpkan0ddoNGhra4NSqYRGo4FWq0VBQQGmTp2KTz/9FCtWrMDEiRORkpKCBw8eoLGxERkZGZgyZQq+/PJLRp90jtEnU9Oj38iVy+VITU3F8OHD8dVXXyEmJgZDhgxBUVER2tvb0d7ejvLyclhbW2Pbtm2PPM6NGzdw8OBBREdHIzo6GsMGDseLz/SRfDPJ8DD6ZGp6LPpqtRp5eXnYsmULPvjgAyQlJWHr1q3o379/p9fv6+rqMMOo1I8AABWjSURBVHz4cGzatOmRx7p69Sp27doFX19f+Pr6ov8bA/HiM69IvplkeBh9MjU9En2tVouGhgZs2bIFU6ZMwaFDhyCTybBz504MGDAAZWVl0Gq1AIDa2lqMHDkSmzdvFj4+X96hJ8Xok6nRefS1Wi1UKhU2bNgAb29vbNq0CXfv3oVKpcLevXsxcuRI5OXlQaFQQKlUori4GOPGjcNnn33G6JPOMfpkanQefZlMhq+//hpLlixBbGws8vPzoVarAQBnzpyBg4MD9u/fj/LyclRVVeHw4cOYN28ejh07xuiTzjH6ZGp0Gn25XI4LFy7A1tYWM2fOxMaNG3H58mVcvnwZZWVlSE9Px4YNGxAYGIivv/4aBw8eREBAANavX48rV64w+qRzjD6ZGp1Gv7S0FOvWrcMvfvEL9OrVC2+99RYsLCxgYWGBNWvWICsrC3l5ebCzs4OFhQXefvttTJkyBVlZWZDL5Yw+6RyjT6ZG52f6d+7cQUJCAi5evIi0tLQOpaWlaGxsRHNzM65du9bx9pycHDQ2NkKj0TD6pHPD+nvCYu5KIduOTMat8teE3a3sA4XMTNi1VAtMeNcLI0b7PdaotxZLvndkmHjBNTJplqO80TdgvZCvEt7v1pm7QmbWrats5p1/Cx++5oHxLyx5rHH/5S753pFhYvTJpDH6ZGoYfTJpjD6ZGkafTBqjT6aG0SeTxuiTqWH0yaQx+mRqGH0yaYw+mRpGn0wao0+mhtEnk8bok6lh9MmkMfpkahh9MmmMPpkaRp+MivVz7rB+xUvYR54fIfT4NCGXrlqi/W5vYYV33sLeG2OEbTw6Ae8954ixv3d6LNvfOUi+12SYGH0yKlYWgRhtEy1s5SdTkVpqLkRW2Ruauy8LO188HI6XPxI2a48jxv5+uuR7SMaN0SejwugTdY3RJ6PC6BN1jdEno8LoE3WN0SejwugTdY3RJ6PC6BN1jdEno8LoE3WN0SejwugTdY3RJ6PC6BN1jdEno8LoE3WN0SejMsAxAG9EfCxs7ekPUFFhJuR2hTmKynsJ+zLOBu8tCxA20XEpbP9thuR7SMaN0Sej0i/QH+ZfrxAWe2my8AXRbpabCf+rILXUHLG7J8DKeqUw60HBsPm1neR7SMaN0SejwugTdY3RJ6PC6BN1jdEno8LoE3WN0SejwugTdY3RJ6PC6BN1jdEno8LoE3WN0SejwugTdY3RJ6PC6BN1jdEno8LoE3WN0SejwugTdY3RJ6MyadU8TP3WTdiBXGsoZGZCzhYNRGyutbCl6z6EdR8vYWNeXAibX/LaO6RbjD4ZleCdY7GpwEpYeunbUMrMhWy8NgnvXlwkbPyyeZLvB9EPMfpkVBh9oq4x+mRUGH2irjH6ZFQYfaKuMfpkVBh9oq4x+mRUGH2irjH6ZFQYfaKuMfpkVBh9oq4x+mRUGH2irjH6ZFQYfaKuMfpkVBh9oq7pNPrt7e2or69HTk4OMjMzkZGRgZycHJSXl0Mul6OpqQnFxcW4fPkyLl++jMzMTFy5cgUymQwKhYLRp25btPUDLM+ZJGzvdWukF1kKCTllh4nbFwsbb+8s+X4Q/ZBOo9/Q0IAzZ85gzJgx6N+/P9544w2MGTMGa9euxa1bt5CZmQkfHx+89tpreO2119C/f3+MGDECu3btwu3btxl96rbhKxdhaMKybvITYu3ojfFmS4SN/bOL5PtB9EM6jX5jYyPy8vKwb98+nDt3DufPn8eePXswceJEHD16FPHx8QgODoanpye+/PJLpKSk4NKlS6ioqIBcLmf0qdveWbkYQxL8hA2O94elICt7b4x/YYmwsX9i9En/6DT6SqUS9+/fR2VlJZRKJdRqNXJycmBtbY0dO3bg4MGDiIiIQExMDHJzc5/krwDA6NP/YfSJutaj38hVq9XIy8vD5MmT8dlnn2H//v0IDQ1FQEAATp48ieLiYlRWVkKhUECr1Qofl9Gnhxh9oq71aPQbGxuRkJCAfv364dChQ0hKSoK3tzf69++PQYMGYdKkSQgICEBBQQGUSqXwcRl9eojRJ+paj0VfpVLhzJkz8PLywvLly5Gbm4vKykokJyfj5MmTOHXqFD7//HP4+vpizZo1yM7OfuSxrl27ht27dyMwMBCBgYEY+KYlXnymj+SbSdJj9Im6pvPoa7VaqNVqfPfdd/j444+xZMkSpKWloaGhASqVCs3NzVCr1dBqtbh9+zZ27NgBe3t7HD169JHHvH79Or7++mtERUUhKioKQ/oPY/QJNr9g9IkeR+fRVyqVqKqqgo+PD5YuXYrjx4+jra2t0xeEh/PgwQOkp6dj8uTJ2LNnj/DfwZd36CFGn6hrOo9+YWEhfHx8sGjRIhw4cABNTU0d36SVy+Wor6/vCP+tW7ewefNmODo64vjx44w+dRujT9Q1nUa/rq4OBw4cQJ8+fTBq1Ci4uLh0vCRz9uxZJCQkYOPGjVixYgUiIyMRGBiIxYsX44svvsDNmzcZfeo2Rp+oazqNfk1NDU6ePIkPP/wQHh4e8PHx6XD8+HGcPn0a69atw7Jly+Dt7Y3AwEDExsaiuLiYl2GgJ8LoE3WNF1wjozI8dCGGHvEVNuSILwYfWSbEaoYXxj+3WNjY/+S1d0j/MPpkVKyfnwXrPnOEWXXDmD/Phu1vZgmz+ZWd5PtB9EOMPhGRCWH0iYhMCKNPRGRCGH0iIhPC6BMRmRBGn4jIhDD6REQmhNEnIjIhjD4RkQlh9ImITAijT0RkQhh9IiITwugTEZkQRp+IyIQw+kREJoTRJyIyIYw+EZEJYfSJiEwIo09EZEIYfSIiE8LoExGZEEafiMiEGEX0F3ssxkv/1QtDXh7RWe8RePNvA2DxvOWP32dkBr40FP3++20MMhsm+Vp07e3nBuGtZwdKvg7e35+Xpfk7eP1/LDDgxSGSr6VH7+9LPXt/B/YeArMXzXDs2LEuu6rX0T98+DBCQ0MRExPTyapVqzB69GjMnDnzR+8zNosWLUK/fv3g4+Mj+Vp07YMPPsC4ceMkX0dPmTx5MiZMmCD5OnRt+fLlGDBgAObPny/5WnpCYGAgLCws4Orq2qN/b3R0NIKCgpCTk9NlV/U6+o+a9vZ2zJ8/H9u2bZN6KTqfixcvYtiwYbh69arUS9H5REdHw9fXV+pl9NisWLECAQEBUi9D53Pnzh1MnDgRJ0+elHopPTIlJSUYN24cTp8+LfVSfnIYfT0fRt94h9E3zmH0dTCMvnEOo2+cw+jr1xhk9NVqNSIiInDw4EGpl6Lzyc7OhqOjI27evCn1UnQ+u3btwvr166VeRo/NZ599htjYWKmXofORyWRYuHAhLly4IPVSemQqKirg7u6OixcvSr2UnxyDjL5Go8HZs2dN4uy3oqIC+/btQ21trdRL0flcvnzZZMIAAJcuXdLbMPyc09jYiCNHjuDWrVtSL6VH5sGDBzh8+DBu374t9VJ+cgwy+gDQ1NQEuVwu9TJ0Pm1tbbh//z7a29ulXorOp7W1Fc3NzVIvo8emtbUVLS0tUi9D56NWq/HgwQOoVCqpl9Ijo+/312Cjz+FwOJzuj0FFv7m5GSUlJTh//jwSExORlZWFiooKaDQaqZemk7l58yYSExNx4cIFXLhwAcnJybh69apB39/a2lpkZmbi7NmzSExMRGFhYcf71Go1ampqkJaWhqSkJFy8eBH5+flQqVTQarUSrvrJp6amptP9/efvzVRXV+PKlSs4d+4ckpKScOHCBWRmZqKmpkZvzxK7GqVSidLSUqSkpCApKQlJSUkdz9H29nao1WpUV1d3enxv3LiBtrY2g3p81Wo1Wltbce3aNVy8eLHjvl6/fh337t2DSqXCrVu3kJqaim+//bbj+VtQUIAHDx5IvXzDin5+fj7Wrl2L119/Hf369cOMGTPw+eefQ6lUSr00nUxYWBheeeUVDBgwAIMGDcKQIUOwYMECgwzCwzl79izs7Oxgbm6OPn36ICQkpON9TU1NOH36NGxtbWFhYYFhw4bBy8sL1dXVBnuf4+LiMGPGDJiZmaFPnz4IDw/veN/Jkyfh6OgIMzMz9O/fH5aWlpg1axbi4+Nx7949CVf9ZFNTU4OtW7di9OjRsLCwgIWFBezs7LBr1y40NjaisbERx48fh42NDd5++20MGzYMfn5+qK2tRVtbm9TLFx65XI6SkhJ4eHjgnXfe6bivS5cuxfnz51FdXY01a9bAysoKr776KiwtLWFpaYnw8HBkZ2dLvXzDib5Go8G2bdvg4uKCU6dO4bvvvkN0dDTmz5+PgoICtLa2Sr3En33CwsIwefLkjjPAq1evori42KDOin44N2/exIEDB7B3715Mnz69U/TPnz+P1atXIzg4GGfPnsXu3bsRGhqKjRs3oqysTMJVP/kUFhZ23N9p06b9KPpBQUEICAhAYmIicnJyUFBQYLDfw7l37x4yMjLwzTffICsrC+np6Vi7di1mzJiBrKwsHD16FKtWrUJYWBgSExOxa9cuhIWFYcuWLaisrJR6+cKjUChQUVHR8a+3zMxMpKSkwNXVFStWrEBOTg5WrVoFPz8/bNmyBTk5OcjJyUFZWZlefM/KIKKvVqshk8kQGRmJBQsW4P79+1CpVDhy5AgWLVqEAwcOoKqqSupl/uwTFhYGe3t73Lt3z6DOhLqaxsZG3L59GwUFBXB1de0U/W3btmHJkiU4d+4cGhoaUFRUhJ07d2Ly5Mm4cuWKhKt+8vnn++vi4vKj6EdFRWHz5s2orq6WcJU/z8jlctTX1+PevXvQarVob2/HgQMHMHnyZMTFxSE4OBje3t5ITExEU1MTCgoK8Omnn2LKlCnIy8uTevnC097ejqamJtTU1KC5uRkajQYqlQre3t4ICAjAuXPnsHLlSkRHRz/24mdSjEFEv62tDZmZmQgPD+/0pElPT0dMTAzCw8NRUFAg4Qp1Mw/P9JOSkpCZmYni4uKOJ5Qhj0qlQnl5OTw8PDpFPyQkBPPmzUN9fT3a29vR2tqK+Ph49O7dG8nJyRKu+OlGpVKhrKwMbm5ujzzTP3fuHPLz81FeXo729naDf4yB75+3hw8fhp2dHeLj4+Hk5AR3d3fcv38farUaLS0tOHHiBF555RVcunRJ6uU+8Wg0GiiVSgQEBCA4OLgj+n5+fti8eTOuXLmCgoIC1NfXQ61WS71cw4i+UqnEuXPnEBUVhQ0bNnS8/dq1a9i6dSs8PT1x7do1CVeomwkPD+94TXDw4MHw8PDAqVOn9OIT52nmUdH38fGBvb19R/C0Wi2Sk5Pxpz/9CYmJiVIt96mnq+g7OTmhd+/eeOuttzBp0iTExMSgoaHBIF/e+eHU1tZiw4YNGDlyJAoLC+Hi4gIXF5dOj29CQgL+8pe/ICUlReLVPvkolUqUlZVh5syZCAoKQklJCWJiYmBjY4O///3vGDJkCBwcHPDNN9/w5R3RUSqVOHv27I+in5uba9TRz8nJwcmTJ3Hx4kXExcUhPDwcixcvRk5ODpqamqRe3hPPo6Lv7e0Ne3v7Th978eJF/PnPfzbK6JeWlnb8hEdSUhK2bduGwMBArFmzBnfu3JFwxU83Go0GCoUCmzdvxtKlS/HJJ5+gvr4e7u7ucHZ27vSxZ8+eNejot7e3Iz8/HwsWLEBQUBDi4uLQ3NyMK1eu4MKFC0hMTER8fDzCwsIQHh6Oo0ePSr1kw4i+SqVCSkoKIiMjsXLlyo63Z2VlYcOGDQgICEB+fr6EK9TNyOXyjl/ekcvl+PLLL+Hm5oZ9+/ZBJpNJvLonn0dFPyAgAHPnzkVra2vH66SJiYl4/vnnkZSUJN2Cn3IeFX2FQgG5XA6NRgOtVoucnBysW7cOEydOfOzlcfV1tFotamtrcejQIXh7e2Pt2rUoLCxEW1sbvLy84Orq2unxPX36NF588UWkp6dLvfRuj0ajQW5uLj755BM4ODjg6NGjqKqqgkajQXNzc8ePGre2tuL06dNYunQpIiIipF62YUS/vb0dhYWFCA8Ph6+vL1QqFTQaDb799luEhIRg06ZNKCkpkXqZP+toNJoOwPdPpri4OAQFBWHTpk0oLS2VdoFPMY+K/qpVq+Dm5obCwkLI5XLU1NTg8OHDsLS0NMgoPJxHRV+tVnd6qU4mk2Hfvn0YOHAgMjIypFjqU09DQwOSkpLw4YcfIjo6utNr9REREVi8eDFu3rwJpVKJ6upqfP311xgyZIhe/Chjd0ar1UImk2Hr1q346KOP8Pnnn6OioqLjfe3t7R3P3ba2NhQWFsLf3x9Lly6VctkADCT6Wq0WSqUSUVFRmD17dsePPu3YsQN2dnZIS0tDQ0OD1Mv82Uar1UKhUKClpQUKhQLA92eF27dvx5w5c3Ds2DGD/mmPR0X/wIEDCAgIwNatW3H37l2kpqYiOjoanp6eBv2N+kdFv7GxsdMv66SlpSEqKgoffvghcnNzpVjqU83DE5OFCxdi4cKFuHz5cqffr/jqq68QGBiI7du3o66uDsnJyVi5ciWWLl2K4uJiCVfe/VGpVFi/fj0WLlyItWvX4sGDBx1fwNvb21FbW9vx3G1pacHXX38NLy8vREdHS7lsAAYSfeD/vukTGBgINzc3LF68GB4eHlixYgVqamqM5kcagf/7zdSvvvoKy5YtQ0BAAHx8fODp6Yno6GiUl5d3fEIZ2uTk5CAmJgbOzs544403MGjQIPj5+eHUqVO4cOECdu/eDXt7eyxevBiurq5YtmwZkpOTcf/+famX/kSTnZ2N1atXY968eejXrx8sLS3h7++Pb775Bnv27MHKlSvh7++PgIAALF68GIGBgTh16hTq6uqkXnq3RqvVory8HGFhYejbty/GjBkDd3d3BAYGYuXKlUhLS0N6ejp27doFBwcHeHp6Yv78+QgMDERKSope/Kaq6DQ3NyM3NxfvvfceBgwYgClTpsDf3x+BgYH44osvkJKSgi1btiAsLAz+/v7w8/ODm5sbNm7cqBf/gjOY6APf//M3Pj4eAQEB8Pf3x5YtW5CSkmIUP+nwz6PRaFBfX9/x30WGhoYiODgYn376KVJTUw36MgzXrl3Dxo0b4evrC3d3d3h4eCA4OBhnzpxBaWkpcnNzO35BKzIyEvv27UNzc7PB/sRSTk4OYmNj4ePj03F/Q0JCEBcXh4MHDyI2NhYhISEICQnBqlWrcOjQITx48MDgPqe1Wi0qKiqwe/duuLu7Izg4GKGhoQgLC8OaNWtw6dIlyGQyXLlyBatXr8by5csRGRmJAwcOoKWlxaAe35aWFty4cQOhoaHw8vLquJ9hYWHYu3cvLl26hN27d2PVqlUICQlBWFgY1q9fj/T0dL24wJ5BRZ/D4XA4TzeMPofD4ZjQMPocDodjQsPoczgcjgkNo8/hcDgmNIw+h8PhmND8fxxlZoGJls+iAAAAAElFTkSuQmCC)"
      ]
    },
    {
      "cell_type": "code",
      "metadata": {
        "id": "2BA6IAqRBZ9y"
      },
      "source": [
        "# remove all\n",
        "%reset -f"
      ],
      "execution_count": null,
      "outputs": []
    },
    {
      "cell_type": "markdown",
      "metadata": {
        "id": "2IfZ4kQdNgt8"
      },
      "source": [
        "## Loading libraries"
      ]
    },
    {
      "cell_type": "code",
      "metadata": {
        "id": "4nlLYyW-M3_h"
      },
      "source": [
        "# data handling\n",
        "import copy\n",
        "# numerical manipulation\n",
        "import math\n",
        "import numpy as np\n",
        "# deep learning library pytorch\n",
        "import torch\n",
        "import torchvision.datasets as datasets\n",
        "# visualization task\n",
        "from IPython.display import clear_output\n",
        "import matplotlib.pyplot as plt"
      ],
      "execution_count": null,
      "outputs": []
    },
    {
      "cell_type": "markdown",
      "metadata": {
        "id": "qupqCN6SUxmA"
      },
      "source": [
        "## Possible Requirements:"
      ]
    },
    {
      "cell_type": "code",
      "metadata": {
        "colab": {
          "base_uri": "https://localhost:8080/"
        },
        "id": "ab4MOtmZTdXs",
        "outputId": "7a921af7-d994-4455-beb3-fa3ffd9487c1"
      },
      "source": [
        "print('torch: ' + torch.__version__)\n",
        "import torchvision\n",
        "print('torchvision: ' + torchvision.__version__)\n",
        "print('numpy: ' + np.__version__)\n",
        "import matplotlib\n",
        "print('matplotlib: ' + matplotlib.__version__)\n",
        "import IPython\n",
        "print('IPython: ' + IPython.__version__)"
      ],
      "execution_count": null,
      "outputs": [
        {
          "output_type": "stream",
          "name": "stdout",
          "text": [
            "torch: 1.10.0+cu111\n",
            "torchvision: 0.11.1+cu111\n",
            "numpy: 1.19.5\n",
            "matplotlib: 3.2.2\n",
            "IPython: 5.5.0\n"
          ]
        }
      ]
    },
    {
      "cell_type": "markdown",
      "metadata": {
        "id": "cfrrr593OcCF"
      },
      "source": [
        "## Preparing the Transfer Learning Data Set\n",
        "\n",
        "All samples with digits from 0 to 8 are used in a source task data set. The source task is defined by a multi-class classification problem in order to classify those digits. The target task is defined to classify the digits 7 and 9. Therefore the target dataset only includes those digits. While the source training data set includes more than 54.000 samples, the target training data set is limited to 32 (randomly picked) samples. The challange is to train an optimal classifier for this limited set of training samples."
      ]
    },
    {
      "cell_type": "code",
      "metadata": {
        "id": "ErA7yGytngvE"
      },
      "source": [
        "def load_prepare_mnsit(set_name):\n",
        "  \"\"\"\n",
        "  This function loads the data. If the data is not yet available on the computer,\n",
        "  an internet connection is required here. In this case, the MNIST data will be\n",
        "  downloaded once. Otherwise, the data is loaded from a local directory './data'.\n",
        "  \"\"\"\n",
        "  if set_name=='train':\n",
        "    dataset = datasets.MNIST(root='./data', train=True, download=True, transform=None)\n",
        "    raw_int_data = dataset.data.numpy()\n",
        "    labels = dataset.targets.numpy()\n",
        "\n",
        "  elif set_name=='test':\n",
        "    dataset = datasets.MNIST(root='./data', train=False, download=True, transform=None)\n",
        "    raw_int_data = dataset.data.numpy()\n",
        "    labels = dataset.targets.numpy()\n",
        "  y = np.float32(labels.reshape(-1,1) == np.arange(10))\n",
        "  X = (np.float32(raw_int_data[:,:])/255).reshape(-1,28*28)*2 - 1\n",
        "  return X, y, labels\n",
        "\n",
        "def filter_labels(X,y,labels,fltr_labels):\n",
        "  y = y[:,fltr_labels]\n",
        "  bool_idx = np.array([l in fltr_labels for l in labels])\n",
        "  idx = np.where(bool_idx)[0]\n",
        "  return X[idx],y[idx],labels[idx]\n",
        "\n",
        "def create_tl_data_set(file_name,src=[0,1,2,3,4,5,6,7,8],trgt=[7,9],trgt_size=None):\n",
        "  \"\"\"\n",
        "  src: source labels\n",
        "  trgt: target labels\n",
        "  \"\"\"\n",
        "  X_all, y_all, labels_all = load_prepare_mnsit(file_name)\n",
        "  data = dict()\n",
        "  # source data\n",
        "  X_src,y_src,labels_src = filter_labels(X_all, y_all, labels_all, src)\n",
        "  data['src'] = dict(X=X_src,y=y_src,labels=labels_src)\n",
        "  # target data\n",
        "  X_trgt,y_trgt,labels_trgt = filter_labels(X_all, y_all, labels_all, trgt)\n",
        "  if trgt_size:\n",
        "    subset_idx = np.random.randint(0,X_trgt.shape[0],trgt_size)\n",
        "    data['trgt'] = dict(X=X_trgt[subset_idx],y=y_trgt[subset_idx],labels=labels_trgt[subset_idx])\n",
        "  else:\n",
        "    data['trgt'] = dict(X=X_trgt,y=y_trgt,labels=labels_trgt)\n",
        "  return data\n",
        "\n",
        "# dictionary with all training data (including source and target task)\n",
        "data_train = create_tl_data_set('train', trgt_size=32)\n",
        "# dictionary with all test data (including source and target task)\n",
        "data_test = create_tl_data_set('test')"
      ],
      "execution_count": null,
      "outputs": []
    },
    {
      "cell_type": "code",
      "metadata": {
        "colab": {
          "base_uri": "https://localhost:8080/"
        },
        "id": "Br-NzzG-oY9w",
        "outputId": "51980f38-0260-440a-a8bd-6b8e8a7f4b6e"
      },
      "source": [
        "print('~~~ Training set ~~~\\n')\n",
        "print(f\"Number of source samples: {data_train['src']['X'].shape[0]}\")\n",
        "print(f\"Source input shape: {data_train['src']['X'].shape[1]}\")\n",
        "print(f\"Number of source classes: {data_train['src']['y'].shape[1]}\")\n",
        "print('')\n",
        "print(f\"Number of target samples: {data_train['trgt']['X'].shape[0]}\")\n",
        "print(f\"Target input shape: {data_train['trgt']['X'].shape}\")\n",
        "print(f\"Number of target classes: {data_train['trgt']['y'].shape[1]}\")\n",
        "\n",
        "print('\\n~~~ Test set ~~~\\n')\n",
        "print(f\"Number of source samples: {data_test['src']['X'].shape[0]}\")\n",
        "print(f\"Source input shape: {data_test['src']['X'].shape[1]}\")\n",
        "print(f\"Number of source classes: {data_test['src']['y'].shape[1]}\")\n",
        "print('')\n",
        "print(f\"Number of target samples: {data_test['trgt']['X'].shape[0]}\")\n",
        "print(f\"Target input shape: {data_test['trgt']['X'].shape}\")\n",
        "print(f\"Number of target classes: {data_test['trgt']['y'].shape[1]}\")"
      ],
      "execution_count": null,
      "outputs": [
        {
          "output_type": "stream",
          "name": "stdout",
          "text": [
            "~~~ Training set ~~~\n",
            "\n",
            "Number of source samples: 54051\n",
            "Source input shape: 784\n",
            "Number of source classes: 9\n",
            "\n",
            "Number of target samples: 32\n",
            "Target input shape: (32, 784)\n",
            "Number of target classes: 2\n",
            "\n",
            "~~~ Test set ~~~\n",
            "\n",
            "Number of source samples: 8991\n",
            "Source input shape: 784\n",
            "Number of source classes: 9\n",
            "\n",
            "Number of target samples: 2037\n",
            "Target input shape: (2037, 784)\n",
            "Number of target classes: 2\n"
          ]
        }
      ]
    },
    {
      "cell_type": "markdown",
      "metadata": {
        "id": "fZjYWDA_P_bk"
      },
      "source": [
        "## Model Classes"
      ]
    },
    {
      "cell_type": "code",
      "metadata": {
        "id": "w97_CsKqPvY-"
      },
      "source": [
        "class MlpClassifier(torch.nn.Module):\n",
        "  def __init__(self, num_in, num_out, num_hidden=100,num_features=20):\n",
        "    super().__init__()\n",
        "\n",
        "    self.feature_layers = torch.nn.Sequential(\n",
        "        torch.nn.Linear(num_in,num_hidden),\n",
        "        torch.nn.LeakyReLU(),\n",
        "        torch.nn.Dropout(0.1),\n",
        "        torch.nn.Linear(num_hidden,num_hidden),\n",
        "        torch.nn.LeakyReLU(),\n",
        "        torch.nn.Dropout(0.1),\n",
        "        torch.nn.Linear(num_hidden,num_hidden),\n",
        "        torch.nn.LeakyReLU(),\n",
        "        torch.nn.Linear(num_hidden,num_features),\n",
        "        torch.nn.LeakyReLU(),\n",
        "    )\n",
        "\n",
        "    self.out_layers = torch.nn.Sequential(\n",
        "        torch.nn.Linear(num_features,num_out),\n",
        "    )\n",
        "  def forward(self, X):\n",
        "    return self.out_layers(self.feature(X))\n",
        "\n",
        "  def feature(self, X):\n",
        "    return self.feature_layers(X)\n",
        "\n",
        "class LogisticRegression(torch.nn.Module):\n",
        "  def __init__(self, num_in, num_out):\n",
        "    super().__init__()\n",
        "    self.lin = torch.nn.Linear(num_in,num_out)\n",
        "  def forward(self, X):\n",
        "    return self.lin(X)\n",
        "\n",
        "class SmallMlp(torch.nn.Module):\n",
        "  def __init__(self, num_in, num_out, num_hidden=100):\n",
        "    super().__init__()\n",
        "    self.layers = torch.nn.Sequential(\n",
        "        torch.nn.Linear(num_in,num_hidden),\n",
        "        torch.nn.LeakyReLU(),\n",
        "        torch.nn.Linear(num_hidden,num_hidden),\n",
        "        torch.nn.LeakyReLU(),\n",
        "        torch.nn.Linear(num_hidden,num_out)\n",
        "    )\n",
        "  def forward(self, X):\n",
        "    return self.layers(X)"
      ],
      "execution_count": null,
      "outputs": []
    },
    {
      "cell_type": "markdown",
      "metadata": {
        "id": "4eZwUCqLQUBG"
      },
      "source": [
        "## Training / Helper Functions"
      ]
    },
    {
      "cell_type": "code",
      "metadata": {
        "id": "4FHeyRO3QS2x"
      },
      "source": [
        "def accuracy(ysim,y):\n",
        "  with torch.no_grad():\n",
        "    pred = torch.argmax(ysim,axis=1)\n",
        "    return torch.mean(y[torch.arange(y.shape[0]),pred]).item()\n",
        "\n",
        "def train_test_split(X,y,train_test_ratio=0.25):\n",
        "  test_bool = torch.rand(X.shape[0])<train_test_ratio\n",
        "  X_train = X[~test_bool]\n",
        "  y_train = y[~test_bool]\n",
        "  X_test = X[test_bool]\n",
        "  y_test = y[test_bool]\n",
        "  return X_train,y_train,X_test,y_test\n",
        "\n",
        "def train(X,y,mdl,criterion,optimizer,num_iterations,batch_size):\n",
        "  train_loss_history = []\n",
        "  valid_loss_history = []\n",
        "  mdl.train()\n",
        "  train_loss_sum = 0.0\n",
        "  count = 0\n",
        "  X_train,y_train,X_valid,y_valid = train_test_split(X,y)\n",
        "  valid_loss_best = float('inf')\n",
        "  for i in range(num_iterations):\n",
        "    batch_idx = torch.randint(X_train.shape[0],size=(batch_size,))\n",
        "    ysim = mdl.forward(X_train[batch_idx])\n",
        "    loss = criterion(ysim,y_train[batch_idx])\n",
        "    train_loss_sum += loss.item()\n",
        "    count += 1\n",
        "    mdl.zero_grad()\n",
        "    loss.backward()\n",
        "    optimizer.step()\n",
        "\n",
        "    if (i+1) % math.floor(num_iterations/20) == 0:\n",
        "      with torch.no_grad():\n",
        "        ysim = mdl.forward(X_valid)\n",
        "        valid_loss = criterion(ysim,y_valid)\n",
        "      train_loss_history.append(train_loss_sum/count)\n",
        "      valid_loss_history.append(valid_loss)\n",
        "      if valid_loss<valid_loss_best:\n",
        "        valid_loss_best = valid_loss\n",
        "        mdl_out = copy.deepcopy(mdl)\n",
        "      train_loss_sum = 0.0\n",
        "      count = 0\n",
        "      clear_output()\n",
        "      plt.semilogy(train_loss_history,label='train')\n",
        "      plt.semilogy(valid_loss_history,label='valid')\n",
        "      plt.legend()\n",
        "      plt.ylabel('avg. loss (train)')\n",
        "      plt.xlabel('iteration / 20')\n",
        "      plt.title(f'best validation loss: {valid_loss_best:.3f}')\n",
        "      plt.show()\n",
        "  return mdl_out, dict(train_loss=train_loss_history,valid_loss=valid_loss_history)"
      ],
      "execution_count": null,
      "outputs": []
    },
    {
      "cell_type": "markdown",
      "metadata": {
        "id": "IQ7Ln3JYQbxW"
      },
      "source": [
        "## Training of the Source Model"
      ]
    },
    {
      "cell_type": "code",
      "metadata": {
        "id": "q-1A2zV6ql3c",
        "colab": {
          "base_uri": "https://localhost:8080/",
          "height": 295
        },
        "outputId": "7c90dd70-ac39-46b0-9820-9b664e5144ad"
      },
      "source": [
        "X_src = torch.from_numpy(data_train['src']['X']);\n",
        "y_src = torch.from_numpy(data_train['src']['y']);\n",
        "mdl_src = MlpClassifier(X_src.shape[1],y_src.shape[1])\n",
        "criterion = torch.nn.CrossEntropyLoss()\n",
        "optimizer = torch.optim.Adam(mdl_src.parameters())\n",
        "\n",
        "num_iterations = 20000\n",
        "batch_size = 32\n",
        "mdl_src, loss_history = train(X_src,y_src,mdl_src,criterion,optimizer,num_iterations,batch_size)"
      ],
      "execution_count": null,
      "outputs": [
        {
          "output_type": "display_data",
          "data": {
            "image/png": "[encoded data removed]",
            "text/plain": [
              "<Figure size 432x288 with 1 Axes>"
            ]
          },
          "metadata": {
            "needs_background": "light"
          }
        }
      ]
    },
    {
      "cell_type": "code",
      "metadata": {
        "id": "TuaP25iHBsI7",
        "colab": {
          "base_uri": "https://localhost:8080/"
        },
        "outputId": "15cc35fe-ad3a-4b0a-b190-e5e8b55cdfeb"
      },
      "source": [
        "print('Source task, test data:')\n",
        "X_src = torch.from_numpy(data_test['src']['X']);\n",
        "y_src = torch.from_numpy(data_test['src']['y']);\n",
        "with torch.no_grad():\n",
        "  mdl_src.eval()\n",
        "  ysim = mdl_src.forward(X_src)\n",
        "  print(f'\\tAccuracy: \\t{accuracy(ysim,y_src)*100:.2f}%')\n",
        "  print(f'\\tCross Entropy: \\t{criterion(ysim,y_src):.4f}')"
      ],
      "execution_count": null,
      "outputs": [
        {
          "output_type": "stream",
          "name": "stdout",
          "text": [
            "Source task, test data:\n",
            "\tAccuracy: \t97.94%\n",
            "\tCross Entropy: \t0.0753\n"
          ]
        }
      ]
    },
    {
      "cell_type": "markdown",
      "metadata": {
        "id": "F-peEkMaQhrJ"
      },
      "source": [
        "## Training of the Target Model with Transfer Learning"
      ]
    },
    {
      "cell_type": "code",
      "metadata": {
        "colab": {
          "base_uri": "https://localhost:8080/",
          "height": 295
        },
        "id": "YwANtpo2a2SW",
        "outputId": "1866072a-b23a-4f15-f29e-d277444a210c"
      },
      "source": [
        "X_trgt = torch.from_numpy(data_train['trgt']['X'])\n",
        "y_trgt = torch.from_numpy(data_train['trgt']['y'])\n",
        "\n",
        "feature_trgt = mdl_src.feature(X_trgt).detach()\n",
        "print(feature_trgt.shape)\n",
        "\n",
        "#mdl_trgt = LogisticRegression(feature_trgt.shape[1],y_trgt.shape[1])\n",
        "mdl_trgt = SmallMlp(feature_trgt.shape[1],y_trgt.shape[1])\n",
        "criterion = torch.nn.CrossEntropyLoss()\n",
        "optimizer = torch.optim.Adam(mdl_trgt.parameters())\n",
        "\n",
        "num_iterations = 20000\n",
        "batch_size = 32\n",
        "mdl_trgt, loss_history_mdl_trgt = train(feature_trgt,y_trgt,mdl_trgt,criterion,optimizer,num_iterations,batch_size)"
      ],
      "execution_count": null,
      "outputs": [
        {
          "output_type": "display_data",
          "data": {
            "image/png": "[encoded data removed]",
            "text/plain": [
              "<Figure size 432x288 with 1 Axes>"
            ]
          },
          "metadata": {
            "needs_background": "light"
          }
        }
      ]
    },
    {
      "cell_type": "code",
      "metadata": {
        "colab": {
          "base_uri": "https://localhost:8080/"
        },
        "id": "098FI0nvc_N-",
        "outputId": "bc964e14-7f78-4ffd-abe4-126bf47654aa"
      },
      "source": [
        "print('Target task, test data, with transfer learning:')\n",
        "X_trgt = torch.from_numpy(data_test['trgt']['X'])\n",
        "y_trgt = torch.from_numpy(data_test['trgt']['y'])\n",
        "\n",
        "feature_trgt = mdl_src.feature(X_trgt).detach()\n",
        "with torch.no_grad():\n",
        "  mdl_trgt.eval()\n",
        "  ysim = mdl_trgt.forward(feature_trgt)\n",
        "  print(f'\\tAccuracy: \\t{accuracy(ysim,y_trgt)*100:.2f}%')\n",
        "  print(f'\\tCross Entropy: \\t{criterion(ysim,y_trgt):.4f}')"
      ],
      "execution_count": null,
      "outputs": [
        {
          "output_type": "stream",
          "name": "stdout",
          "text": [
            "Target task, test data, with transfer learning:\n",
            "\tAccuracy: \t93.27%\n",
            "\tCross Entropy: \t0.6448\n"
          ]
        }
      ]
    },
    {
      "cell_type": "markdown",
      "metadata": {
        "id": "hejY438AQrK9"
      },
      "source": [
        "## Training of the Target Model as Single Task Learning\n",
        "\n",
        "Here, no transfer learning is applied."
      ]
    },
    {
      "cell_type": "code",
      "metadata": {
        "colab": {
          "base_uri": "https://localhost:8080/",
          "height": 295
        },
        "id": "56D7Ga1ivTbh",
        "outputId": "2c7409c5-68ca-40d5-890f-d1e4425c77d8"
      },
      "source": [
        "X_trgt = torch.from_numpy(data_train['trgt']['X'])\n",
        "y_trgt = torch.from_numpy(data_train['trgt']['y'])\n",
        "\n",
        "mdl_trgt_no_transfer = MlpClassifier(X_trgt.shape[1],y_trgt.shape[1])\n",
        "criterion = torch.nn.CrossEntropyLoss()\n",
        "optimizer = torch.optim.Adam(mdl_trgt_no_transfer.parameters())\n",
        "\n",
        "num_iterations = 20000\n",
        "batch_size = 32\n",
        "mdl_trgt_no_transfer, loss_history_no_transfer = train(X_trgt,y_trgt,mdl_trgt_no_transfer,criterion,optimizer,num_iterations,batch_size)"
      ],
      "execution_count": null,
      "outputs": [
        {
          "output_type": "display_data",
          "data": {
            "image/png": "[encoded data removed]",
            "text/plain": [
              "<Figure size 432x288 with 1 Axes>"
            ]
          },
          "metadata": {
            "needs_background": "light"
          }
        }
      ]
    },
    {
      "cell_type": "code",
      "metadata": {
        "colab": {
          "base_uri": "https://localhost:8080/"
        },
        "id": "jz8gdDiQTLZ7",
        "outputId": "e80594bd-9569-4a1d-de73-e56af7ecd8ab"
      },
      "source": [
        "print('Target task, test data, no transfer learning:')\n",
        "X_trgt = torch.from_numpy(data_test['trgt']['X']);\n",
        "y_trgt = torch.from_numpy(data_test['trgt']['y']);\n",
        "\n",
        "with torch.no_grad():\n",
        "  mdl_trgt_no_transfer.eval()\n",
        "  ysim = mdl_trgt_no_transfer.forward(X_trgt)\n",
        "\n",
        "  print(f'\\tAccuracy: \\t{accuracy(ysim,y_trgt)*100:.2f}%')\n",
        "  print(f'\\tCross Entropy: \\t{criterion(ysim,y_trgt):.4f}')"
      ],
      "execution_count": null,
      "outputs": [
        {
          "output_type": "stream",
          "name": "stdout",
          "text": [
            "Target task, test data, no transfer learning:\n",
            "\tAccuracy: \t82.13%\n",
            "\tCross Entropy: \t1.2325\n"
          ]
        }
      ]
    }
  ]
}