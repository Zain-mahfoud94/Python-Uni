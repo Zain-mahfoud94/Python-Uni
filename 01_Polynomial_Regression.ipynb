{
  "cells": [
    {
      "cell_type": "markdown",
      "metadata": {
        "id": "view-in-github",
        "colab_type": "text"
      },
      "source": [
        "<a href=\"https://colab.research.google.com/github/Zain-mahfoud94/Python-Uni/blob/main/01_Polynomial_Regression.ipynb\" target=\"_parent\"><img src=\"https://colab.research.google.com/assets/colab-badge.svg\" alt=\"Open In Colab\"/></a>"
      ]
    },
    {
      "cell_type": "markdown",
      "metadata": {
        "id": "I92fnxakZ_jZ"
      },
      "source": [
        "# **Polynomial Regression**\n",
        "### Table of Contents\n",
        "1. [Setup](#setup)\n",
        "2. [Polynomial Function](#poly_func)\n",
        "3. [Learning from data](#learning)\n",
        "4. [Model Selection](#model_selection)\n",
        "5. [Optional Tasks](#optional)\n"
      ]
    },
    {
      "cell_type": "markdown",
      "metadata": {
        "id": "RZIUgg2kZ_jb"
      },
      "source": [
        "## Setup <a class=\"anchor\" id=\"setup\"></a>\n",
        "Here, we set up the notebook by importing some packages and introducing a method that generates data.\n",
        "\n",
        "Additionally, to get the most out of the exercises, we recommend to make use of [Jupyter Widget Interact](https://ipywidgets.readthedocs.io/en/stable/examples/Using%20Interact.html) method.\n",
        "We install it in the cell below by using the `!`-operator, which basically uses the shell in which the notebook is running. It may be necessary to check its documentation to get familiar with it."
      ]
    },
    {
      "cell_type": "code",
      "execution_count": 1,
      "metadata": {
        "id": "TszGn2faZ_jc",
        "outputId": "83ace353-f278-42bd-d170-cec44872c59c",
        "colab": {
          "base_uri": "https://localhost:8080/"
        }
      },
      "outputs": [
        {
          "output_type": "stream",
          "name": "stdout",
          "text": [
            "Requirement already satisfied: ipywidgets in /usr/local/lib/python3.11/dist-packages (7.7.1)\n",
            "Requirement already satisfied: ipykernel>=4.5.1 in /usr/local/lib/python3.11/dist-packages (from ipywidgets) (5.5.6)\n",
            "Requirement already satisfied: ipython-genutils~=0.2.0 in /usr/local/lib/python3.11/dist-packages (from ipywidgets) (0.2.0)\n",
            "Requirement already satisfied: traitlets>=4.3.1 in /usr/local/lib/python3.11/dist-packages (from ipywidgets) (5.7.1)\n",
            "Requirement already satisfied: widgetsnbextension~=3.6.0 in /usr/local/lib/python3.11/dist-packages (from ipywidgets) (3.6.10)\n",
            "Requirement already satisfied: ipython>=4.0.0 in /usr/local/lib/python3.11/dist-packages (from ipywidgets) (7.34.0)\n",
            "Requirement already satisfied: jupyterlab-widgets>=1.0.0 in /usr/local/lib/python3.11/dist-packages (from ipywidgets) (3.0.13)\n",
            "Requirement already satisfied: jupyter-client in /usr/local/lib/python3.11/dist-packages (from ipykernel>=4.5.1->ipywidgets) (6.1.12)\n",
            "Requirement already satisfied: tornado>=4.2 in /usr/local/lib/python3.11/dist-packages (from ipykernel>=4.5.1->ipywidgets) (6.3.3)\n",
            "Requirement already satisfied: setuptools>=18.5 in /usr/local/lib/python3.11/dist-packages (from ipython>=4.0.0->ipywidgets) (75.1.0)\n",
            "Collecting jedi>=0.16 (from ipython>=4.0.0->ipywidgets)\n",
            "  Downloading jedi-0.19.2-py2.py3-none-any.whl.metadata (22 kB)\n",
            "Requirement already satisfied: decorator in /usr/local/lib/python3.11/dist-packages (from ipython>=4.0.0->ipywidgets) (4.4.2)\n",
            "Requirement already satisfied: pickleshare in /usr/local/lib/python3.11/dist-packages (from ipython>=4.0.0->ipywidgets) (0.7.5)\n",
            "Requirement already satisfied: prompt-toolkit!=3.0.0,!=3.0.1,<3.1.0,>=2.0.0 in /usr/local/lib/python3.11/dist-packages (from ipython>=4.0.0->ipywidgets) (3.0.48)\n",
            "Requirement already satisfied: pygments in /usr/local/lib/python3.11/dist-packages (from ipython>=4.0.0->ipywidgets) (2.18.0)\n",
            "Requirement already satisfied: backcall in /usr/local/lib/python3.11/dist-packages (from ipython>=4.0.0->ipywidgets) (0.2.0)\n",
            "Requirement already satisfied: matplotlib-inline in /usr/local/lib/python3.11/dist-packages (from ipython>=4.0.0->ipywidgets) (0.1.7)\n",
            "Requirement already satisfied: pexpect>4.3 in /usr/local/lib/python3.11/dist-packages (from ipython>=4.0.0->ipywidgets) (4.9.0)\n",
            "Requirement already satisfied: notebook>=4.4.1 in /usr/local/lib/python3.11/dist-packages (from widgetsnbextension~=3.6.0->ipywidgets) (6.5.5)\n",
            "Requirement already satisfied: parso<0.9.0,>=0.8.4 in /usr/local/lib/python3.11/dist-packages (from jedi>=0.16->ipython>=4.0.0->ipywidgets) (0.8.4)\n",
            "Requirement already satisfied: jinja2 in /usr/local/lib/python3.11/dist-packages (from notebook>=4.4.1->widgetsnbextension~=3.6.0->ipywidgets) (3.1.5)\n",
            "Requirement already satisfied: pyzmq<25,>=17 in /usr/local/lib/python3.11/dist-packages (from notebook>=4.4.1->widgetsnbextension~=3.6.0->ipywidgets) (24.0.1)\n",
            "Requirement already satisfied: argon2-cffi in /usr/local/lib/python3.11/dist-packages (from notebook>=4.4.1->widgetsnbextension~=3.6.0->ipywidgets) (23.1.0)\n",
            "Requirement already satisfied: jupyter-core>=4.6.1 in /usr/local/lib/python3.11/dist-packages (from notebook>=4.4.1->widgetsnbextension~=3.6.0->ipywidgets) (5.7.2)\n",
            "Requirement already satisfied: nbformat in /usr/local/lib/python3.11/dist-packages (from notebook>=4.4.1->widgetsnbextension~=3.6.0->ipywidgets) (5.10.4)\n",
            "Requirement already satisfied: nbconvert>=5 in /usr/local/lib/python3.11/dist-packages (from notebook>=4.4.1->widgetsnbextension~=3.6.0->ipywidgets) (7.16.5)\n",
            "Requirement already satisfied: nest-asyncio>=1.5 in /usr/local/lib/python3.11/dist-packages (from notebook>=4.4.1->widgetsnbextension~=3.6.0->ipywidgets) (1.6.0)\n",
            "Requirement already satisfied: Send2Trash>=1.8.0 in /usr/local/lib/python3.11/dist-packages (from notebook>=4.4.1->widgetsnbextension~=3.6.0->ipywidgets) (1.8.3)\n",
            "Requirement already satisfied: terminado>=0.8.3 in /usr/local/lib/python3.11/dist-packages (from notebook>=4.4.1->widgetsnbextension~=3.6.0->ipywidgets) (0.18.1)\n",
            "Requirement already satisfied: prometheus-client in /usr/local/lib/python3.11/dist-packages (from notebook>=4.4.1->widgetsnbextension~=3.6.0->ipywidgets) (0.21.1)\n",
            "Requirement already satisfied: nbclassic>=0.4.7 in /usr/local/lib/python3.11/dist-packages (from notebook>=4.4.1->widgetsnbextension~=3.6.0->ipywidgets) (1.1.0)\n",
            "Requirement already satisfied: python-dateutil>=2.1 in /usr/local/lib/python3.11/dist-packages (from jupyter-client->ipykernel>=4.5.1->ipywidgets) (2.8.2)\n",
            "Requirement already satisfied: ptyprocess>=0.5 in /usr/local/lib/python3.11/dist-packages (from pexpect>4.3->ipython>=4.0.0->ipywidgets) (0.7.0)\n",
            "Requirement already satisfied: wcwidth in /usr/local/lib/python3.11/dist-packages (from prompt-toolkit!=3.0.0,!=3.0.1,<3.1.0,>=2.0.0->ipython>=4.0.0->ipywidgets) (0.2.13)\n",
            "Requirement already satisfied: platformdirs>=2.5 in /usr/local/lib/python3.11/dist-packages (from jupyter-core>=4.6.1->notebook>=4.4.1->widgetsnbextension~=3.6.0->ipywidgets) (4.3.6)\n",
            "Requirement already satisfied: notebook-shim>=0.2.3 in /usr/local/lib/python3.11/dist-packages (from nbclassic>=0.4.7->notebook>=4.4.1->widgetsnbextension~=3.6.0->ipywidgets) (0.2.4)\n",
            "Requirement already satisfied: beautifulsoup4 in /usr/local/lib/python3.11/dist-packages (from nbconvert>=5->notebook>=4.4.1->widgetsnbextension~=3.6.0->ipywidgets) (4.12.3)\n",
            "Requirement already satisfied: bleach!=5.0.0 in /usr/local/lib/python3.11/dist-packages (from bleach[css]!=5.0.0->nbconvert>=5->notebook>=4.4.1->widgetsnbextension~=3.6.0->ipywidgets) (6.2.0)\n",
            "Requirement already satisfied: defusedxml in /usr/local/lib/python3.11/dist-packages (from nbconvert>=5->notebook>=4.4.1->widgetsnbextension~=3.6.0->ipywidgets) (0.7.1)\n",
            "Requirement already satisfied: jupyterlab-pygments in /usr/local/lib/python3.11/dist-packages (from nbconvert>=5->notebook>=4.4.1->widgetsnbextension~=3.6.0->ipywidgets) (0.3.0)\n",
            "Requirement already satisfied: markupsafe>=2.0 in /usr/local/lib/python3.11/dist-packages (from nbconvert>=5->notebook>=4.4.1->widgetsnbextension~=3.6.0->ipywidgets) (3.0.2)\n",
            "Requirement already satisfied: mistune<4,>=2.0.3 in /usr/local/lib/python3.11/dist-packages (from nbconvert>=5->notebook>=4.4.1->widgetsnbextension~=3.6.0->ipywidgets) (3.1.0)\n",
            "Requirement already satisfied: nbclient>=0.5.0 in /usr/local/lib/python3.11/dist-packages (from nbconvert>=5->notebook>=4.4.1->widgetsnbextension~=3.6.0->ipywidgets) (0.10.2)\n",
            "Requirement already satisfied: packaging in /usr/local/lib/python3.11/dist-packages (from nbconvert>=5->notebook>=4.4.1->widgetsnbextension~=3.6.0->ipywidgets) (24.2)\n",
            "Requirement already satisfied: pandocfilters>=1.4.1 in /usr/local/lib/python3.11/dist-packages (from nbconvert>=5->notebook>=4.4.1->widgetsnbextension~=3.6.0->ipywidgets) (1.5.1)\n",
            "Requirement already satisfied: fastjsonschema>=2.15 in /usr/local/lib/python3.11/dist-packages (from nbformat->notebook>=4.4.1->widgetsnbextension~=3.6.0->ipywidgets) (2.21.1)\n",
            "Requirement already satisfied: jsonschema>=2.6 in /usr/local/lib/python3.11/dist-packages (from nbformat->notebook>=4.4.1->widgetsnbextension~=3.6.0->ipywidgets) (4.23.0)\n",
            "Requirement already satisfied: six>=1.5 in /usr/local/lib/python3.11/dist-packages (from python-dateutil>=2.1->jupyter-client->ipykernel>=4.5.1->ipywidgets) (1.17.0)\n",
            "Requirement already satisfied: argon2-cffi-bindings in /usr/local/lib/python3.11/dist-packages (from argon2-cffi->notebook>=4.4.1->widgetsnbextension~=3.6.0->ipywidgets) (21.2.0)\n",
            "Requirement already satisfied: webencodings in /usr/local/lib/python3.11/dist-packages (from bleach!=5.0.0->bleach[css]!=5.0.0->nbconvert>=5->notebook>=4.4.1->widgetsnbextension~=3.6.0->ipywidgets) (0.5.1)\n",
            "Requirement already satisfied: tinycss2<1.5,>=1.1.0 in /usr/local/lib/python3.11/dist-packages (from bleach[css]!=5.0.0->nbconvert>=5->notebook>=4.4.1->widgetsnbextension~=3.6.0->ipywidgets) (1.4.0)\n",
            "Requirement already satisfied: attrs>=22.2.0 in /usr/local/lib/python3.11/dist-packages (from jsonschema>=2.6->nbformat->notebook>=4.4.1->widgetsnbextension~=3.6.0->ipywidgets) (24.3.0)\n",
            "Requirement already satisfied: jsonschema-specifications>=2023.03.6 in /usr/local/lib/python3.11/dist-packages (from jsonschema>=2.6->nbformat->notebook>=4.4.1->widgetsnbextension~=3.6.0->ipywidgets) (2024.10.1)\n",
            "Requirement already satisfied: referencing>=0.28.4 in /usr/local/lib/python3.11/dist-packages (from jsonschema>=2.6->nbformat->notebook>=4.4.1->widgetsnbextension~=3.6.0->ipywidgets) (0.35.1)\n",
            "Requirement already satisfied: rpds-py>=0.7.1 in /usr/local/lib/python3.11/dist-packages (from jsonschema>=2.6->nbformat->notebook>=4.4.1->widgetsnbextension~=3.6.0->ipywidgets) (0.22.3)\n",
            "Requirement already satisfied: jupyter-server<3,>=1.8 in /usr/local/lib/python3.11/dist-packages (from notebook-shim>=0.2.3->nbclassic>=0.4.7->notebook>=4.4.1->widgetsnbextension~=3.6.0->ipywidgets) (1.24.0)\n",
            "Requirement already satisfied: cffi>=1.0.1 in /usr/local/lib/python3.11/dist-packages (from argon2-cffi-bindings->argon2-cffi->notebook>=4.4.1->widgetsnbextension~=3.6.0->ipywidgets) (1.17.1)\n",
            "Requirement already satisfied: soupsieve>1.2 in /usr/local/lib/python3.11/dist-packages (from beautifulsoup4->nbconvert>=5->notebook>=4.4.1->widgetsnbextension~=3.6.0->ipywidgets) (2.6)\n",
            "Requirement already satisfied: pycparser in /usr/local/lib/python3.11/dist-packages (from cffi>=1.0.1->argon2-cffi-bindings->argon2-cffi->notebook>=4.4.1->widgetsnbextension~=3.6.0->ipywidgets) (2.22)\n",
            "Requirement already satisfied: anyio<4,>=3.1.0 in /usr/local/lib/python3.11/dist-packages (from jupyter-server<3,>=1.8->notebook-shim>=0.2.3->nbclassic>=0.4.7->notebook>=4.4.1->widgetsnbextension~=3.6.0->ipywidgets) (3.7.1)\n",
            "Requirement already satisfied: websocket-client in /usr/local/lib/python3.11/dist-packages (from jupyter-server<3,>=1.8->notebook-shim>=0.2.3->nbclassic>=0.4.7->notebook>=4.4.1->widgetsnbextension~=3.6.0->ipywidgets) (1.8.0)\n",
            "Requirement already satisfied: idna>=2.8 in /usr/local/lib/python3.11/dist-packages (from anyio<4,>=3.1.0->jupyter-server<3,>=1.8->notebook-shim>=0.2.3->nbclassic>=0.4.7->notebook>=4.4.1->widgetsnbextension~=3.6.0->ipywidgets) (3.10)\n",
            "Requirement already satisfied: sniffio>=1.1 in /usr/local/lib/python3.11/dist-packages (from anyio<4,>=3.1.0->jupyter-server<3,>=1.8->notebook-shim>=0.2.3->nbclassic>=0.4.7->notebook>=4.4.1->widgetsnbextension~=3.6.0->ipywidgets) (1.3.1)\n",
            "Downloading jedi-0.19.2-py2.py3-none-any.whl (1.6 MB)\n",
            "\u001b[2K   \u001b[90m━━━━━━━━━━━━━━━━━━━━━━━━━━━━━━━━━━━━━━━━\u001b[0m \u001b[32m1.6/1.6 MB\u001b[0m \u001b[31m12.9 MB/s\u001b[0m eta \u001b[36m0:00:00\u001b[0m\n",
            "\u001b[?25hInstalling collected packages: jedi\n",
            "Successfully installed jedi-0.19.2\n"
          ]
        }
      ],
      "source": [
        "!pip install ipywidgets"
      ]
    },
    {
      "cell_type": "code",
      "execution_count": 2,
      "metadata": {
        "id": "jiwA9YRkZ_jc"
      },
      "outputs": [],
      "source": [
        "import numpy as np\n",
        "import pylab as plt\n",
        "from ipywidgets import interact\n",
        "\n",
        "def get_data(noise=.2):\n",
        "    \"\"\"Returns a simple data set with targests\n",
        "\n",
        "    Args:\n",
        "        noise: Adjusts the noise of the generated targets.\n",
        "\n",
        "    Returns:\n",
        "        (X, y): Samples X and coressponding targets y.\n",
        "\n",
        "    \"\"\"\n",
        "    np.random.seed(3)\n",
        "    x = np.random.uniform(0, 1.1, 10)\n",
        "    y = np.sin(x * 2 * np.pi) + np.random.normal(scale=noise, size=len(x))\n",
        "    return x, y"
      ]
    },
    {
      "cell_type": "markdown",
      "metadata": {
        "id": "fwgG2qNCZ_jd"
      },
      "source": [
        "## Polynomial Function <a class=\"anchor\" id=\"poly_func\"></a>"
      ]
    },
    {
      "cell_type": "markdown",
      "metadata": {
        "id": "X7GADuw2Z_jd"
      },
      "source": [
        "- Visualize the data provided by the `get_data` method (e.g., use `plt.plot` or `plt.scatter`)."
      ]
    },
    {
      "cell_type": "code",
      "execution_count": 3,
      "metadata": {
        "id": "Jk60_HOYZ_jd",
        "outputId": "71de0608-8fb6-4e94-e9f1-c8a5a021aeea",
        "colab": {
          "base_uri": "https://localhost:8080/",
          "height": 434
        }
      },
      "outputs": [
        {
          "output_type": "display_data",
          "data": {
            "text/plain": [
              "<Figure size 640x480 with 1 Axes>"
            ],
            "image/png": "[encoded data removed]"
          },
          "metadata": {}
        }
      ],
      "source": [
        "X, y = get_data()\n",
        "\n",
        "plt.scatter(X, y)\n",
        "plt.show()"
      ]
    },
    {
      "cell_type": "markdown",
      "metadata": {
        "id": "627nZBooZ_jd"
      },
      "source": [
        "- Implement the class `PolynomialFunction` with the following methods:\n",
        "    - ```__init__```: This method should have the argument `order` specifying the polynomial order of our polynomial function. Furthermore, it should initialize the weights of our function randomly (e.g., by using `np.random.rand`).\n",
        "    - ```predict_single```: This method should have the float argument `x`, which represents an input sample, and return a float output.\n",
        "Furthermore, the output should be calculated according to $$y(x, \\mathbf{w})=w_{0}+w_{1} x+w_{2} x^{2}+\\ldots+w_{M} x^{M}=\\sum_{j=0}^{M} w_{j} x^{j},$$ where $x$ is the sample and $\\mathbf{w}$ are the randomly initialized weights from the init method.\n",
        "    - ```predict```: This method should have the argument `X`, which is a numpy array of multiple float samples `x`, and use the `predict_single` method to return a numpy array of float outputs."
      ]
    },
    {
      "cell_type": "code",
      "execution_count": 4,
      "metadata": {
        "id": "b4st01qGZ_jd"
      },
      "outputs": [],
      "source": [
        "class PolynomialFunction:\n",
        "    def __init__(self, order):\n",
        "        self.order = order\n",
        "        # Addition of one due to the bias term\n",
        "        self.weights = np.random.randn(self.order + 1)\n",
        "\n",
        "    def predict_single(self, x: float) -> float:\n",
        "        # Create a vector where the elements are monomials of the input\n",
        "        x_transformed = [x**j for j in range(self.order + 1)]\n",
        "        # Compute the output of the polynomial function\n",
        "        out = np.sum(self.weights * x_transformed)\n",
        "        return out\n",
        "\n",
        "    def predict(self, X):\n",
        "        predictions = np.array([self.predict_single(x) for x in X])\n",
        "        return predictions"
      ]
    },
    {
      "cell_type": "markdown",
      "metadata": {
        "id": "m19MSsf1Z_je"
      },
      "source": [
        "- Plot the models' predictions using different polynomial orders. Also, plot the errors that have been made by the model using the `pyplot.vlines` method."
      ]
    },
    {
      "cell_type": "code",
      "execution_count": 5,
      "metadata": {
        "id": "5L7IBpJfZ_je",
        "outputId": "0136f3b5-1322-4d90-9a30-18098a87b45f",
        "colab": {
          "base_uri": "https://localhost:8080/",
          "height": 462,
          "referenced_widgets": [
            "bfd8dc0e38c24b94a55a5f19c87fa792",
            "627d8590b6a543eaa1b6ab873cdc1167",
            "1fc786edb56744978f3247db5b05f795",
            "72b298a2f2604934b778e21b6dbcfe13",
            "4578d47ddea849cf859d3fe7027ec21d",
            "31c22e42bb4e4e8f8ea9d9d1ccc0884a",
            "7b6406ccc6c548ff8f2e7ec8bb78313a"
          ]
        }
      },
      "outputs": [
        {
          "output_type": "display_data",
          "data": {
            "text/plain": [
              "interactive(children=(IntSlider(value=0, description='order', max=9), Output()), _dom_classes=('widget-interac…"
            ],
            "application/vnd.jupyter.widget-view+json": {
              "version_major": 2,
              "version_minor": 0,
              "model_id": "bfd8dc0e38c24b94a55a5f19c87fa792"
            }
          },
          "metadata": {}
        }
      ],
      "source": [
        "@interact(order=(0, 9))\n",
        "def plot_poly(order=0):\n",
        "    np.random.seed(order)\n",
        "    # Create an PolynomialFunction object\n",
        "    polyfunc = PolynomialFunction(order)\n",
        "\n",
        "    # Plot the data set\n",
        "    plt.scatter(X, y, label='Samples')\n",
        "    # Create the x-axis\n",
        "    axis = np.linspace(0, 1, 101)\n",
        "    # Plot the resulting polynomial regression curve\n",
        "    plt.plot(axis, polyfunc.predict(axis), label='Prediction')\n",
        "    # Plot the prediction error\n",
        "    plt.vlines(X, y, polyfunc.predict(X), linestyles=':', label='Error')\n",
        "    # Add a legend to the plot\n",
        "    plt.legend()\n",
        "\n",
        "    plt.show()"
      ]
    },
    {
      "cell_type": "markdown",
      "metadata": {
        "id": "qtCms4BOZ_je"
      },
      "source": [
        "The parameter vector $\\mathbf{w}$ will determine how well the polynomial function will fit the training data.  In order to determine $\\mathbf{w}$, we will need an error function measuring the misfit of our function $y(x, \\mathbf{w})$.\n",
        "\n",
        "One widely used error function is given by the sum of the squares of the errors between the predictions for each data point and the corresponding target values:\n",
        "$$E(\\mathbf{w})=\\frac{1}{2} \\sum_{n=1}^{N}\\left\\{y\\left(x_{n}, \\mathbf{w}\\right)-t_{n}\\right\\}^{2}$$\n",
        "- Implement this error function and evaluate the misfit between model predictions and data."
      ]
    },
    {
      "cell_type": "code",
      "execution_count": 6,
      "metadata": {
        "id": "nCmACMFCZ_je",
        "outputId": "332d0fb0-fa77-4876-d53e-0588e0688f3f",
        "colab": {
          "base_uri": "https://localhost:8080/",
          "height": 484,
          "referenced_widgets": [
            "015755b9a4a04229aaab1942d7488fec",
            "c45b8b809ced4274871cbe739905117f",
            "27cba6e6bffa4802a53605b2c4686714",
            "34cdd2d879f94acda266c2bfee1a5aa9",
            "9f342fa421b0421d8416c9baecb49ccc",
            "dcd99ea193bf42dca78856dac0b91c55",
            "79c68457e4be4db1a0e639ac185bcbc8"
          ]
        }
      },
      "outputs": [
        {
          "output_type": "display_data",
          "data": {
            "text/plain": [
              "interactive(children=(IntSlider(value=0, description='order', max=9), Output()), _dom_classes=('widget-interac…"
            ],
            "application/vnd.jupyter.widget-view+json": {
              "version_major": 2,
              "version_minor": 0,
              "model_id": "015755b9a4a04229aaab1942d7488fec"
            }
          },
          "metadata": {}
        }
      ],
      "source": [
        "def sum_of_squares(y_pred, y):\n",
        "    return np.sum((y_pred - y)**2)/2\n",
        "\n",
        "@interact(order=(0, 9))\n",
        "def plot_poly(order=0):\n",
        "    np.random.seed(order)\n",
        "    polyfunc = PolynomialFunction(order)\n",
        "\n",
        "    axis = np.linspace(0, 1, 101)\n",
        "    y_pred = polyfunc.predict(X)\n",
        "    plt.scatter(X, y, label='Samples')\n",
        "    plt.title('Error = {:.3f}'.format(sum_of_squares(y_pred, y)))\n",
        "    plt.plot(axis, polyfunc.predict(axis), label='Prediction')\n",
        "    plt.vlines(X, y, y_pred, linestyles=':', label='Error')\n",
        "    plt.legend()\n",
        "    plt.show()"
      ]
    },
    {
      "cell_type": "markdown",
      "metadata": {
        "id": "wyPiYXY-Z_je"
      },
      "source": [
        "## Learning from Data <a class=\"anchor\" id=\"learning\"></a>"
      ]
    },
    {
      "cell_type": "markdown",
      "metadata": {
        "id": "T8LxXYuSZ_je"
      },
      "source": [
        "The parameters $\\mathbf{w}$ of our `PolynomialFunction` need to be adapted so that the resulting function will fit the data. To achieve this, we minimize the previously defined error function with resepct to the parameters $\\mathbf{w}$.\n",
        "Since the error function is a quadratic function of the parameters $\\mathbf{w}$, its derivatives with respect to the parameters will be linear in the elements of $\\mathbf{w}$.\n",
        "\n",
        "We will deal with the optimization of ML solutions in later lectures. For this reason, we will only implement the solution to the optimization problem, which is given by\n",
        "$$\\mathbf{w}^* = \\mathbf{Q}^\\dagger \\mathbf{y}$$\n",
        "where $\\mathbf{w}^*$ denotes the optimal solution.\n",
        "\n",
        "The matrix $\\mathbf{Q}$ is given by\n",
        "$$\n",
        "\\mathbf{Q} = \\begin{bmatrix}\n",
        "1 & x_{1} & x_{1}^2 & x_{1}^3 & ... & x_{1}^d\\\\\n",
        "1 & x_{2} & x_{2}^2 & x_{2}^3 & ... & x_{2}^d\\\\\n",
        "1 & x_{3} & x_{3}^2 & x_{3}^3 & ... & x_{3}^d\\\\\n",
        "..& ..    & ...     &...      & ... & ...    \\\\\n",
        "1 & x_{N} & x_{N}^2 & x_{N}^3 & ... & x_{N}^d\n",
        "\\end{bmatrix}\n",
        "$$\n",
        "is called design matrix and transforms every sample using polynomials.\n",
        "The $(\\cdot)^\\dagger$-operator denotes the pseudo-inverse, which is a generalization of the inverse to singular and non-quadratic matrices. It can be implemented using `np.linalg.pinv`.\n",
        "- Extend the class `PolynomialFunction` by adding a `fit` method. This method should have the arguments `X` and `y`, which represent the samples and corresponding labels, respectively.  \n",
        "  Furthermore this method should calculate the optimal weights $\\mathbf{w}^*$.\n"
      ]
    },
    {
      "cell_type": "code",
      "execution_count": 7,
      "metadata": {
        "id": "mBhpgqT4Z_je"
      },
      "outputs": [],
      "source": [
        "class PolynomialFunction(PolynomialFunction): # <- Adding such an argument is called `inheritance`. This allows us to define a class that inherits all the methods and properties from another class.\n",
        "    def fit(self, X, y):\n",
        "        design_matrix = np.array([X**j for j in range(self.order + 1)]).T\n",
        "        self.weights = np.linalg.pinv(design_matrix) @ y"
      ]
    },
    {
      "cell_type": "markdown",
      "metadata": {
        "id": "GJ0VqLcQZ_je"
      },
      "source": [
        "- Plot the model predictions (and error) for different polynomial orders when the model is trained. What problem arises when using high polynomial orders?"
      ]
    },
    {
      "cell_type": "code",
      "execution_count": 8,
      "metadata": {
        "id": "mvGMmWXmZ_je",
        "outputId": "43dffd21-48cd-4176-a1da-79840a849195",
        "colab": {
          "base_uri": "https://localhost:8080/",
          "height": 484,
          "referenced_widgets": [
            "8fbc6b72d07a41a084e853200cdc5caf",
            "61799745dac24fe7ac3ea4dbc19a5693",
            "ec751f6fbdfc4d49a6a66bd74ec0c909",
            "89ca260b8844464eb4b42222cba01225",
            "72208c2984e74bff99283115d707586a",
            "8492c9cecfed4f61b3cce5672435c09d",
            "65dcc40d472a45cbb138ea408c9d942b"
          ]
        }
      },
      "outputs": [
        {
          "output_type": "display_data",
          "data": {
            "text/plain": [
              "interactive(children=(IntSlider(value=0, description='order', max=9), Output()), _dom_classes=('widget-interac…"
            ],
            "application/vnd.jupyter.widget-view+json": {
              "version_major": 2,
              "version_minor": 0,
              "model_id": "8fbc6b72d07a41a084e853200cdc5caf"
            }
          },
          "metadata": {}
        }
      ],
      "source": [
        "@interact(order=(0, 9))\n",
        "def plot_poly(order=0):\n",
        "    np.random.seed(order)\n",
        "    polyfunc = PolynomialFunction(order)\n",
        "    polyfunc.fit(X, y)\n",
        "\n",
        "    axis = np.linspace(0, 1, 301)\n",
        "    y_pred = polyfunc.predict(X)\n",
        "    plt.scatter(X, y, label='Samples')\n",
        "    plt.ylim(plt.ylim())\n",
        "    plt.title('Error = {:.3f}'.format(sum_of_squares(y_pred, y)))\n",
        "    plt.plot(axis, polyfunc.predict(axis), label='Prediction')\n",
        "    plt.vlines(X, y, y_pred, linestyles=':', label='Error')\n",
        "    plt.legend()\n",
        "    plt.show()"
      ]
    },
    {
      "cell_type": "markdown",
      "metadata": {
        "id": "hjmuRfG2Z_je"
      },
      "source": [
        "## Model Selection <a class=\"anchor\" id=\"model_selection\"></a>"
      ]
    },
    {
      "cell_type": "markdown",
      "metadata": {
        "id": "CI0iTpQdZ_je"
      },
      "source": [
        "Here, we determine the optimal polynomial order through a k-fold cross-validation. For that, we make use of sklearn's [k-fold cross validation](https://scikit-learn.org/stable/modules/generated/sklearn.model_selection.KFold.html) method.\n",
        "\n",
        "- Implement a 3-fold cross-validation and determine the best polynomial order for the data set."
      ]
    },
    {
      "cell_type": "code",
      "execution_count": 9,
      "metadata": {
        "id": "oJjF6Q2_Z_jf",
        "outputId": "95760154-64fa-4c84-bd3d-9dbbd95be13f",
        "colab": {
          "base_uri": "https://localhost:8080/"
        }
      },
      "outputs": [
        {
          "output_type": "stream",
          "name": "stdout",
          "text": [
            "Best polynomial order: 3\n"
          ]
        }
      ],
      "source": [
        "from sklearn.model_selection import KFold\n",
        "\n",
        "n_splits = 3\n",
        "n_orders = 10\n",
        "\n",
        "kf = KFold(n_splits=n_splits)\n",
        "\n",
        "# We will save our scores in a `n_orders` x `n_splits` matrix where\n",
        "# entry (i, j) will define the score obtained by using polynomial\n",
        "# order i on split j.\n",
        "scores = np.zeros((n_orders, n_splits))\n",
        "\n",
        "for i_order in range(n_orders):\n",
        "    for i_split, (train_idx, test_idx) in enumerate(kf.split(X)):\n",
        "        # Determine the train and test data set using the kf.split method\n",
        "        X_train, y_train = X[train_idx], y[train_idx]\n",
        "        X_test, y_test= X[test_idx], y[test_idx]\n",
        "\n",
        "        # Train the model\n",
        "        model = PolynomialFunction(order=i_order)\n",
        "        model.fit(X_train, y_train)\n",
        "\n",
        "        # Save the score on the test set\n",
        "        y_pred = model.predict(X_test)\n",
        "        score = sum_of_squares(y_test, y_pred)\n",
        "        scores[i_order, i_split] = score\n",
        "\n",
        "print('Best polynomial order: {}'.format(np.argmin(np.mean(scores, 1))))"
      ]
    },
    {
      "cell_type": "markdown",
      "metadata": {
        "id": "10OdxeLVZ_jf"
      },
      "source": [
        "- Visualize the calculated scores by using matplotlib."
      ]
    },
    {
      "cell_type": "code",
      "execution_count": 10,
      "metadata": {
        "id": "FnnNFzlBZ_jf",
        "outputId": "80a4cb18-685f-4f8a-af4b-8967753d0692",
        "colab": {
          "base_uri": "https://localhost:8080/",
          "height": 487
        }
      },
      "outputs": [
        {
          "output_type": "display_data",
          "data": {
            "text/plain": [
              "<Figure size 640x480 with 2 Axes>"
            ],
            "image/png": "[encoded data removed]"
          },
          "metadata": {}
        }
      ],
      "source": [
        "scores_mean = scores.mean(1)\n",
        "plt.subplot(121)\n",
        "plt.plot(range(n_orders), scores_mean)\n",
        "plt.xticks(range(n_orders))\n",
        "plt.xlabel('Order')\n",
        "plt.ylabel('Sum-of-Squares Error')\n",
        "plt.subplot(122)\n",
        "plt.bar(range(n_orders)[:6], scores_mean[:6])\n",
        "plt.xticks(range(n_orders)[:6])\n",
        "plt.xlabel('Order')\n",
        "plt.ylabel('Sum-of-Squares Error')\n",
        "plt.tight_layout()\n",
        "plt.show()"
      ]
    },
    {
      "cell_type": "markdown",
      "metadata": {
        "id": "13O3CvZUZ_jf"
      },
      "source": [
        "### Optional Tasks <a class=\"anchor\" id=\"optional\"></a>\n",
        "A special case of the crossvalidation is the leave-one-out approach.\n",
        "- Perform model selection with the `LeaveOneOut` class from sklearn."
      ]
    },
    {
      "cell_type": "code",
      "execution_count": 11,
      "metadata": {
        "id": "lbkESbJ0Z_jf",
        "outputId": "d4024d31-a1ec-4fdd-82bb-d7182feb420b",
        "colab": {
          "base_uri": "https://localhost:8080/"
        }
      },
      "outputs": [
        {
          "output_type": "stream",
          "name": "stdout",
          "text": [
            "Best polynomial order: 3\n"
          ]
        }
      ],
      "source": [
        "from sklearn.model_selection import LeaveOneOut\n",
        "\n",
        "kf = LeaveOneOut()\n",
        "\n",
        "n_orders = 10\n",
        "n_splits = kf.get_n_splits(X)\n",
        "\n",
        "# We will save our scores in a `n_orders` x `n_splits` matrix where\n",
        "# entry (i, j) will define the score obtained by using polynomial\n",
        "# order i on split j.\n",
        "scores = np.zeros((n_orders, n_splits))\n",
        "\n",
        "for i_order in range(n_orders):\n",
        "    for i_split, (train_idx, test_idx) in enumerate(kf.split(X)):\n",
        "        X_train, y_train = X[train_idx], y[train_idx]\n",
        "        X_test, y_test= X[test_idx], y[test_idx]\n",
        "\n",
        "        model = PolynomialFunction(order=i_order)\n",
        "        model.fit(X_train, y_train)\n",
        "\n",
        "        score = sum_of_squares(y_test, model.predict(X_test))\n",
        "        scores[i_order, i_split] = score\n",
        "\n",
        "print('Best polynomial order: {}'.format(np.argmin(np.mean(scores, 1))))"
      ]
    },
    {
      "cell_type": "markdown",
      "metadata": {
        "id": "pcwVUwEIZ_jf"
      },
      "source": [
        "- Visualize the calculated scores by using matplotlib."
      ]
    },
    {
      "cell_type": "code",
      "execution_count": 12,
      "metadata": {
        "id": "uaSXY4D6Z_jf",
        "outputId": "7c5eade0-349f-4802-d560-7249b45e50f2",
        "colab": {
          "base_uri": "https://localhost:8080/",
          "height": 486
        }
      },
      "outputs": [
        {
          "output_type": "display_data",
          "data": {
            "text/plain": [
              "<Figure size 640x480 with 2 Axes>"
            ],
            "image/png": "[encoded data removed]"
          },
          "metadata": {}
        }
      ],
      "source": [
        "scores_mean = scores.mean(1)\n",
        "plt.subplot(121)\n",
        "plt.bar(range(n_orders), scores_mean)\n",
        "plt.xticks(range(n_orders))\n",
        "plt.xlabel('Order')\n",
        "plt.ylabel('Sum-of-Squares Error')\n",
        "plt.subplot(122)\n",
        "plt.bar(range(n_orders)[:6], scores_mean[:6])\n",
        "plt.xticks(range(n_orders)[:6])\n",
        "plt.xlabel('Order')\n",
        "plt.ylabel('Sum-of-Squares Error')\n",
        "plt.tight_layout()\n",
        "plt.show()"
      ]
    }
  ],
  "metadata": {
    "kernelspec": {
      "display_name": "Python 3",
      "language": "python",
      "name": "python3"
    },
    "language_info": {
      "codemirror_mode": {
        "name": "ipython",
        "version": 3
      },
      "file_extension": ".py",
      "mimetype": "text/x-python",
      "name": "python",
      "nbconvert_exporter": "python",
      "pygments_lexer": "ipython3",
      "version": "3.11.6"
    },
    "colab": {
      "provenance": [],
      "include_colab_link": true
    },
    "widgets": {
      "application/vnd.jupyter.widget-state+json": {
        "bfd8dc0e38c24b94a55a5f19c87fa792": {
          "model_module": "@jupyter-widgets/controls",
          "model_name": "VBoxModel",
          "model_module_version": "1.5.0",
          "state": {
            "_dom_classes": [
              "widget-interact"
            ],
            "_model_module": "@jupyter-widgets/controls",
            "_model_module_version": "1.5.0",
            "_model_name": "VBoxModel",
            "_view_count": null,
            "_view_module": "@jupyter-widgets/controls",
            "_view_module_version": "1.5.0",
            "_view_name": "VBoxView",
            "box_style": "",
            "children": [
              "IPY_MODEL_627d8590b6a543eaa1b6ab873cdc1167",
              "IPY_MODEL_1fc786edb56744978f3247db5b05f795"
            ],
            "layout": "IPY_MODEL_72b298a2f2604934b778e21b6dbcfe13"
          }
        },
        "627d8590b6a543eaa1b6ab873cdc1167": {
          "model_module": "@jupyter-widgets/controls",
          "model_name": "IntSliderModel",
          "model_module_version": "1.5.0",
          "state": {
            "_dom_classes": [],
            "_model_module": "@jupyter-widgets/controls",
            "_model_module_version": "1.5.0",
            "_model_name": "IntSliderModel",
            "_view_count": null,
            "_view_module": "@jupyter-widgets/controls",
            "_view_module_version": "1.5.0",
            "_view_name": "IntSliderView",
            "continuous_update": true,
            "description": "order",
            "description_tooltip": null,
            "disabled": false,
            "layout": "IPY_MODEL_4578d47ddea849cf859d3fe7027ec21d",
            "max": 9,
            "min": 0,
            "orientation": "horizontal",
            "readout": true,
            "readout_format": "d",
            "step": 1,
            "style": "IPY_MODEL_31c22e42bb4e4e8f8ea9d9d1ccc0884a",
            "value": 0
          }
        },
        "1fc786edb56744978f3247db5b05f795": {
          "model_module": "@jupyter-widgets/output",
          "model_name": "OutputModel",
          "model_module_version": "1.0.0",
          "state": {
            "_dom_classes": [],
            "_model_module": "@jupyter-widgets/output",
            "_model_module_version": "1.0.0",
            "_model_name": "OutputModel",
            "_view_count": null,
            "_view_module": "@jupyter-widgets/output",
            "_view_module_version": "1.0.0",
            "_view_name": "OutputView",
            "layout": "IPY_MODEL_7b6406ccc6c548ff8f2e7ec8bb78313a",
            "msg_id": "",
            "outputs": [
              {
                "output_type": "display_data",
                "data": {
                  "text/plain": "<Figure size 640x480 with 1 Axes>",
                  "image/png": "iVBORw0KGgoAAAANSUhEUgAAAi8AAAGdCAYAAADaPpOnAAAAOnRFWHRTb2Z0d2FyZQBNYXRwbG90bGliIHZlcnNpb24zLjEwLjAsIGh0dHBzOi8vbWF0cGxvdGxpYi5vcmcvlHJYcgAAAAlwSFlzAAAPYQAAD2EBqD+naQAAZEVJREFUeJzt3XlYVGX/BvD7nDMLoCyisoiouItLKgZhppmmZpm2vJWVS3tmq23qr1yyssXK3l7Tyre0rGy3MrPMNHNP1NxNDZcU0EQBhWFmznl+f5DnDQWCYZZn4P5cF9f1MJw5fB2HmXvOsylCCAEiIiKiIKEGugAiIiKiqmB4ISIioqDC8EJERERBheGFiIiIggrDCxEREQUVhhciIiIKKgwvREREFFQYXoiIiCioWAJdgLcZhoEjR44gPDwciqIEuhwiIiKqBCEECgoK0KhRI6hqxddWalx4OXLkCBITEwNdBhEREXng0KFDaNy4cYXH1LjwEh4eDqDkHx8RERHgaoiIiKgy8vPzkZiYaL6PV6TGhZczXUUREREML0REREGmMkM+OGCXiIiIggrDCxEREQUVhhciIiIKKgwvREREFFQYXoiIiCioMLwQERFRUGF4ISIioqDC8EJERERBheGFiIiIggrDCxEREQUVhhciIiIKKjVubyNfEUKgyKUHugwiIiIphFq1Su1D5AsML5VU5NKRPOG7QJdBREQkhR1P9UeYLTAxgt1GREREFFR45aWSQq0adjzVP9Bl+F2h041uTy8FAGx4ok/AUnZFnG4Dk77aDgCYdGV72CzM5MFMluecYQhk5TkAAPGRIVDV6l0ed+kGPlx3EAAwNK0JrBqfpySfv//9ARX/DYZaNX+VdQ5FCCEC9tt9ID8/H5GRkcjLy0NERESgy6kSh0vHiLfXAwDm3pqKkAA+Mc4QQiDf4QYARIRYAta/SbWHYQgcPlkEAEiICq12aKDg5tYNfLc9BwDQv30sLAx9PqUbAmv2Hccv+3PRMqYuLusQ57fHvCrv3/J9jK7FDCGwLjPXbMtAURREhloDXUbQYwisPFVVkBgdFugySBJO3cDoDzYCKBljwfDiW5qqoEerBujRqkGgS6kQw4tEbJqKGTd2NdtUcxS5dJw3+XsAgR3kRpXn0g28u+YAAGB4etNqd/PwipJnVEVBWlK02SYCGF6kYtFUXN4pPtBllOJ0G5ixbC8AYHTvllKOJyl0upH2bEkf7brxco7LocrzdmioTh1TFu4AAAxNTax2HQ63joteWAaAAbYqQqwaProrPdBl1Bpu3cCSHTn4/c/T6Na0Hro1i4YmYdDmXw9VyG0YeHXpHgDAXb2awybpBLWCv7pkZBVq1bDnmcsAABYJXwhk4u3Q4ClVUTC4cyOz7Q2BHOBIVBlO3cCo9zea38satOWrqBbTDYFNB08AALo0qSdF2tVUBcMuaGq2ZRRi0bDskYvNtowURYFVk/Pxk40vQoMnQqwaXr2hi9fOF2azYOeUAV47H5EvqIqCLolR2JGVj7iIECiQ83WLs40kUuh0mwvhyZp2iYj8yeHScdXrqwEAX9zTXYpZmOQbnG0UpBQoaFY/zGxTzeF0G5j2/W4AwCP92kg5dohIRoYQ2JmVb7aJAIYXqYTaNCx/tHegywg6Lt3Ah+v/WvwrVc7Fv9yGgTdX/A4AeLBvK2nHDtH/FDrd6PF8yQDblY/3rvaV0GK3jolfliymOHlwe9gl7eKUjd2i4b3bUs02EcDwQv+g0OlGp0klU3y3TOonZVeWSzcw4a83hWtTGksZXiyqijt7NjfbVD5vh4bqyD3t9Nq5dENg/i+HAAATBiV77bw1naYquKhVw0CXUWs4XDqunbUaB44XomuTenhjWIqUXXXyvRORdNyG3JdqVUXBwI5xZltGNouK8QPbBbqMoOHN0OCpEIuG7x/qabary6KqeKRfa7NNJCNDCGw7XNJN99Nvx6TtquOAXYk4XDpGzcsAAMy8WY60axgCRwuKAQAx4XYurEU+ZxgCe4+dAgC0bFiXz7lazq0bWLHnGACgZ6uGXGHXx9y6gR9352Dtvly0iQvH1V39dzWbA3aDlCEElu0+ZrZloKoK4iJDAl1G0BNCmFewLKrC7QEqoKoKWseGB7oMkoRTN3DrnA0AuD2AP1g0Ff2S49EvWa4FU8/G8CIRq6bixWs7mW2qOYpcOqfBBxmXbuDTjD8AeGcslRDC7A6LrmNjgK0kVVHQqXGk2SYCGF6kYtVU/KtbYqDLKMXpNvDOqkwAwC0XJkk5xbfIqePiaSUDPJc/0huhtsB3t5HnvB0aqlPHuM+3AgAGd25U7TqKXDpSnv4BAANsVYRYNXx1b49Al1Fr6IbAyj3HcOhEIc5rXA/JjSKkXKCUfz1UIbdhYOq3uwAAw9KbSjnFV0AgJ7/YbMso1Krh14n9zDaVz9uhwVOqouDS5FizTVQbFLt1jHjnF/N7WYO2fBXVYrohsCu7ZJR32zg50q6mKrima2OzLSO7RcM39/cw2zJSFAWRodZAlxEUZAkNIVYNbw3v5rXzhdks2P/c5V47H5EvqIqCNnHh2Hf0VEn3pqQLpnK2kUS4PQARUWkOl46bZq8DALx/e5oUszDJNzjbKEgpUBAbYTfbVHM43QZmLNsLABjdu6WUY4eIZGQIgYwDJ8w2EcDwIpVQm4Z14/sGuoyg49INLNh0GAAwpEuClDO13IaBV5fuAQDc1au5lGOHqLQip46+L/8EAPhhTK9qDwQvdut47q/xY2MvayttF6dsbJqKN4almG0igOGF/kGh0420Z5cCANaN7yNlV5ZLN/Dop1sAAJd3ipcyvGiqgmEXNDXbVD5vhwZPCQgcPllktqtLNwTeWbUfAPBo/zbVPl9tYdFU9G8fF+gyag2HS8ew2euw79gpnJ8UjVdv6CJlV51870QknQKHO9AlVEhVFPRu09Bsy8hu0TBlSIdAlxEUvB0aPGW3aPhy9IVmu7osqorRvVuYbSIZGULgl7+66b7bniNtVx0H7ErE4dIx5uPNAICXr+ssRdo1DIEDuYUAgKbRYVyqnXxONwS2Hc4DAHRIiOSVqlpONwTWZ+YCAFKTovl88DG3bmDR1mys3Psn2sWH4+YLmnJ7AKqYIQQWbc0GAEz7lxyZUlUVJDWoE+gyqBbRVAXnJUYFugySRLFbx9C31gLgLEx/sGgqruzcCFd2bhToUirEZ4FErJqKpwa3N9tUcxQ63eg06XsAwJZJ/fgCHATcuoGFW7IAAFd0iq/2njpCCBS5dAAlCxVye4DKUaCgVUxds00EMLxIxaqpGJ7eLNBllOLSDXy4/iAAYGhqEylDVZFTx2WvrgAAfPtAT2m3BzizMSNVzNuhwVNO3cCDH20GAPRrH1vtOri/lWdCbRqWjOkV6DJqDd0QyDiQi5w8B9o1ikTzBnWkHC7g07+eFStW4MUXX0RGRgaysrLwxRdfYMiQIeUev3z5cvTu3fuc27OyshAXx9HmgeDSDUz4cjuAwO4zUxEBgf3HC822jEIsGtaO62O2qXzeDg2eUhUFPVo2MNtEtUGxW8d1b6w1v5c1aPu0otOnT+O8887DrbfeiquvvrrS99u9e3epwToxMTG+KE86Mg6OVRUFAzvGmW0Z2S0aPr073WzLSFUVxEWGBLqMoCBLaAixaph3e5rXzhdq1bDjqf5mm0hGChQ0iQ7FoRNFqGuXL7Sc4bfZRoqiVPrKy4kTJxAVFeXR7wnm2UbcHoCIqDSHS8ftczcAAGaP6CbFLEzyjaCfbdS5c2cUFxejQ4cOmDRpEi688MJyjy0uLkZxcbH5fX5+vj9K9JnwECn/S6ianG4D76zKBADccmEStwcgqiRDCKzc+6fZJgIkCy/x8fGYNWsWunXrhuLiYsyePRsXX3wx1q1bh65du5Z5n6lTp2Ly5Ml+rtQ3wmwWbJ3UP9BlBB23buC77TkAgP4BHCNREbdhYOpfS8MPS2/K7QGCQJFTx5X/WQkA+OreHtUeCO50G3h16W8AgAf6tGaArSSbpmL69Z3NNhEgWXhp06YN2rT537LZ3bt3x759+/DKK6/gvffeK/M+48aNw5gxY8zv8/PzkZiY6PNaa4sip46Lpy0DACx/pLeUM3mcuoHRH2wEUNLdJmN40VQF13RtbLapfN4ODZ4SENhz9JTZri63YWDGsn0A/tqckwG2UiyaiiFdEgJdRq3hcOm4690N2J1TgAta1Mfz13SSciyhVOGlLKmpqVi5cmW5P7fb7bDb7X6sqHYREMjJLzbbMlIVBWlJ0WZbRnaLhpeuOy/QZQQFb4cGT9ktGj684wKzXV2aquCWC5uZbSIZGULgpz0l3XQLNh3Bs1d1DHBFZZM+vGzevBnx8fGBLsMvit06xn++DQDw7NUdpEi7douGb+7vYbZlFGLV8NFd6YEug7zE26HBU5qqIL1Ffa+dz27RMHFQe6+dr7bgdhH+ZdVUTL26A1bu+RPtEyKl3YfLp+Hl1KlT2Lt3r/l9ZmYmNm/ejOjoaDRp0gTjxo3D4cOH8e677wIApk+fjqSkJLRv3x4OhwOzZ8/Gjz/+iO+//96XZUpDNwQ+2/gHAGDKEDle5DRVQftGkYEug2oRb4cGCm7Fbh2DZ6wCwFmY/mDVVAxNbYqhqU0DXUqFfPos2LBhQ6lF586MTRkxYgTmzJmDrKwsHDx40Py50+nEww8/jMOHDyMsLAydOnXCDz/8UObCdTWRRVUx7rK2ZptqjkKnG2nPLgUArBvfhy/AQcCtG1i66ygAoE/bGCnHUtUGChQkRIWabSKAu0rTP3DpBhZsOgwAGNIlQcoVdh0uHVe9vhoA8MU93aVcB4Jr+FSeLKHB2/9nfA5QMNANgR1Zecg97UTLhuGIjwzx24KpQb/OC8nDpRt49NMtAIDLO8VLGV4MIbAzK99syyjEomHZIxebbSqfUzdw13sZAAI7e0xVFKQ0rWe2iWqDYreOQa+tMr+XNWjLV1EtZhgCRwtKZvbEhNul2R6gd5uGZltGdouG925LNdsyUlUFSQ3qBLqMoCBLaAixavhsVHevnS/UqiHjib5mm0hGChTEhNtwtMAJiwTvQeVht5FEeFmZiKg0h0vHfR9uAgC8NrSLlN3C5B3sNgpiMidd8pxLN/Dh+pLB6UNTm0jZ/UYkI0MILNmRY7aJAIYXqYTZLNj77MBAlxF03LqBFXuOAQB6tmoo5awQl25gwpfbAQDXpjRmeAkCDpeO695YAwD4+K70an/id7oNvLmiZIXdO3u24PYAlVSy7khHs00EMLzQPyhy6rjs1RUAgG8f6Cnt9gC3zinZdVbW7QFURcHAjnFmm8rn7dDgKUMIbPkjz2xXl9swMO37kr2Nbu2RxO0BKqlk3ZEmgS6j1nC4dDwwfxN2ZhWgR8sGmHhlspRjCRleqEICAvuPF5ptGamKgk6NI822jEKsGl6/KSXQZQQFb4cGT9k0FW+P7Ga2q0tTFdxwfqLZJpKRIYS50e0H6w/iiSvaBbiisnHArkSK3TqeXrgTAPDEFe2kSLu6IbDp4AkAQJcm9fiiSz4XDN2A5D+GIbD3WMleVy0b1pViFmZN5tINvLd2P1b89ic6JkTivkta+a2Lsyrv3wwvEuFsIyKi0vi6WHtwtlGQsqgqHujTymxTzVHk1HHxtGUAgOWP9JZy7BCVphsCq/eV7K7bvUUDXnUMoOg6tkCXQJJheJGIzaLioUtbB7qMUty6YfZ/9m8fK+UlfIdLx02z1wEA3r89Tcp1IAQEcvKLzTaVT5bQUOzWMey/6wF4b3uAlCk/AAAynuzLKwiVFGazYOOTlwa6jFrDMAT2Hz+N08VuJNYLQ2SYFYqEYwn510MVcuoGRn+wEYC8M3kMIZBx4ITZlpHdouGb+3uYbSqft0ODp1RFQbv4CLPtDUUu3SvnIfIVh1vHJS/9ZH4va1edfBXVYkII5DvcAICIEIsUaVdVFKQlRZttGdk0FW8MSzHbMtJUBe0bRQa6jKDgi9DgiRCrhm8fuMh757No+Pmx3mabSFZ17RpOFcsdtDlgVyIcmEZEVJrDpePxz0o2h33+mk5SdgvXNEIIuI2SaGBRFb99kK7K+7ecH1OJahiXbuCTDYfwyYZDcOlGoMshChqGEPhy8xF8ufmItN3CNY2iKLBqKqyaKkUPQFn40V4ioVYNe565DAD3OKoK3RBYn5kLAEhNipZyVohLN/DopyWfHi/vFM9lzoOAw6VjxNslY2/m3ppa7U/8Lt3Au2sOAACGpzflc6CSrJqKJ69INttEAMOLVErSrlxvvA6XjqteXw0A+OKe7lJesi126xj61loA8na3qYqC3m0amm0qn7dDg6cMIbDur1DsjU/8Lt3AlIU7AABDUxP5RlxJVk3FbT2SAl1GrVHs1jH2063YdiQPF7VugLED2km5D5d8r/IkFUMI7MzKN9syUqCgVUxdsy2jEKuGd25JDXQZQcHbocFTNk3FjBu7mu3qUhUFgzs3MttEMtINgS82HwYA7Dl6Co/0ayPlPlwcsCsRp9vAtO93A0DJE0aCtCvLmhtUewTD2kLkP4YhcPhkEQAgISqU2wP4mNNtYPbPv+On346hQ0IkHh/QltsD+EMwhxfONiIiKo2vi7UHtwcIUhZVxZ09m5ttqjmKnDoue3UFAODbB3pye4AgwE1J5REq4Vg7CiyGF4nYLCrGD5Rr+/Fg2OHX4dJx+9wNAIDZI7pJOahYQGD/8UKzTeWTJTQUu3VcO2sNAO9tD9Dj+ZL9rVY+3ptXECopzGbBzikDAl1GrWEYAjn5DuiGQMNwO2wWOadL86+HKuTUDdw6pyQYyLw9wMq9f5ptGdktGj69O91sU/m8HRo8pUBBs/phZtsbck87vXIeIl9xuHWkP/ej+b2sXXXyVVSLBWpVw4qoioJOjSPNtoxsmorp13c22zLSVAXdmkUHuoyg4IvQ4IlQm4blj/b22vlCLBq+f6in2SaSlaYAupyfA00csCsRDkwjIiqt2K1j4pfbAQCTB7fnlUs/CNQ+e9wegEgybt3AN1uy8M2WLLi5PQBRpemGwPxfDmH+L4egGzXqs7a0FEVBZKgVkaFWKXoAysKP9hIJtWr4dWI/s02VoxsC2w7nAQA6JERKOSvEqRsY/cFGAPKOHaLSHC4do+ZlAABm3pzile0BPs34AwBwbUpjrrBbSRZVxSP9WpttIoDhRSpn0q5MHC4dN81eBwB4//Y0KWfyFLt1DJ6xCoC83W2qoiAtKdpsU/m8HRo8ZQiBZbuPme3qcukGxn2+FQAwuHMjhpdKsllU3HtJq0CXUWsUu3VM/moHth3OQ8/WDXB/n9ZSLJh6Nvle5UkqhhDIOHDCbMtIgYKEqFCzLaMQq4aP7koPdBlBwduhwVNWTcWL13Yy29WlKgouTY4120Qy0g2BD9YfBABsOZyHe3q35PYA/hDMA3adbgMzlu0FAIzu3VKKtOvWDSzddRQA0KdtDLs7yOdcuoEFm0r2VhnSJYFXKGo5IYQ5xTy6jk3aMRg1hdNt4NWlv+Hn3/5Eh8aRmDgo2W+DpLk9QJCGF842IiIqja+LtQe3BwhSmqpg2AVNzTbVHA6XjqteXw0A+OKe7lKOHaLSdENgV3bJjupt4yL4N0kkEYYXidgtGqYM6RDoMkrRDYH1mbkAgNSkaClfwB0uHfd9uAkA8NrQLlIGA0MI7MzKN9tUPllCQ7Fbx+X/XgnAO5/4i5w6+r78EwDghzG9uL9VJYXZLNj/3OWBLqPWCNQaL1XF8EIVKnbrGPrWWgDyXrI1hMCSHTlmW0Z2i4b3bks121Q+b4cGTylQEBthN9vVJSBw+GSR2SaSUZFLx3mTvwdQstL7lkn9pHzdl68ikooCBa1i6pptGVk1FVOv7mi2ZaSpCi5q1TDQZQQFb4cGT4XaNKwb39dr57NbNHw5+kKzTSQ7t8SLAnLArkQKnW50mlSSeGVNu0RE/lTs1vHct7sAAGMva8vg52NCCDjdBo4WFMOiKoiNCIHqp65bDtgNYjInXfKcWzewYk/J2iU9WzXklHOiStINgXdW7QcAPNq/TWCLqQUURYHdqiExOizQpVSI4UUiIRYNa8f1MdtUOYYhsPfYKQBAy4Z1/fYpoSqcuoFb52wAwO0BgoXDpWPMx5sBAC9f17naA8HduoGFW7IAAFd0iudzoJIsqorRvVuYbSKA4UUqqqogLjIk0GWU4nDpuH1uyZvu7BHdpJzJ43Dr6PfKCgDyDipWFQWdGkeabSqft0ODpwwhsGhrNgBg2r+qf0XUqRt48KPNAIB+7WMZXirJZlHxaP+2gS6j1nC6DTy/eBe2Hc5Dr9YNcftFzaVYMPVs8r3Kk1QMIbBy759mW1bRdWyBLqFCIVYNX93bI9BlBAVvhwZPWTUVTw1ub7arS1UU9GjZwGwTychtGPjvykwAwLrMXIy8sJmU2wMwvEjE6TbwzqqSJ80tFyZJkXZtmorp13c22zIKs1mw8clLA10GeYm3Q0N16hie3sxr5wuxaph3e5rXzldbCCFQ5NIBAKFWTdp1R2oKi6rith5J+HnPMbRvFCnl2l4AZxtJhctgExGVxtfF2oOzjYKUpiq4pmtjs001h8Ol46bZ6wAA79+eJuXYISrNMAQO5BYCAJpGh0k5EJyotmJ4kYjdouGl684LdBml6IbAtsN5AIAOCXJeQnS4dDz+2RYAwPPXdJIyGBhCIOPACbNN5ZMlNDjcOnpPWw7Ae9sDXPmfkpWDv7q3B7cHqKRQq4YdT/U32+RbQghzyQ6LqkjbTcfwQhUqdusYPGMVAHkv2RpC4MvNRwDAXGlXNjZNxRvDUsw2lc/boaE6wkO897sFBPYcPWW2qXIURZHydaemKnLpZjddeIgF68b3kfLxl68ikooCBQlRoWZbRlZNxZNXJJttGVk0Ff3bxwW6jKDhzdDgqTCbBVsn9ffa+ewWDR/ecYHZJpJdwV8bNMqIA3YlUuh0I+3ZpQAgbdolIvInp9vAq0t/AwA80Ke1FLMwazIhBE4WuXAotxB17RY0q1+H2wPQP5M56ZLndENgfWYuACA1KVrKsUNEMnIbBmYs2wcAGN27pZRrjtQkiqKgXpgN9cLkXjvLp8+CFStWYNCgQWjUqBEURcGCBQv+8T7Lly9H165dYbfb0bJlS8yZM8eXJUolxKJh2SMXY9kjF3N7gCowDIFDuYU4lFsIQ9K9oYrdOoa+tRZD31qLYrce6HKoEordOh7++Fc8/PGvXvk/c+sGvtueje+2Z8OtG16osHbQVAW3XNgMt1zYjKGfTD4NL6dPn8Z5552HGTNmVOr4zMxMXH755ejduzc2b96MBx98ELfffju+++47X5YpDVVVkNSgDpIa+O8y3T9xuHTc8e4G3PHuBjhccr7pOtw6LnphGS56YRkckgYDBQpaxdRFq5i60o4dkoW3Q4OndEPgs41/4LONf0D3Qih26gbuei8Dd72XASfDS6XZLRomDmqPiYPac6yQHzjdBqZ9txsj316Pt1dmwiXpc9Wn3UaXXXYZLrvsskofP2vWLCQlJeGll14CALRr1w4rV67EK6+8gv79vTdwjirPEAJLduSYbVnJPoUy1KZhyZhegS4jKJwJDQAwZUj7gNVhUVWMu6yt2a4uVVGQ0rSe2SaSkdsw8J9lewEAy387hhtSE6WcCCHVmJc1a9agb9++pW7r378/HnzwwXLvU1xcjOLiYvP7/Px8X5Xncy7dwIfrDwIAhqY2keIJY9VUc/qxDPWUJcxmwc4pAwJdBnmJt0ODp2wWFXf1auG184VYNXw2qrvXzkfkC5qq4MbUJli590+0iw+XNmhLFV6ys7MRGxtb6rbY2Fjk5+ejqKgIoaGh59xn6tSpmDx5sr9K9CmXbmDCl9sBANemNJYiLFg1FUNTmwS6DKpFvB0aKLhxewD/sls0PCvpell/F/h3x2oaN24c8vLyzK9Dhw4FuiSPqYqCgR3jMLBjnLRplzzjcOm4efY63Dx7nbRjh6g0wxDIznMgO88h7UBwotpKqggbFxeHnJycUrfl5OQgIiKizKsuAGC322G32/1Rns+FWDW8flNKoMsoxTAE9h4rWRW0ZcO60gwk/rtit46Jf12xmjxYzkF9hhBYufdPs03lMwyBowUlXcEx4faAbg9wwdSSdZe88Ynf4dJx3RtrAAAf35Uu5TYWMgq1ash4oq/ZJgIkCy/p6elYtGhRqduWLFmC9PT0AFVEDreOfq+sACDvJVvdEJj/S8kVtwmDkgNcTdlsmorp13c221Q+b4eG6rB4MTgZQmDLH3lmmypHURTUr1szPqAGg0KnGx0nfgddlHx4+OnR3lLuw+XTV4VTp05h79695veZmZnYvHkzoqOj0aRJE4wbNw6HDx/Gu+++CwC4++678Z///AePPfYYbr31Vvz444/4+OOP8c033/iyTPoH0XXkXqzIoqp4pF9rsy0ji6ZiSJeEQJcRNLwZGjwVZrNg77MDvXY+m6bi7ZHdzDaRrPS/svXRgmJp9+Hy6fYAy5cvR+/evc+5fcSIEZgzZw5GjhyJ/fv3Y/ny5aXu89BDD2HHjh1o3LgxnnzySYwcObLSvzOYtwcocuq4eNoyAMDyR+RMuzI6s3rt0QIHYsJDuIItUQ3idBt4c0XJCrt39mzB7QF8zDAEsvIc2HfsFKLDbGjXKMJvr6dVef/m3kYS4aj6qlu8LQuTv96BrDyHeVt8ZAgmDkrGgA7xAaysNN0Q2Ha4pMugQ0IkwxVRJfF1sfbg3kZBym7R8M39Pcw2VWzxtiyMmrfxnIua2XkOjJq3ETNv7ipNgCl26xg8YxUAvgAHi2K3jqcX7gQAPHFFu2r/TeqGwOp9JYO2u7dowABbSZqq4IbzE802EcDwIhVNVdC+UWSgyyjF4dLx+GdbAADPX9NJmhkSuiEw+esdZfbGCgAKgMlf78ClyXFSvOApUJAQFWq2qXzeDg2e0g2B99YeAACMG9i22ucrdusY9t/1ABhgq8Ju0fDcNZ0CXUat4XQbmP3z79h+JA8XtWqIayRZc+xs/OuhChlC4MvNRwDAXGlXBuszc0t1FZ1NAMjKc2B9Zi7SW9T3X2HlCLVpWDX2kkCXERS8HRo8ZVFVPNCnldmuLlVR0C4+wmwTychtGHjhu90AgG+2ZuPKzo0YXqhiLt3Agk2HAQBDuiRI8YSxaiqevCLZbMviaEH5wcWT40ge3g4NnrJZVDx0aWuvnS/EquHbBy7y2vmIfEFTFQzpnIC1vx9HmzhuD0CV4NINPPppSRfN5Z3ipQgLVk3FbT2SAl3GOWLCQ7x6HMnD26GBgluh042UKT8AADKe7MvuNh+zWzRMv6FzoMv4R3wWSERVFPRu09BsU/lSk6IRHxmC7DxHmeNeFABxkSXTpmXgcOm478NNAIDXhnaRZuwQlU8IgXyHGwAQEWKBwr/JgCnilhp0FoYXiYRYNbxzS2qgyyjFMAQOnywCACREhUqzPYCmKpg4KBmj5m2EApQKMGcqnDgoWYrBukDJ2KElO3LMNpVPltBQ5NJx3uTvAXhve4ARb5cM2J17ayoDbCWFWDT8/Fhvs00EMLzQP3C4dVz0QsnCebLNkBjQIR4zb+56zjovcRKu82LVVHPAswzdgTLzdmiQhSEE1mXmmm2qHFVVkBgdFugyao1Cpxupz/yA004difXC8N2DPaVcMLVmvCqQT8m8GdqADvG4NDlO+hV2rZqKoalNAl0GVUGoVcOeZy4D4J3tCmyaihk3djXbRLI6VVzSTXcwt7B2bg8QCMG8wm6RU8dlr5ZsgvjtA3KmXSJfE0LAbZS8LFlUhWNNajmXbuDdNSVT54enN+WVSx8zDIHf/zyNHVn5iIuwI6Wp/z4McoXdICUgsP94odmmmsMwBPYeOwUAaNmwrjRjh2SkKAqsGh8fKuHSDUxZuAMAMDQ1keHFx1RVQcuYumgZUzfQpVSI4UUidouGT+9ON9tUczjcOvq9UnJVrSaN46jJnG4D074vWazrkX5tqr0hoG4IbDp4AgDQpUk96bo2ZaUqCgZ3bmS2iQCGF6loqoJuzeSY2ntGsVvHxC+3AwAmD27PUFUN0XVsgS4hKHg7NHjKbRh4c8XvAIAH+7aCDdWro9it49pZawAwwFZFiFXDqzd0CXQZtYZLNzBv7QHszMpHj5YNMLBjPCwSXu3iXw9VSDcE5v9yCAAwYVBygKsJXmE2CzY+eWmgywgK3g4NnrKoKu7s2dxsV5cCBc3qh5ltIhm5dAOTvy7ppvt4wx/omxzL8EIVc+sGvtteshZI//ZyPGEsqopH+rU220S+5u3Q4CmbRcX4ge28dr5Qm4blj/b22vmIfEFVFPRvH4tf9ueiRcO60nbVcbaRRAqdbiRP+A6APJeVdUNIPw2ZiGquQqcbPZ4vWWtq5eO9pXhdJN/gbKMgpSoK0v5azl6GtLt4W9Y5C8DFS7gAXDBwuHQ8/lnJvlXPX9OJq6sGAU7ZlkfuaWegSyDJ8MoLlWnxtiyMmrfxnAnbZ16+Z97clQGmCmS8qiYrWUKDt//PHC4do+ZlAABm3pzCAFtJXGag9uCVF6oW3RCY/PWOMleaESgJMJO/3oFLk+PYhVRJVk3Fk1ckm20qX5FLr5FBzxACy3YfM9tUOaqqoHVseKDLqDWKnDp6vfgjck+70DKmLhaMvlDKoF0zXhXIq9Zn5pbqKjqbAJCV58D6zFykt6jvv8KCmFVTcVuPpECXQVUQatXw68R+Zru6rJqKF6/tZLaJZCQgcLSgpJtuV3aBtEGb4UUiDpeOq15fDQD44p7uAUu7RwvKDy6eHEdUFd4ODZ5SFAWRoVavnc+qqfhXt0Svna+2cOkGPs34AwBwbUpjBj8fs1s0fHXvhdjyx0kk1guTdm0vhheJGEJgZ1a+2Q6UmPAQrx5HJf32h08WAQASokLZb18Bb4cGCm4u3cC4z7cCAAZ3bsTw4mOaqqBT4yh0ahwV6FIqxPAiEbtFw3u3pZrtQElNikZ8ZAiy8xxljntRAMRFlkybpspxuHVc9ELJdM+aNI6jJnO6DcxYthcAMLp3S69sD7Aru+TDSdu4CI4XqyRVUXBpcqzZJgIYXqSiqQouatUw0GVAUxVMHJSMUfM2QgFKBZgzLx0TByXzxbeKAtkFEky8HRo85TYMvLp0DwDgrl7NvbI9wOX/XgmAAbYqQqwa3hreLdBl1Bou3cBnGX/gt5wCXNC8Pi5pGyPFgqln418PlWlAh3jMvLnrOeu8xHGdF4+E2SzYOWVAoMsICt4ODZ7SVAXDLmhqtqtLgYLYCLvZJpKRSzcw9q9uurdX7ceOp/ozvFDF3LqBFXtKplL2bNUw4E+YAR3icWlyHFfYJb/ydmjwlN2iYcqQDl47X6hNw7rxfb12PiJfUBUFPVs1wKZDJ9G0fpi0XXVcpE4iXMiMiKi0IqeOvi//BAD4YUwvhNrY/VpTcZG6IKUqCjo1jjTbVHMUu3VM/HI7AGDy4PbSTj8kko3A/2bqiTKnEFBtxPAikRCrhq/u7RHoMsgHdENg/i+HAAATBiUHuBqqjEKnG50mfQ8A2DKpn1e2Bxjz8WYAwMvXdZZy1VIZ2S0avhx9odkmAhheiPzCoqp4pF9rs03l83ZoqI4zeyx5gyEEFm3NBgBM+xevIFSWpio4LzEq0GXUGkVOHf2n/4Sc/GIkx0fgwzsvkDJoM7wQ+YGmKkhpGo2jBQ5kHDjBgc//wJuhwVMhFg1rx/Ux29Vl1VQ8Nbi92SaSkYDAwdySbrpNh05Kuz0AB+xKxOHScdPsdQCA929PkzLtUtUt3pZ1zpTzeE45L5dhCBwtKAYAxITbuRpxLefWDSzckgUAuKJTfMBnYdZ0uiGwYX8uMg6cQFLDOri0XazfHnMO2A1ShhDIOHDCbFPwW7wtC6PmbTxnmGF2ngOj5m3EzJu7MsCcRVUVxEVy6wkq4dQNPPjRZgBAv/b+eyOtrTRVQVrz+khrLvemuwwvErFpKt4YlmK2KbjphsDkr3eUOT9CoGS14slf78ClyXHsQpKQ023gnVWZAIBbLkyq9kq/hiFwILcQANA0OoxXlCpJVRT0aNnAbBMBDC9SsWgq+rePC3QZ5CXrM3NLdRWdTQDIynNgfWYu0lvI/SnHn7wdGjzlNgxM/XYXAGBYetNqr/TrcOvoPW05AK7jVBUhVg3zbk8LdBm1hls38O3WbOw9dgrnN6uH9BYNpPxwxb8eIh85WlB+cPHkuNrC26HBU5qq4Jqujc22N4SH8CWX5ObUDdw3f5P5vaxBW76KajHdEFifmQsAnI1SA8SEV27cRmWPqy18ERo8YbdoeOm687x2vjCbBVsn9ffa+Yh8QVUUdGtaD9uP5CMhKlTafbgYXiRS7NYx9K21AORNu1R5qUnRiI8MQXaeo8xxLwpKNrpMTYr2d2lS83ZooOBW5NRx5X9KduP+6t4e3B7Ax0KsGj4d1T3QZfwjjgqViAIFrWLqolVMXWnTLlWepiqY+Ndqumf/b575fuKgZF5hI6qAgMCeo6ew5+gpbg9AJq7zQuRjXOclOBU63Uh7dikAYN34PtW+Elrs1jH+820AgGev7sCl7iuJ3em1B9d5IZLIgA7xuDQ5Duszc3G0wIGY8BC+CFfA26GhOgocbq+dSzcEPtv4BwBgypD2XjtvTaepCmfj+ZHDpWPwjFX4I7cQ5yVG4e2R50u5YCrDC5Ef8AW4arwZGjwVYtGw7JGLzXZ1WVQV4y5ra7aJZGQIgd3ZBQCA1fuOS7tgKruNJOJw6bh97gYAwOwR3aRMu0S+xsXc6O/cuoGlu44CAPq0jeEKuz6mGwI/7zmGtb8fR+vYcFx5XiNuD0AVM4TAyr1/mm2i2khVFSQ1qBPoMkgSTt3AXe9lACiZhcnw4luaquDiNjG4uE1MoEupEMOLRGyaiunXdzbbRBQ4Lt3Ah+sPAgCGpjap9k7Q3HDSM6qiIKVpPbNNBDC8SMWiqRjSJSHQZRAFlLdDQ3XqmPDldgDAtSmNq12Hw63jgqklA5G5jlPlhVg1fBYE647UFG7dwPLdR3EgtxBdEqNwXmI9KScX8K+HiKTi7dDgKVVRMLBjnNn2BouEbwJEf+fUDdz+bob5vaxBW76KajHdENh2OA8A0CEhUsq0S+RrvggNngixanj9phSvnS/MZsHeZwd67XxEvqAqCjo0isDunAI0DLdLu2CqX2YbzZgxAy+++CKys7Nx3nnn4bXXXkNqamqZx86ZMwe33HJLqdvsdjscjsptXhfMs40KnW4kT/gOgLxpl4jInxwuHde9sQYA8PFd6ZyFWYNJNdvoo48+wpgxYzBr1iykpaVh+vTp6N+/P3bv3o2YmLJHM0dERGD37t3m90otGaSlQEFCVKjZJiKq7QwhsOWPPLNNBPjhyktaWhrOP/98/Oc//wEAGIaBxMRE3HfffRg7duw5x8+ZMwcPPvggTp486dHvC+YrL0QkjyKnjounLQMALH+kd7U3BCx263h64U4AwBNXtOP2AJXk1g2s2HMMANCzVUNOla7BqvL+7dNngdPpREZGBvr27fu/X6iq6Nu3L9asWVPu/U6dOoWmTZsiMTERgwcPxvbt28s9tri4GPn5+aW+iCh4FTl1pD37A9Ke/QFFTj1gdQgI5OQXIye/2CsbAuqGwHtrD+C9tQegG7yCUFkWTcUlbWNxSdtYBhc/cLh0XPX6Kpw3+XvcNucXOFyB+xusiE+7jf7880/ouo7Y2NhSt8fGxmLXrl1l3qdNmzZ4++230alTJ+Tl5WHatGno3r07tm/fjsaNG59z/NSpUzF58mSf1E9E/ncmNJxpB4rdouGb+3uY7eqyqCoe6NPKbBPJyBACmw6eBAAs3XVU2q46n3YbHTlyBAkJCVi9ejXS09PN2x977DH89NNPWLdu3T+ew+VyoV27dhg6dCimTJlyzs+Li4tRXFxsfp+fn4/ExMSg7DZyuHTc9+EmAMBrQ7twYBrVSrohsCu75Apq27gIzrqr5XRDYPW+kpXHu7dowOeDj7l1A9/vyMHqfX+ibVwErj8/0W/LFUgzYLdBgwbQNA05OTmlbs/JyUFcXFylzmG1WtGlSxfs3bu3zJ/b7XbY7fZq1yoDQwgs2ZFjtolqI01V0L5RZKDLIEkUu3UM++96AJyF6Q8WTcXAjvEY2DE+0KVUyKdxymazISUlBUuXLjVvMwwDS5cuLXUlpiK6rmPr1q2Ij5f7gfQGq6Zi6tUdMfXqjgFbmIuISrh0A59sOIRPNhyCSzeqfT4hBPKKXMgrcqGG7YfrU6qioF18BNrFR3B7ADL5PMKOGTMGI0aMQLdu3ZCamorp06fj9OnT5louw4cPR0JCAqZOnQoAeOqpp3DBBRegZcuWOHnyJF588UUcOHAAt99+u69LDTirpmJoapNAl0EUUC7dwIJNhwEAQ7okBHR7gEc/3QIAuLxTfLXrKHLpOG/y9wB4BaEqQqwavn3gokCXUWvohsDa34/j8IkidGwciTax4VLuw+Xzv57rr78ex44dw4QJE5CdnY3OnTtj8eLF5iDegwcPQv3b4LUTJ07gjjvuQHZ2NurVq4eUlBSsXr0aycnJvi6ViCTg7dDgKVVR0LtNQ7NNVBsUu3XcNPt/41FlDdp+WWHXn4J5nRfDENh77BQAoGXDulKmXSJfc7h0jJpXsrfKzJtTaszAdSEE3H9NkbaoSq1ZfJOCS5FTxxWv/Yz9f55GRKgVq8Ze4rfwUpX3b4YXiXB7ACKi0hwuHSPeLhmwO/fW1BoTZulc0sw2oqqLrmMLdAlERNIwhMC6zFyzTQQwvEglzGbBxicvDXQZRISSy+eXvboCAPDtAz2rvT2A021g2vcle7Y90q8NbBbOKKwMm6Zixo1dzTYRwPBCRJLxdmjwlIDA/uOFZru63IaBN1f8DgB4sG8r2Hy7UkWNYdFUXN6p5i+VIQuHS8et7/yCPUdPIa15NKb96zwpu+oYXohIKt4ODZ6yWzR8ene62a4ui6rizp7NzTaRjAwhsPr34wCAhVuy8MK1nQJcUdkYXiTicOl4/LOSKaLPX9NJyrRL5GveDg2e0lQF3ZpFe+18NouK8QPbee18tYVuCGw6eAIA0KVJPW4P4GM2TcVL/zoPP+85hvaNIqRdMJXhRSKGEPhy8xEAwNSrOwa4GqLA8HZooOBW7NZx7aw1ADgL0x8smoprUhrjmpRzN0KWCZ8FErFqKp68ItlsE1HguHUD320v2Wusf/tYWKr5N8l1XjyjQEGz+mFmmwjgOi9EJBlvhwZPeXvdJa7jRMFANwS2/HESxwqK0SYuHIn1wvy2YCrXeSGioOXUDYz+YCOAkjf5QIUXVVGQlhRttolqg2K3jqteX21+L2vQlq+iWswwBA6fLAIAJESFcnsAqpVkCQ0hVg0f3ZXutfOFWjX8OrGf2SaSkQIF8ZEhyM5zSD1phN1GEuFlZSKi0mrqXld0LnYbBTF+IiMi+h9DCCzbfcxsEwEML1IJs1mwc8qAQJdBRCj5xH+m7/+Le7pX+xO/021gxrK9AIDRvVtye4BKsmoqXvxroTTOwqQzGF6ISCreDg2eMoTAzqx8s11dbsPAq0v3AADu6tWc2wNUklVT8a9uiYEuo9ZwuHSMfn8jdmUXoHuL+nj6qg4BXSyyPAwvRCQVb4cGT9ktGt67LdVsV5emKhh2QVOzTSQjQwgs3XUUAPBJxh+YPLh9gCsqG8OLRIrdOiZ+uR0AMHlweynTLpGveTs0eEpTFVzUqqHXzme3aJgypIPXzldb6IbAruySMNs2LoLBz8esmoopQ9rj59/+RPtGEdLuw8XwIhHdEJj/yyEAwIRByQGuhigwvB0aKLgVu3Vc/u+VADgL0x+smoobU5uiZcNwHC1wIOPACaQmRUsXGvkskIhFVfFIv9Zmm4gCx60bWLGnZJZLz1YNA7ZYXm2nQEFshN1sk28t3paFyV/vQFaew7wtPjIEEwclY0CH+ABWVhrXeZGIbgisz8zF0QIHYsJDpEy7RL4mS2jwxfYAnSZ9DwDYMqkfryCQdBZvy8Ld8zaec/uZd6GZN3f1aYDhOi9BKFjSLpGvOXUDt87ZACDw2wN0ahxptr3hzMaMRLLRDYHJX+8o82cCJQFm8tc7cGlynBQfqhleJLB4WxZGzduIs1/WsvMcGDVvo8/TLpFMfBEaPBFi1fDVvT28dz6LhrXj+phtIpmsz8wt9eH5bAJAVp4D6zNzkd6ivv8KKwfDS4CdSbtlfR6TMe0S+Zq3Q4MsVFVBXGRIoMsIOg6XjjEfbwYAvHxdZ24P4CNHC8oPLp4c52scgRZgVUm7RES1jSEEFm3NxqKt2dwewIdiwisXrCt7nK/xykuABVvaJaotHC4dN81eBwB4//Y0r2wP8M6qTADALRcmcXuASrJqKp76a6E0bg/gO6lJ0eZu0mVFRAVAXGTJRBIZMLwEWLClXSJf83Zo8JQhBDIOnDDb1eU2DEz9dhcAYFh6U24PUElWTcXw9GaBLqPG01QFEwclVzjbaOKgZGmGLzC8BFiwpV0iX/N2aPCUTVPxxrAUs11dmqrgmq6NzTaRbAZ0iMerN5yHB+b/Wur2OAlnvnKdFwmcmW0EoFSA8dfceiKZuHXD3FulT9sYLg5XyxmGwIHcQgBA0+gwqAx+PuXSDcxdvR8HjheiS5MoxEeG+m3Nsaq8fzO8SILrvBARncvbiwWSvLhIXRAa0CEelybHcYVdIkmcWfEaAP8WAyw8hG9VVBqvvBCRVGQJDb7YHiDt2aUAgHXj+/AKAknJMAQOnywCACREhfq1m45XXogoaBW7dQx9ay2AwHYTKFDQKqau2faGAofbK+ch8hWHW8dFLywDIHc3nZxVEVGt5YvQ4IlQm4YlY3p57XwhFg3LHrnYbBPJKjQIVjFmtxEREUmr2K1j/OfbAADPXt0Bdga/Gqsq79+cg0hERNLSDYHPNv6Bzzb+AZ27ctNf2G1ERFQGh0vH7XM3AABmj+hW7ZV+XbqBD9cfBAAMTW3Cpe4ryaKqGHdZW7NNBDC8EJFkvB0aPGUIgZV7/zTb1eXSDUz4cjsA4NqUxgwvlWSzqLirV4tAl1FrFLt1TPzreTp5cHtpu+kYXohIKt4ODZ6yaSqmX9/ZbFeXqigY2DHObBPJSDcE5v9yCAAwYVBygKspH8MLEUnF26HBUxZNxZAuCV47X4hVw+s3pXjtfLWFYQgcLSgGAMSE27k9gI9ZVBWP9GtttmXF8EJEUvF2aKDg5nDruGBqyeJ+Mq87UlNoqoKUptE4WuBAxoET0q4uzWcBEVEZdENg2+E8AECHhEgpX8BrCwsfe78Ipj32uM4LEUlFltDg7e0Bipw6Lp5WsnLp8kd6I9Qm50BIqp0Wb8vCqHkbcXYgOPPXN/Pmrj4PMFznhYiCVrFbx+AZqzB4xioUu/WA1aFAQUJUKBKiQr2y0q+AQE5+MXLyiyHOeYsgChzdEJj89Y4yn5Vnbpv89Q6p1tlhtxERSeVMaDjTDpRQm4ZVYy/x2vnsFg3f3N/DbBPJYn1mbqmuorMJAFl5DqzPzEV6i/r+K6wCDC9EJBVvhwZZaKqC9o0iA11G0Cl263h64U4AwBNXtGPw84GjBeUHF0+O8wd2GxERkbR0Q+C9tQfw3toDUnVb1CQx4SFePc4feOWFiKgMDpeO+z7cBAB4bWgXr2wPsGDTYQDAkC4JXGG3kiyqigf6tDLb5H2pSdGIjwxBdp6jzHEvCoC4yBCkJkX7u7RyMbwQkVS8HRo8ZQiBJTtyzHZ1uXQDj366BQBwead4hpdKsllUPHRp60CXUaNpqoKJg5Ixat5GKECpAHNm1NnEQclSLRfgl7+eGTNmoFmzZggJCUFaWhrWr19f4fGffPIJ2rZti5CQEHTs2BGLFi3yR5lEJIEzoWHJjpyAbg9g1VRMvbojpl7d0StBQ1UU9G7TEL3bNOT2ACSdAR3iMfPmroiLLN01FBcZ4pdp0lXl83VePvroIwwfPhyzZs1CWloapk+fjk8++QS7d+9GTEzMOcevXr0aPXv2xNSpU3HFFVfggw8+wPPPP4+NGzeiQ4cO//j7uM4LUXBz6QY+zfgDADcwJEAIgXyHGwAQEWKBwuDnU7ohsD4zF0cLHIgJD/HrCrtVef/2eXhJS0vD+eefj//85z8AAMMwkJiYiPvuuw9jx4495/jrr78ep0+fxsKFC83bLrjgAnTu3BmzZs36x9/H8EJEVHN4e7FAkpc0i9Q5nU5kZGSgb9++//uFqoq+fftizZo1Zd5nzZo1pY4HgP79+5d7fHFxMfLz80t9ERFVl2EI/JZTgN9yCmBwlguRVHwaYf/880/ouo7Y2NhSt8fGxmLXrl1l3ic7O7vM47Ozs8s8furUqZg8ebJ3CiaigDMMgb3HTgEAWjasG7BdhB1uHf1eWQHAe9sDXPZqyfm+faAntweopFCrhj3PXAaAexzR/wR9Z/K4ceOQl5dnfh06dCjQJRFRNZwJDf1eWQFHALcHAIDoOjZE17F55VwCAvuPF2L/8UJuD1AFiqLAqqmwairHu5DJp1deGjRoAE3TkJOTU+r2nJwcxMXFlXmfuLi4Kh1vt9tht9u9UzARScFbgaE6wmwWbHzyUq+dz27R8Ond6WabiDzn0ysvNpsNKSkpWLp0qXmbYRhYunQp0tPTy7xPenp6qeMBYMmSJeUeT0Q1y5nQsPHJS2vU4ExNVdCtWTS6NfPf7I2awOk28OyinXh20U443UagyyFJ+PyVYcyYMRgxYgS6deuG1NRUTJ8+HadPn8Ytt9wCABg+fDgSEhIwdepUAMADDzyAXr164aWXXsLll1+O+fPnY8OGDXjzzTd9XSoREUnGbRh4c8XvAIAH+7aCLfhHO5AX+Dy8XH/99Th27BgmTJiA7OxsdO7cGYsXLzYH5R48eBDq35Z87t69Oz744AM88cQTGD9+PFq1aoUFCxZUao0XIiJvcbh0PP5ZyYq4z1/Tqdor/bp1A99tL+kS798+FhauX1MpFlXFnT2bm20iwA/rvPgb13khCm7eDg2e8vb6IlyvhKhiVXn/5l8PEUnFEAJfbj4CAJh6dceA1WHVVDx5RbLZri5VUZD218Z23B6AqHoYXohIKt4ODdWp47YeSV47X4hVw0d3ceJBVQkh4P5rkUCLqnC6NAFgeCEiyXg7NFBwK3Lp7G6jc/BZQERUBsMQOHyyCACQEBUasJV+iehcDC9EJBVZQoPDreOiF5YB8M4nfodLx1WvrwYAfHFP94ANRA42oVYNv07sZ7aJAIYXIpKMt0NDdXjzzdIQAjuz8s02VY6iKIgMtQa6DJIMwwsRSUeGT9hhNgt2ThngtfPZLRreuy3VbBOR57jOCxERScvpNjBj2V4AwOjeLWGzcKG6morrvBARUY3gNgy8unQPAOCuXs25PQABYHghIipTsVvHxC+3AwAmD25f7a4et25gxZ5jAICerRpye4BK0lQFwy5oaraJAIYXIpKMt0ODp3RDYP4vhwAAEwYlV/t8Tt3ArXM2ACgZiMzwUjl2i4YpQ7i3HZXG8EJEUvF2aPCURVXxSL/WZru6VEVBp8aRZpuIPMfwQkRS8XZo8JSmKkhpGo2jBQ5kHDiB1KToanVbhFg1fHVvDy9WSFR7MbwQkVS8HRo8sXhbFiZ/vQNZeQ7ztvjIEEwclIwBHeL9WkttV+h0o9Ok7wEAWyb14/YABIDhhYgkIkNoWLwtC6PmbcTZa0hk5zkwat5GzLy5KwOMn53ZmJHoDK7zQkRSKC80nLnm4o/QoBsCPZ7/sVR4OruWuMgQrHz8kipfDXK4dNw0ex0A4P3b07g9QCUZhsDRgmIAQEy4nXtM1WBVef/mcHciCjjdEJj89Y5zggsA87bJX++A7uNP4Oszc8sNLmdqycpzYH1mbpXPbQiBjAMnkHHgBLcHqAJVVRAXGYK4yBAGFzKx24iIAq4qoSG9RX2f1XG0oPwaPDnu72yaijeGpZhtIvIcwwsRBZwvQ0NVxISHePW4v7NoKvq3j6vy/Wo7p9vAO6syAQC3XJjE7QEIAMMLEUnAl6GhKlKTohEfGYLsPEeZXVhnxrykJkX7tA76H7dhYOq3uwAAw9KbcnsAAsAxL0QkgTOhobwRDQpKZh35OjRoqoKJfy2Md3YtZ76fOCjZo6nbuiGwZt9xrNl33Odjd2oSTVVwTdfGuKZrY24PQCaGFyIKOF+Ghqoa0CEeM2/uirjI0ld54iJDqjXjqditY+hbazH0rbUoduveKLVWsFs0vHTdeXjpuvMCtlUEyYfdRkQkhTOh4ex1XuICsDjcgA7xuDQ5Duszc3G0wIGY8JBqL5anQEGrmLpmm4g8x3VeiEgquiG8GhqIKDhU5f2bV16ISCqaqvh0OjQFl0KnG2nPLgUArBvfh9sDEACGFyIiklyBwx3oEkgyDC9ERH7gcOm4fe4GAMDsEd24PUAlhVg0LHvkYrNNBDC8EBH5hSEEVu7902xT5aiqgqQGdQJdBkmG4YWIyA9smorp13c220TkOYYXIiI/sGgqhnRJCHQZQcelG/hw/UEAwNDUJrAy+BEYXoiISGIu3cCEL7cDAK5NaczwQgAYXoiI/EI3BLYdzgMAdEiI5No1laQqCgZ2jDPbRADDCxGRXxS7dQyesQoAsOOp/lyvpJJCrBpevykl0GWQZPjXQ0TkBwoUJESFmm0i8hzDCxGRH4TaNKwae0mgyyCqETjyiYiIpFXk1JH27A9Ie/YHFDm5GzeV4JUXIiKSloBATn6x2SYCGF6IiPzC4dJx34ebAACvDe3C7QEqyW7R8M39Pcw2EcDwQkTkF4YQWLIjx2xT5WiqgvaNIgNdBkmG4YWIyA+smoqpV3c020TkOYYXIiI/sGoqhqY2CXQZQcelG1iw6TAAYEiXBAY/AsDwQkREEnPpBh79dAsA4PJO8QwvBIDhhYjILwxDYO+xUwCAlg3rQuX2AJWiKgp6t2lotokAhhciIr9wuHX0e2UFAG4PUBUhVg3v3JIa6DJIMvzrISLyk+g6tkCXQFQjMLwQEflBmM2CjU9eGugyiGoEjnwiIiJpFTl1XPziMlz84jJuD0AmXnkhIiJpCQjsP15otokAH195yc3NxU033YSIiAhERUXhtttuw6lTpyq8z8UXXwxFUUp93X333b4sk4jI5xwuHQ/M34QH5m+Cw8UrCJVlt2j49O50fHp3OrcHIJNPr7zcdNNNyMrKwpIlS+ByuXDLLbfgzjvvxAcffFDh/e644w489dRT5vdhYWG+LJOIyOcMIfDl5iMAYK60S/9MUxV0axYd6DJIMj4LLzt37sTixYvxyy+/oFu3bgCA1157DQMHDsS0adPQqFGjcu8bFhaGuLg4X5VGROR3Vk3Fk1ckm20i8pzP/oLWrFmDqKgoM7gAQN++faGqKtatW1fhfd9//300aNAAHTp0wLhx41BYWFjuscXFxcjPzy/1RUQkG6um4rYeSbitRxLDSxW4dQPfbMnCN1uy4NaNQJdDkvDZlZfs7GzExMSU/mUWC6Kjo5GdnV3u/W688UY0bdoUjRo1wpYtW/D4449j9+7d+Pzzz8s8furUqZg8ebJXayciIjk4dQOjP9gIoGRxPwuDH8GD8DJ27Fg8//zzFR6zc+dOjwu68847zXbHjh0RHx+PPn36YN++fWjRosU5x48bNw5jxowxv8/Pz0diYqLHv5+IyBcMQ+DwySIAQEJUKLcHqCRVUZCWFG22iQAPwsvDDz+MkSNHVnhM8+bNERcXh6NHj5a63e12Izc3t0rjWdLS0gAAe/fuLTO82O122O32Sp+PiCgQHG4dF72wDAC3B6iKEKuGj+5KD3QZJJkq//U0bNgQDRs2/Mfj0tPTcfLkSWRkZCAlJQUA8OOPP8IwDDOQVMbmzZsBAPHx8VUtlYhIKqFWTvUl8gZFCOGzVX8uu+wy5OTkYNasWeZU6W7duplTpQ8fPow+ffrg3XffRWpqKvbt24cPPvgAAwcORP369bFlyxY89NBDaNy4MX766adK/c78/HxERkYiLy8PERERvvqnERERkRdV5f3bpyOf3n//fbRt2xZ9+vTBwIED0aNHD7z55pvmz10uF3bv3m3OJrLZbPjhhx/Qr18/tG3bFg8//DCuueYafP31174sk4iIJOVw6bjs1Z9x2as/c3E/Mvm00zU6OrrCBemaNWuGv1/4SUxMrPQVFiIiqvkMIbAzK99sEwHc24iIyC+K3TomfrkdADB5cHsudV9JdouG925LNdtEAMMLEZFf6IbA/F8OAQAmDEoOcDXBQ1MVXNTqnyeJUO3C8EJE5AcWVcUj/VqbbSLyXK0NL7quw+VyBboM8hKbzQaVbwgkMU1VkNI0GkcLHMg4cAKpSdHQuFDdP3LrBlbsOQYA6NmqIVfYJQC1MLwIIZCdnY2TJ08GuhTyIlVVkZSUBJvNFuhSiM6xeFsWJn+9A1l5DvO2+MgQTByUjAEduIZVRZy6gVvnbADA7QHof2pdeDkTXGJiYhAWFgaFy00HPcMwcOTIEWRlZaFJkyb8PyWpLN6WhVHzNuLseTLZeQ6MmrcRM2/uygBTAVVR0KlxpNkmAmpZeNF13Qwu9evXD3Q55EUNGzbEkSNH4Ha7YbVaA10OEYCSQbqTv95xTnABAAFAATD56x24NDmOXUjlCLFq+OreHoEugyRTq66/nRnjEhYWFuBKyNvOdBfpOhexInmsz8wt1VV0NgEgK8+B9Zm5/iuKqAaoVeHlDHYr1Dz8PyUZHS0oP7h4chwRlaiV4YWIyB9iwkO8elxt5HDpuGbmalwzczW3ByATwwt5haIoWLBgQaDLIJJKalI04iNDUN51QQUls45Sk6L9WVZQMYRAxoETyDhwgtsDkInhJYgcO3YMo0aNQpMmTWC32xEXF4f+/ftj1apVgS6NiMqgqQom/rWa7tkB5sz3Ewclc7BuBWyaijeGpeCNYSmwcZo0/aVWzTbyJt0QWJ+Zi6MFDsSEh/hlwalrrrkGTqcTc+fORfPmzZGTk4OlS5fi+PHjPv29ROS5AR3iMfPmrues8xLHdV4qxaKp6N8+LtBlkGQYYz2weFsWejz/I4a+tRYPzN+MoW+tRY/nf8TibVk++50nT57Ezz//jOeffx69e/dG06ZNkZqainHjxuHKK68EALz88svo2LEj6tSpg8TERNxzzz04deqUeY45c+YgKioKCxcuRJs2bRAWFoZrr70WhYWFmDt3Lpo1a4Z69erh/vvvLzVrp1mzZpgyZQqGDh2KOnXqICEhATNmzKiw3kOHDuG6665DVFQUoqOjMXjwYOzfv9/8+fLly5Gamoo6deogKioKF154IQ4cOODdB41IEgM6xGPl45fgwzsuwKs3dMaHd1yAlY9fwuBC5CGGlyo6s+DU2dMfzyw45asAU7duXdStWxcLFixAcXFxmceoqop///vf2L59O+bOnYsff/wRjz32WKljCgsL8e9//xvz58/H4sWLsXz5clx11VVYtGgRFi1ahPfeew9vvPEGPv3001L3e/HFF3Heeedh06ZNGDt2LB544AEsWbKkzDpcLhf69++P8PBw/Pzzz1i1ahXq1q2LAQMGwOl0wu12Y8iQIejVqxe2bNmCNWvW4M477+SMIarRNFVBeov6GNw5Aekt6rOrqJJ0Q2DNvuNYs+84dINjXqiEIkTNGgGVn5+PyMhI5OXlISIiotTPHA4HMjMzkZSUhJCQqo/u1w2BHs//WO66DQpKLgWvfPwSn7wwffbZZ7jjjjtQVFSErl27olevXrjhhhvQqVOnMo//9NNPcffdd+PPP/8EUHLl5ZZbbsHevXvRokULAMDdd9+N9957Dzk5Oahbty4AYMCAAWjWrBlmzZoFoOTKS7t27fDtt9+a577hhhuQn5+PRYsWlfzbFQVffPEFhgwZgnnz5uHpp5/Gzp07zUDidDoRFRWFBQsWoFu3bqhfvz6WL1+OXr16eeWxqe7/LRHJqdDpRvKE7wCUbA8QZuNoh5qqovfvs/HKSxUEesGpa665BkeOHMFXX32FAQMGYPny5ejatSvmzJkDAPjhhx/Qp08fJCQkIDw8HMOGDcPx48dRWFhoniMsLMwMLgAQGxuLZs2amcHlzG1Hjx4t9bvT09PP+X7nzp1l1vnrr79i7969CA8PN68YRUdHw+FwYN++fYiOjsbIkSPRv39/DBo0CK+++iqysnzX5UZEwUuBglYxddEqpi6UcudtUW3D8FIFMiw4FRISgksvvRRPPvkkVq9ejZEjR2LixInYv38/rrjiCnTq1AmfffYZMjIyzHEpTqfTvP/ZS+crilLmbYZheFzjqVOnkJKSgs2bN5f6+u2333DjjTcCAN555x2sWbMG3bt3x0cffYTWrVtj7dq1Hv9OIqqZQm0alozphSVjeiHUpgW6HJIEw0sVyLjgVHJyMk6fPo2MjAwYhoGXXnoJF1xwAVq3bo0jR4547fecHSzWrl2Ldu3alXls165dsWfPHsTExKBly5alviIjI83junTpgnHjxmH16tXo0KEDPvjgA6/VS0RENRfDSxUEcsGp48eP45JLLsG8efOwZcsWZGZm4pNPPsELL7yAwYMHo2XLlnC5XHjttdfw+++/47333jPHrHjDqlWr8MILL+C3337DjBkz8Mknn+CBBx4o89ibbroJDRo0wODBg/Hzzz8jMzMTy5cvx/33348//vgDmZmZGDduHNasWYMDBw7g+++/x549e8oNQ0RERH/HkU9VcGbBqVHzNkIBSu0U6+sFp+rWrYu0tDS88sor2LdvH1wuFxITE3HHHXdg/PjxCA0Nxcsvv4znn38e48aNQ8+ePTF16lQMHz7cK7//4YcfxoYNGzB58mRERETg5ZdfRv/+/cs8NiwsDCtWrMDjjz+Oq6++GgUFBUhISECfPn0QERGBoqIi7Nq1C3PnzsXx48cRHx+P0aNH46677vJKrURUczhcOm6fuwEAMHtEN4RY2XVEnG3kkcXbss5ZcCq+Bi841axZMzz44IN48MEHA11KuTjbiKhm4myj2qMqs434LPDAgA7xuDQ5zu8r7BIR1TY2TcX06zubbSKA4cVjZxacIiIi37FoKoZ0SQh0GSQZhhf6R39f1p+IiCjQGF6IiEhauiGw7XAeAKBDQiS75wkAp0oTEZHEit06Bs9YhcEzVqHYrf/zHahW4JUXIiKSlgIFCVGhZpsIYHghIiKJhdo0rBp7SaDLIMmw24iIiIiCCsMLERERBRWGFypl5MiRGDJkiPn9xRdfXO2Vdb1xDiKqnRwuHXe8uwF3vLsBDhcH7FIJjnkJEiNHjsTcuXMBAFarFU2aNMHw4cMxfvx4WCy++2/8/PPPYbVaK3Xs8uXL0bt3b5w4cQJRUVEenYOI6O8MIbBkR47ZJgIYXoLKgAED8M4776C4uBiLFi3C6NGjYbVaMW7cuFLHOZ1O2Gw2r/zO6Ojq75DtjXMQUe1k1VRMvbqj2SYC2G0UVOx2O+Li4tC0aVOMGjUKffv2xVdffWV29TzzzDNo1KgR2rRpAwA4dOgQrrvuOkRFRSE6OhqDBw8utVqurusYM2YMoqKiUL9+fTz22GM4e5/Os7t8iouL8fjjjyMxMRF2ux0tW7bEf//7X+zfvx+9e/cGANSrVw+KomDkyJFlnuPEiRMYPnw46tWrh7CwMFx22WXYs2eP+fM5c+YgKioK3333Hdq1a4e6detiwIAByMrK8u4DSkTSs2oqhqY2wdDUJgwvZKr1zwQhBAqd7oB8VXdD79DQUDidTgDA0qVLsXv3bixZsgQLFy6Ey+VC//79ER4ejp9//hmrVq0yQ8CZ+7z00kuYM2cO3n77baxcuRK5ubn44osvKvydw4cPx4cffoh///vf2LlzJ9544w3UrVsXiYmJ+OyzzwAAu3fvRlZWFl599dUyzzFy5Ehs2LABX331FdasWQMhBAYOHAiXy2UeU1hYiGnTpuG9997DihUrcPDgQTzyyCPVeryIiKhmqPXdRkUu3dxu3d883d5dCIGlS5fiu+++w3333Ydjx46hTp06mD17ttldNG/ePBiGgdmzZ0NRShZ2eueddxAVFYXly5ejX79+mD59OsaNG4err74aADBr1ix89135j8Vvv/2Gjz/+GEuWLEHfvn0BAM2bNzd/fqZ7KCYmptSYl7/bs2cPvvrqK6xatQrdu3cHALz//vtITEzEggUL8K9//QsA4HK5MGvWLLRo0QIAcO+99+Kpp56q8mNFRMHNMAT2HjsFAGjZsC5Ubg9AYHgJKgsXLkTdunXhcrlgGAZuvPFGTJo0CaNHj0bHjh1LjXP59ddfsXfvXoSHh5c6h8PhwL59+5CXl4esrCykpaWZP7NYLOjWrVu5V4Q2b94MTdPQq1cvj/8NO3fuhMViKfV769evjzZt2mDnzp3mbWFhYWZwAYD4+HgcPXrU499LRMHJ4dbR75UVADz/wEc1T61/FoRaNex4qn/AfndV9O7dGzNnzoTNZkOjRo1KzTKqU6dOqWNPnTqFlJQUvP/+++ecp2HDhp7VGxrq0f08cfbsJEVRqt3NRkTBKbqOdyYgUM1R68OLoihBk+Tr1KmDli1bVurYrl274qOPPkJMTAwiIiLKPCY+Ph7r1q1Dz549AQButxsZGRno2rVrmcd37NgRhmHgp59+MruN/u7MlR9dL38thnbt2sHtdmPdunVmt9Hx48exe/duJCcnV+rfRkS1R5jNgo1PXhroMkgytX7Abk110003oUGDBhg8eDB+/vlnZGZmYvny5bj//vvxxx9/AAAeeOABPPfcc1iwYAF27dqFe+65BydPniz3nM2aNcOIESNw6623YsGCBeY5P/74YwBA06ZNoSgKFi5ciGPHjuHUqVPnnKNVq1YYPHgw7rjjDqxcuRK//vorbr75ZiQkJGDw4ME+eSyIiKhmYXipocLCwrBixQo0adIEV199Ndq1a4fbbrsNDofDvBLz8MMPY9iwYRgxYgTS09MRHh6Oq666qsLzzpw5E9deey3uuecetG3bFnfccQdOnz4NAEhISMDkyZMxduxYxMbG4t577y3zHO+88w5SUlJwxRVXID09HUIILFq0iAvZERFRpSiihg0kyM/PR2RkJPLy8s7pLnE4HMjMzERSUhJCQkICVCH5Av9viWomh0vH459tAQA8f00nhFRxrCAFj4rev8/GKy9ERCQtQwh8ufkIvtx8hNsDkCk4RqoSEVGtZNVUPHlFstkmAhheiIhIYlZNxW09kgJdBkmGMZaIiIiCCq+8EBGRtAxD4PDJIgBAQlQotwcgAD688vLMM8+ge/fuCAsLK3efm7MJITBhwgTEx8cjNDQUffv2LbXbMBER1S4Ot46LXliGi15YBoe7/AUwqXbxWXhxOp3417/+hVGjRlX6Pi+88AL+/e9/Y9asWVi3bh3q1KmD/v37w+Fw+KpMIiKSXKhVq/J2KlSz+azbaPLkyQCAOXPmVOp4IQSmT5+OJ554wlxp9d1330VsbCwWLFiAG264wVelEhGRpMJsFuycMiDQZZBkpBmwm5mZiezs7FJ75kRGRiItLQ1r1qwp937FxcXIz88v9UVEREQ1lzThJTs7GwAQGxtb6vbY2FjzZ2WZOnUqIiMjza/ExESf1klERESBVaXwMnbsWCiKUuHXrl27fFVrmcaNG4e8vDzz69ChQ379/f4ycuTIMh/vAQN4OZWIaq5it46xn23B2M+2oJgDdukvVRrz8vDDD2PkyJEVHtO8eXOPComLiwMA5OTkID4+3rw9JycHnTt3Lvd+drsddrvdo98ZbAYMGIB33nmn1G3l/dtdLtc5Gx06nU7YbLYq/15P70dEVF26ITD/l5IPpRMGJQe4GpJFla68NGzYEG3btq3wy9M3uaSkJMTFxWHp0qXmbfn5+Vi3bh3S09M9OmdNY7fbERcXV+qrXr16AABFUTBz5kxceeWVqFOnDp555hlMmjQJnTt3xuzZs0ttWHjw4EEMHjwYdevWRUREBK677jrk5OSYv6e8+xER+ZtFVfFIv9Z4pF9rWFRpRjpQgPnsmXDw4EFs3rwZBw8ehK7r2Lx5MzZv3oxTp06Zx7Rt2xZffPEFgJI33wcffBBPP/00vvrqK2zduhXDhw9Ho0aNMGTIEF+VaSp0ulHodOPvm2w73QYKne5zLlWeOdYw/nesSy851uGq3LG+MGnSJFx11VXYunUrbr31VgDA3r178dlnn+Hzzz/H5s2bYRgGBg8ejNzcXPz0009YsmQJfv/9d1x//fWlznX2/YiIAkFTFaQ0jUZidBgyDpyAbnBzRvLhVOkJEyZg7ty55vddunQBACxbtgwXX3wxAGD37t3Iy8szj3nsscdw+vRp3HnnnTh58iR69OiBxYsX++WTf/KE7wAAGU/0Rf26JV0xb67Yh2nf/4Ybzk/Ec9d0Mo9NmfIDilw6fn6sNxKjwwAA7645gCkLd2Bw50Z49YYu5rE9nl+G3NNOfP9QT7SODQcAfJrxB4amNqlyjQsXLkTdunVL3TZ+/HiMHz8eAHDjjTfilltuKfVzp9OJd999Fw0bNgQALFmyBFu3bkVmZqY5uPndd99F+/bt8csvv+D8888v835ERP62eFsWJn+9A1l5/1vrKz4yBBMHJWNAh/gK7kk1nc/Cy5w5c/5xjRdx1vbmiqLgqaeewlNPPeWrsoJa7969MXPmzFK3RUdHm+1u3bqdc5+mTZuWCiA7d+5EYmJiqVlZycnJiIqKws6dO83wcvb9iIj8afG2LIyatxFnX2fJznNg1LyNmHlzVwaYWox7G/1lx1P9AaDUKo539myBW3skQTtrL42MJ0vWogmx/O/Y4elNMTQ1EapS+tiVj/c+59hrUxp7VGOdOnXQsmXLCn9emdsq+7uIiAJBNwQmf73jnOACAAKAAmDy1ztwaXLcOa/PVDtw9NNfwmwWhNksUP4WPmwWFWE2C+wWrcxj/75BmFUrOTbEWrljA6Vdu3Y4dOhQqSnlO3bswMmTJ5GczJH8RBR46zNzS3UVnU0AyMpzYH1mrv+KIqnwyksQKS4uPmfBPovFggYNGlT6HH379kXHjh1x0003Yfr06XC73bjnnnvQq1evMrudiIj87WhB5fazq+xxVPPwyksQWbx4MeLj40t99ejRo0rnUBQFX375JerVq4eePXuib9++aN68OT766CMfVU1EVDUx4ZWbpFHZ46jmUcTZo2aDXH5+PiIjI5GXl4eIiIhSP3M4HMjMzOTaJTUQ/2+Jag7dEOjx/I/IznOUOe5FARAXGYKVj1/CMS81SEXv32fjlRciIpKKpiqY+NdqumdHkzPfTxyUzOBSizG8EBGRdAZ0iMfMm7siLrL0ldS4yBBOkyYO2CUiIjkN6BCPS5PjsD4zF0cLHIgJD0FqUjSvuBDDCxERyUtTFaS3qB/oMkgy7DYiIiKioFIrw4th+GZjRAqcGjZpjoiIKlCruo1sNhtUVcWRI0fQsGFD2Gy2UivqUnASQuDYsWNQFAVWqzXQ5RARkY/VqvCiqiqSkpKQlZWFI0eOBLoc8iJFUdC4cWNomvbPBxMRUVCrVeEFKLn60qRJE7jdbui6HuhyyEusViuDCxFRLVHrwgsAs3uBXQxERETBp1YO2CUiIqLgxfBCREREQYXhhYiIiIJKjRvzcma9j/z8/ABXQkRERJV15n27Mut21bjwUlBQAABITEwMcCVERERUVQUFBYiMjKzwGEXUsKVJDcPAkSNHEB4e7vUF6PLz85GYmIhDhw4hIiLCq+em/+Hj7B98nP2Dj7P/8LH2D189zkIIFBQUoFGjRlDVike11LgrL6qqonHjxj79HREREfzD8AM+zv7Bx9k/+Dj7Dx9r//DF4/xPV1zO4IBdIiIiCioML0RERBRUGF6qwG63Y+LEibDb7YEupUbj4+wffJz9g4+z//Cx9g8ZHucaN2CXiIiIajZeeSEiIqKgwvBCREREQYXhhYiIiIIKwwsREREFFYaXs8yYMQPNmjVDSEgI0tLSsH79+gqP/+STT9C2bVuEhISgY8eOWLRokZ8qDW5VeZzfeustXHTRRahXrx7q1auHvn37/uP/C5Wo6vP5jPnz50NRFAwZMsS3BdYQVX2cT548idGjRyM+Ph52ux2tW7fma0clVPVxnj59Otq0aYPQ0FAkJibioYcegsPh8FO1wWnFihUYNGgQGjVqBEVRsGDBgn+8z/Lly9G1a1fY7Xa0bNkSc+bM8XmdEGSaP3++sNls4u233xbbt28Xd9xxh4iKihI5OTllHr9q1SqhaZp44YUXxI4dO8QTTzwhrFar2Lp1q58rDy5VfZxvvPFGMWPGDLFp0yaxc+dOMXLkSBEZGSn++OMPP1ceXKr6OJ+RmZkpEhISxEUXXSQGDx7sn2KDWFUf5+LiYtGtWzcxcOBAsXLlSpGZmSmWL18uNm/e7OfKg0tVH+f3339f2O128f7774vMzEzx3Xffifj4ePHQQw/5ufLgsmjRIvF///d/4vPPPxcAxBdffFHh8b///rsICwsTY8aMETt27BCvvfaa0DRNLF682Kd1Mrz8TWpqqhg9erT5va7rolGjRmLq1KllHn/dddeJyy+/vNRtaWlp4q677vJpncGuqo/z2dxutwgPDxdz5871VYk1giePs9vtFt27dxezZ88WI0aMYHiphKo+zjNnzhTNmzcXTqfTXyXWCFV9nEePHi0uueSSUreNGTNGXHjhhT6tsyapTHh57LHHRPv27Uvddv3114v+/fv7sDIh2G30F6fTiYyMDPTt29e8TVVV9O3bF2vWrCnzPmvWrCl1PAD079+/3OPJs8f5bIWFhXC5XIiOjvZVmUHP08f5qaeeQkxMDG677TZ/lBn0PHmcv/rqK6Snp2P06NGIjY1Fhw4d8Oyzz0LXdX+VHXQ8eZy7d++OjIwMs2vp999/x6JFizBw4EC/1FxbBOp9sMZtzOipP//8E7quIzY2ttTtsbGx2LVrV5n3yc7OLvP47Oxsn9UZ7Dx5nM/2+OOPo1GjRuf8wdD/ePI4r1y5Ev/973+xefNmP1RYM3jyOP/+++/48ccfcdNNN2HRokXYu3cv7rnnHrhcLkycONEfZQcdTx7nG2+8EX/++Sd69OgBIQTcbjfuvvtujB8/3h8l1xrlvQ/m5+ejqKgIoaGhPvm9vPJCQeW5557D/Pnz8cUXXyAkJCTQ5dQYBQUFGDZsGN566y00aNAg0OXUaIZhICYmBm+++SZSUlJw/fXX4//+7/8wa9asQJdWoyxfvhzPPvssXn/9dWzcuBGff/45vvnmG0yZMiXQpZEX8MrLXxo0aABN05CTk1Pq9pycHMTFxZV5n7i4uCodT549zmdMmzYNzz33HH744Qd06tTJl2UGvao+zvv27cP+/fsxaNAg8zbDMAAAFosFu3fvRosWLXxbdBDy5PkcHx8Pq9UKTdPM29q1a4fs7Gw4nU7YbDaf1hyMPHmcn3zySQwbNgy33347AKBjx444ffo07rzzTvzf//0fVJWf3b2hvPfBiIgIn111AXjlxWSz2ZCSkoKlS5eatxmGgaVLlyI9Pb3M+6Snp5c6HgCWLFlS7vHk2eMMAC+88AKmTJmCxYsXo1u3bv4oNahV9XFu27Yttm7dis2bN5tfV155JXr37o3NmzcjMTHRn+UHDU+ezxdeeCH27t1rhkMA+O233xAfH8/gUg5PHufCwsJzAsqZwCi4pZ/XBOx90KfDgYPM/Pnzhd1uF3PmzBE7duwQd955p4iKihLZ2dlCCCGGDRsmxo4dax6/atUqYbFYxLRp08TOnTvFxIkTOVW6Eqr6OD/33HPCZrOJTz/9VGRlZZlfBQUFgfonBIWqPs5n42yjyqnq43zw4EERHh4u7r33XrF7926xcOFCERMTI55++ulA/ROCQlUf54kTJ4rw8HDx4Ycfit9//118//33okWLFuK6664L1D8hKBQUFIhNmzaJTZs2CQDi5ZdfFps2bRIHDhwQQggxduxYMWzYMPP4M1OlH330UbFz504xY8YMTpUOhNdee000adJE2Gw2kZqaKtauXWv+rFevXmLEiBGljv/4449F69athc1mE+3btxfffPONnysOTlV5nJs2bSoAnPM1ceJE/xceZKr6fP47hpfKq+rjvHr1apGWlibsdrto3ry5eOaZZ4Tb7fZz1cGnKo+zy+USkyZNEi1atBAhISEiMTFR3HPPPeLEiRP+LzyILFu2rMzX2zOP7YgRI0SvXr3OuU/nzp2FzWYTzZs3F++8847P61SE4PUzIiIiCh4c80JERERBheGFiIiIggrDCxEREQUVhhciIiIKKgwvREREFFQYXoiIiCioMLwQERFRUGF4ISIioqDC8EJERERBheGFiIiIggrDCxEREQUVhhciIiIKKv8PMvi3MZYpNRkAAAAASUVORK5CYII=\n"
                },
                "metadata": {}
              }
            ]
          }
        },
        "72b298a2f2604934b778e21b6dbcfe13": {
          "model_module": "@jupyter-widgets/base",
          "model_name": "LayoutModel",
          "model_module_version": "1.2.0",
          "state": {
            "_model_module": "@jupyter-widgets/base",
            "_model_module_version": "1.2.0",
            "_model_name": "LayoutModel",
            "_view_count": null,
            "_view_module": "@jupyter-widgets/base",
            "_view_module_version": "1.2.0",
            "_view_name": "LayoutView",
            "align_content": null,
            "align_items": null,
            "align_self": null,
            "border": null,
            "bottom": null,
            "display": null,
            "flex": null,
            "flex_flow": null,
            "grid_area": null,
            "grid_auto_columns": null,
            "grid_auto_flow": null,
            "grid_auto_rows": null,
            "grid_column": null,
            "grid_gap": null,
            "grid_row": null,
            "grid_template_areas": null,
            "grid_template_columns": null,
            "grid_template_rows": null,
            "height": null,
            "justify_content": null,
            "justify_items": null,
            "left": null,
            "margin": null,
            "max_height": null,
            "max_width": null,
            "min_height": null,
            "min_width": null,
            "object_fit": null,
            "object_position": null,
            "order": null,
            "overflow": null,
            "overflow_x": null,
            "overflow_y": null,
            "padding": null,
            "right": null,
            "top": null,
            "visibility": null,
            "width": null
          }
        },
        "4578d47ddea849cf859d3fe7027ec21d": {
          "model_module": "@jupyter-widgets/base",
          "model_name": "LayoutModel",
          "model_module_version": "1.2.0",
          "state": {
            "_model_module": "@jupyter-widgets/base",
            "_model_module_version": "1.2.0",
            "_model_name": "LayoutModel",
            "_view_count": null,
            "_view_module": "@jupyter-widgets/base",
            "_view_module_version": "1.2.0",
            "_view_name": "LayoutView",
            "align_content": null,
            "align_items": null,
            "align_self": null,
            "border": null,
            "bottom": null,
            "display": null,
            "flex": null,
            "flex_flow": null,
            "grid_area": null,
            "grid_auto_columns": null,
            "grid_auto_flow": null,
            "grid_auto_rows": null,
            "grid_column": null,
            "grid_gap": null,
            "grid_row": null,
            "grid_template_areas": null,
            "grid_template_columns": null,
            "grid_template_rows": null,
            "height": null,
            "justify_content": null,
            "justify_items": null,
            "left": null,
            "margin": null,
            "max_height": null,
            "max_width": null,
            "min_height": null,
            "min_width": null,
            "object_fit": null,
            "object_position": null,
            "order": null,
            "overflow": null,
            "overflow_x": null,
            "overflow_y": null,
            "padding": null,
            "right": null,
            "top": null,
            "visibility": null,
            "width": null
          }
        },
        "31c22e42bb4e4e8f8ea9d9d1ccc0884a": {
          "model_module": "@jupyter-widgets/controls",
          "model_name": "SliderStyleModel",
          "model_module_version": "1.5.0",
          "state": {
            "_model_module": "@jupyter-widgets/controls",
            "_model_module_version": "1.5.0",
            "_model_name": "SliderStyleModel",
            "_view_count": null,
            "_view_module": "@jupyter-widgets/base",
            "_view_module_version": "1.2.0",
            "_view_name": "StyleView",
            "description_width": "",
            "handle_color": null
          }
        },
        "7b6406ccc6c548ff8f2e7ec8bb78313a": {
          "model_module": "@jupyter-widgets/base",
          "model_name": "LayoutModel",
          "model_module_version": "1.2.0",
          "state": {
            "_model_module": "@jupyter-widgets/base",
            "_model_module_version": "1.2.0",
            "_model_name": "LayoutModel",
            "_view_count": null,
            "_view_module": "@jupyter-widgets/base",
            "_view_module_version": "1.2.0",
            "_view_name": "LayoutView",
            "align_content": null,
            "align_items": null,
            "align_self": null,
            "border": null,
            "bottom": null,
            "display": null,
            "flex": null,
            "flex_flow": null,
            "grid_area": null,
            "grid_auto_columns": null,
            "grid_auto_flow": null,
            "grid_auto_rows": null,
            "grid_column": null,
            "grid_gap": null,
            "grid_row": null,
            "grid_template_areas": null,
            "grid_template_columns": null,
            "grid_template_rows": null,
            "height": null,
            "justify_content": null,
            "justify_items": null,
            "left": null,
            "margin": null,
            "max_height": null,
            "max_width": null,
            "min_height": null,
            "min_width": null,
            "object_fit": null,
            "object_position": null,
            "order": null,
            "overflow": null,
            "overflow_x": null,
            "overflow_y": null,
            "padding": null,
            "right": null,
            "top": null,
            "visibility": null,
            "width": null
          }
        },
        "015755b9a4a04229aaab1942d7488fec": {
          "model_module": "@jupyter-widgets/controls",
          "model_name": "VBoxModel",
          "model_module_version": "1.5.0",
          "state": {
            "_dom_classes": [
              "widget-interact"
            ],
            "_model_module": "@jupyter-widgets/controls",
            "_model_module_version": "1.5.0",
            "_model_name": "VBoxModel",
            "_view_count": null,
            "_view_module": "@jupyter-widgets/controls",
            "_view_module_version": "1.5.0",
            "_view_name": "VBoxView",
            "box_style": "",
            "children": [
              "IPY_MODEL_c45b8b809ced4274871cbe739905117f",
              "IPY_MODEL_27cba6e6bffa4802a53605b2c4686714"
            ],
            "layout": "IPY_MODEL_34cdd2d879f94acda266c2bfee1a5aa9"
          }
        },
        "c45b8b809ced4274871cbe739905117f": {
          "model_module": "@jupyter-widgets/controls",
          "model_name": "IntSliderModel",
          "model_module_version": "1.5.0",
          "state": {
            "_dom_classes": [],
            "_model_module": "@jupyter-widgets/controls",
            "_model_module_version": "1.5.0",
            "_model_name": "IntSliderModel",
            "_view_count": null,
            "_view_module": "@jupyter-widgets/controls",
            "_view_module_version": "1.5.0",
            "_view_name": "IntSliderView",
            "continuous_update": true,
            "description": "order",
            "description_tooltip": null,
            "disabled": false,
            "layout": "IPY_MODEL_9f342fa421b0421d8416c9baecb49ccc",
            "max": 9,
            "min": 0,
            "orientation": "horizontal",
            "readout": true,
            "readout_format": "d",
            "step": 1,
            "style": "IPY_MODEL_dcd99ea193bf42dca78856dac0b91c55",
            "value": 0
          }
        },
        "27cba6e6bffa4802a53605b2c4686714": {
          "model_module": "@jupyter-widgets/output",
          "model_name": "OutputModel",
          "model_module_version": "1.0.0",
          "state": {
            "_dom_classes": [],
            "_model_module": "@jupyter-widgets/output",
            "_model_module_version": "1.0.0",
            "_model_name": "OutputModel",
            "_view_count": null,
            "_view_module": "@jupyter-widgets/output",
            "_view_module_version": "1.0.0",
            "_view_name": "OutputView",
            "layout": "IPY_MODEL_79c68457e4be4db1a0e639ac185bcbc8",
            "msg_id": "",
            "outputs": [
              {
                "output_type": "display_data",
                "data": {
                  "text/plain": "<Figure size 640x480 with 1 Axes>",
                  "image/png": "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\n"
                },
                "metadata": {}
              }
            ]
          }
        },
        "34cdd2d879f94acda266c2bfee1a5aa9": {
          "model_module": "@jupyter-widgets/base",
          "model_name": "LayoutModel",
          "model_module_version": "1.2.0",
          "state": {
            "_model_module": "@jupyter-widgets/base",
            "_model_module_version": "1.2.0",
            "_model_name": "LayoutModel",
            "_view_count": null,
            "_view_module": "@jupyter-widgets/base",
            "_view_module_version": "1.2.0",
            "_view_name": "LayoutView",
            "align_content": null,
            "align_items": null,
            "align_self": null,
            "border": null,
            "bottom": null,
            "display": null,
            "flex": null,
            "flex_flow": null,
            "grid_area": null,
            "grid_auto_columns": null,
            "grid_auto_flow": null,
            "grid_auto_rows": null,
            "grid_column": null,
            "grid_gap": null,
            "grid_row": null,
            "grid_template_areas": null,
            "grid_template_columns": null,
            "grid_template_rows": null,
            "height": null,
            "justify_content": null,
            "justify_items": null,
            "left": null,
            "margin": null,
            "max_height": null,
            "max_width": null,
            "min_height": null,
            "min_width": null,
            "object_fit": null,
            "object_position": null,
            "order": null,
            "overflow": null,
            "overflow_x": null,
            "overflow_y": null,
            "padding": null,
            "right": null,
            "top": null,
            "visibility": null,
            "width": null
          }
        },
        "9f342fa421b0421d8416c9baecb49ccc": {
          "model_module": "@jupyter-widgets/base",
          "model_name": "LayoutModel",
          "model_module_version": "1.2.0",
          "state": {
            "_model_module": "@jupyter-widgets/base",
            "_model_module_version": "1.2.0",
            "_model_name": "LayoutModel",
            "_view_count": null,
            "_view_module": "@jupyter-widgets/base",
            "_view_module_version": "1.2.0",
            "_view_name": "LayoutView",
            "align_content": null,
            "align_items": null,
            "align_self": null,
            "border": null,
            "bottom": null,
            "display": null,
            "flex": null,
            "flex_flow": null,
            "grid_area": null,
            "grid_auto_columns": null,
            "grid_auto_flow": null,
            "grid_auto_rows": null,
            "grid_column": null,
            "grid_gap": null,
            "grid_row": null,
            "grid_template_areas": null,
            "grid_template_columns": null,
            "grid_template_rows": null,
            "height": null,
            "justify_content": null,
            "justify_items": null,
            "left": null,
            "margin": null,
            "max_height": null,
            "max_width": null,
            "min_height": null,
            "min_width": null,
            "object_fit": null,
            "object_position": null,
            "order": null,
            "overflow": null,
            "overflow_x": null,
            "overflow_y": null,
            "padding": null,
            "right": null,
            "top": null,
            "visibility": null,
            "width": null
          }
        },
        "dcd99ea193bf42dca78856dac0b91c55": {
          "model_module": "@jupyter-widgets/controls",
          "model_name": "SliderStyleModel",
          "model_module_version": "1.5.0",
          "state": {
            "_model_module": "@jupyter-widgets/controls",
            "_model_module_version": "1.5.0",
            "_model_name": "SliderStyleModel",
            "_view_count": null,
            "_view_module": "@jupyter-widgets/base",
            "_view_module_version": "1.2.0",
            "_view_name": "StyleView",
            "description_width": "",
            "handle_color": null
          }
        },
        "79c68457e4be4db1a0e639ac185bcbc8": {
          "model_module": "@jupyter-widgets/base",
          "model_name": "LayoutModel",
          "model_module_version": "1.2.0",
          "state": {
            "_model_module": "@jupyter-widgets/base",
            "_model_module_version": "1.2.0",
            "_model_name": "LayoutModel",
            "_view_count": null,
            "_view_module": "@jupyter-widgets/base",
            "_view_module_version": "1.2.0",
            "_view_name": "LayoutView",
            "align_content": null,
            "align_items": null,
            "align_self": null,
            "border": null,
            "bottom": null,
            "display": null,
            "flex": null,
            "flex_flow": null,
            "grid_area": null,
            "grid_auto_columns": null,
            "grid_auto_flow": null,
            "grid_auto_rows": null,
            "grid_column": null,
            "grid_gap": null,
            "grid_row": null,
            "grid_template_areas": null,
            "grid_template_columns": null,
            "grid_template_rows": null,
            "height": null,
            "justify_content": null,
            "justify_items": null,
            "left": null,
            "margin": null,
            "max_height": null,
            "max_width": null,
            "min_height": null,
            "min_width": null,
            "object_fit": null,
            "object_position": null,
            "order": null,
            "overflow": null,
            "overflow_x": null,
            "overflow_y": null,
            "padding": null,
            "right": null,
            "top": null,
            "visibility": null,
            "width": null
          }
        },
        "8fbc6b72d07a41a084e853200cdc5caf": {
          "model_module": "@jupyter-widgets/controls",
          "model_name": "VBoxModel",
          "model_module_version": "1.5.0",
          "state": {
            "_dom_classes": [
              "widget-interact"
            ],
            "_model_module": "@jupyter-widgets/controls",
            "_model_module_version": "1.5.0",
            "_model_name": "VBoxModel",
            "_view_count": null,
            "_view_module": "@jupyter-widgets/controls",
            "_view_module_version": "1.5.0",
            "_view_name": "VBoxView",
            "box_style": "",
            "children": [
              "IPY_MODEL_61799745dac24fe7ac3ea4dbc19a5693",
              "IPY_MODEL_ec751f6fbdfc4d49a6a66bd74ec0c909"
            ],
            "layout": "IPY_MODEL_89ca260b8844464eb4b42222cba01225"
          }
        },
        "61799745dac24fe7ac3ea4dbc19a5693": {
          "model_module": "@jupyter-widgets/controls",
          "model_name": "IntSliderModel",
          "model_module_version": "1.5.0",
          "state": {
            "_dom_classes": [],
            "_model_module": "@jupyter-widgets/controls",
            "_model_module_version": "1.5.0",
            "_model_name": "IntSliderModel",
            "_view_count": null,
            "_view_module": "@jupyter-widgets/controls",
            "_view_module_version": "1.5.0",
            "_view_name": "IntSliderView",
            "continuous_update": true,
            "description": "order",
            "description_tooltip": null,
            "disabled": false,
            "layout": "IPY_MODEL_72208c2984e74bff99283115d707586a",
            "max": 9,
            "min": 0,
            "orientation": "horizontal",
            "readout": true,
            "readout_format": "d",
            "step": 1,
            "style": "IPY_MODEL_8492c9cecfed4f61b3cce5672435c09d",
            "value": 0
          }
        },
        "ec751f6fbdfc4d49a6a66bd74ec0c909": {
          "model_module": "@jupyter-widgets/output",
          "model_name": "OutputModel",
          "model_module_version": "1.0.0",
          "state": {
            "_dom_classes": [],
            "_model_module": "@jupyter-widgets/output",
            "_model_module_version": "1.0.0",
            "_model_name": "OutputModel",
            "_view_count": null,
            "_view_module": "@jupyter-widgets/output",
            "_view_module_version": "1.0.0",
            "_view_name": "OutputView",
            "layout": "IPY_MODEL_65dcc40d472a45cbb138ea408c9d942b",
            "msg_id": "",
            "outputs": [
              {
                "output_type": "display_data",
                "data": {
                  "text/plain": "<Figure size 640x480 with 1 Axes>",
                  "image/png": "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\n"
                },
                "metadata": {}
              }
            ]
          }
        },
        "89ca260b8844464eb4b42222cba01225": {
          "model_module": "@jupyter-widgets/base",
          "model_name": "LayoutModel",
          "model_module_version": "1.2.0",
          "state": {
            "_model_module": "@jupyter-widgets/base",
            "_model_module_version": "1.2.0",
            "_model_name": "LayoutModel",
            "_view_count": null,
            "_view_module": "@jupyter-widgets/base",
            "_view_module_version": "1.2.0",
            "_view_name": "LayoutView",
            "align_content": null,
            "align_items": null,
            "align_self": null,
            "border": null,
            "bottom": null,
            "display": null,
            "flex": null,
            "flex_flow": null,
            "grid_area": null,
            "grid_auto_columns": null,
            "grid_auto_flow": null,
            "grid_auto_rows": null,
            "grid_column": null,
            "grid_gap": null,
            "grid_row": null,
            "grid_template_areas": null,
            "grid_template_columns": null,
            "grid_template_rows": null,
            "height": null,
            "justify_content": null,
            "justify_items": null,
            "left": null,
            "margin": null,
            "max_height": null,
            "max_width": null,
            "min_height": null,
            "min_width": null,
            "object_fit": null,
            "object_position": null,
            "order": null,
            "overflow": null,
            "overflow_x": null,
            "overflow_y": null,
            "padding": null,
            "right": null,
            "top": null,
            "visibility": null,
            "width": null
          }
        },
        "72208c2984e74bff99283115d707586a": {
          "model_module": "@jupyter-widgets/base",
          "model_name": "LayoutModel",
          "model_module_version": "1.2.0",
          "state": {
            "_model_module": "@jupyter-widgets/base",
            "_model_module_version": "1.2.0",
            "_model_name": "LayoutModel",
            "_view_count": null,
            "_view_module": "@jupyter-widgets/base",
            "_view_module_version": "1.2.0",
            "_view_name": "LayoutView",
            "align_content": null,
            "align_items": null,
            "align_self": null,
            "border": null,
            "bottom": null,
            "display": null,
            "flex": null,
            "flex_flow": null,
            "grid_area": null,
            "grid_auto_columns": null,
            "grid_auto_flow": null,
            "grid_auto_rows": null,
            "grid_column": null,
            "grid_gap": null,
            "grid_row": null,
            "grid_template_areas": null,
            "grid_template_columns": null,
            "grid_template_rows": null,
            "height": null,
            "justify_content": null,
            "justify_items": null,
            "left": null,
            "margin": null,
            "max_height": null,
            "max_width": null,
            "min_height": null,
            "min_width": null,
            "object_fit": null,
            "object_position": null,
            "order": null,
            "overflow": null,
            "overflow_x": null,
            "overflow_y": null,
            "padding": null,
            "right": null,
            "top": null,
            "visibility": null,
            "width": null
          }
        },
        "8492c9cecfed4f61b3cce5672435c09d": {
          "model_module": "@jupyter-widgets/controls",
          "model_name": "SliderStyleModel",
          "model_module_version": "1.5.0",
          "state": {
            "_model_module": "@jupyter-widgets/controls",
            "_model_module_version": "1.5.0",
            "_model_name": "SliderStyleModel",
            "_view_count": null,
            "_view_module": "@jupyter-widgets/base",
            "_view_module_version": "1.2.0",
            "_view_name": "StyleView",
            "description_width": "",
            "handle_color": null
          }
        },
        "65dcc40d472a45cbb138ea408c9d942b": {
          "model_module": "@jupyter-widgets/base",
          "model_name": "LayoutModel",
          "model_module_version": "1.2.0",
          "state": {
            "_model_module": "@jupyter-widgets/base",
            "_model_module_version": "1.2.0",
            "_model_name": "LayoutModel",
            "_view_count": null,
            "_view_module": "@jupyter-widgets/base",
            "_view_module_version": "1.2.0",
            "_view_name": "LayoutView",
            "align_content": null,
            "align_items": null,
            "align_self": null,
            "border": null,
            "bottom": null,
            "display": null,
            "flex": null,
            "flex_flow": null,
            "grid_area": null,
            "grid_auto_columns": null,
            "grid_auto_flow": null,
            "grid_auto_rows": null,
            "grid_column": null,
            "grid_gap": null,
            "grid_row": null,
            "grid_template_areas": null,
            "grid_template_columns": null,
            "grid_template_rows": null,
            "height": null,
            "justify_content": null,
            "justify_items": null,
            "left": null,
            "margin": null,
            "max_height": null,
            "max_width": null,
            "min_height": null,
            "min_width": null,
            "object_fit": null,
            "object_position": null,
            "order": null,
            "overflow": null,
            "overflow_x": null,
            "overflow_y": null,
            "padding": null,
            "right": null,
            "top": null,
            "visibility": null,
            "width": null
          }
        }
      }
    }
  },
  "nbformat": 4,
  "nbformat_minor": 0
}